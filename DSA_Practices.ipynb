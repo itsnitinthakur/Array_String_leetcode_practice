{
 "cells": [
  {
   "cell_type": "markdown",
   "metadata": {},
   "source": [
    "# Rotate array"
   ]
  },
  {
   "cell_type": "code",
   "execution_count": 1,
   "metadata": {},
   "outputs": [
    {
     "name": "stdout",
     "output_type": "stream",
     "text": [
      "1\n",
      "5 7\n",
      "6\n",
      "6\n"
     ]
    }
   ],
   "source": [
    "#code\n",
    "T = int(input())\n",
    "while (T!=0):\n",
    "    N,D = input().split()\n",
    "    c = int(D)\n",
    "    lst = [int(x) for x in input().split()]\n",
    "    s = lst[:c]\n",
    "    lst = lst[c:]\n",
    "    lst.extend(s)\n",
    "    print(*lst)\n",
    "    T-=1"
   ]
  },
  {
   "cell_type": "markdown",
   "metadata": {},
   "source": [
    "# LEADER IN ARRAY"
   ]
  },
  {
   "cell_type": "code",
   "execution_count": 3,
   "metadata": {},
   "outputs": [
    {
     "name": "stdout",
     "output_type": "stream",
     "text": [
      "7\n",
      "3 4 5 5 6 6 6\n"
     ]
    },
    {
     "ename": "ValueError",
     "evalue": "invalid literal for int() with base 10: '3 4 5 5 6 6 6'",
     "output_type": "error",
     "traceback": [
      "\u001b[1;31m---------------------------------------------------------------------------\u001b[0m",
      "\u001b[1;31mValueError\u001b[0m                                Traceback (most recent call last)",
      "\u001b[1;32m<ipython-input-3-62f636d2027d>\u001b[0m in \u001b[0;36m<module>\u001b[1;34m\u001b[0m\n\u001b[0;32m     41\u001b[0m \u001b[1;33m\u001b[0m\u001b[0m\n\u001b[0;32m     42\u001b[0m \u001b[1;32mif\u001b[0m \u001b[0m__name__\u001b[0m\u001b[1;33m==\u001b[0m\u001b[1;34m\"__main__\"\u001b[0m\u001b[1;33m:\u001b[0m\u001b[1;33m\u001b[0m\u001b[1;33m\u001b[0m\u001b[0m\n\u001b[1;32m---> 43\u001b[1;33m     \u001b[0mmain\u001b[0m\u001b[1;33m(\u001b[0m\u001b[1;33m)\u001b[0m\u001b[1;33m\u001b[0m\u001b[1;33m\u001b[0m\u001b[0m\n\u001b[0m\u001b[0;32m     44\u001b[0m \u001b[1;31m# } Driver Code Ends\u001b[0m\u001b[1;33m\u001b[0m\u001b[1;33m\u001b[0m\u001b[1;33m\u001b[0m\u001b[0m\n",
      "\u001b[1;32m<ipython-input-3-62f636d2027d>\u001b[0m in \u001b[0;36mmain\u001b[1;34m()\u001b[0m\n\u001b[0;32m     28\u001b[0m \u001b[1;33m\u001b[0m\u001b[0m\n\u001b[0;32m     29\u001b[0m \u001b[1;33m\u001b[0m\u001b[0m\n\u001b[1;32m---> 30\u001b[1;33m         \u001b[0mN\u001b[0m\u001b[1;33m=\u001b[0m\u001b[0mint\u001b[0m\u001b[1;33m(\u001b[0m\u001b[0minput\u001b[0m\u001b[1;33m(\u001b[0m\u001b[1;33m)\u001b[0m\u001b[1;33m)\u001b[0m\u001b[1;33m\u001b[0m\u001b[1;33m\u001b[0m\u001b[0m\n\u001b[0m\u001b[0;32m     31\u001b[0m \u001b[1;33m\u001b[0m\u001b[0m\n\u001b[0;32m     32\u001b[0m         \u001b[0mA\u001b[0m\u001b[1;33m=\u001b[0m\u001b[1;33m[\u001b[0m\u001b[0mint\u001b[0m\u001b[1;33m(\u001b[0m\u001b[0mx\u001b[0m\u001b[1;33m)\u001b[0m \u001b[1;32mfor\u001b[0m \u001b[0mx\u001b[0m \u001b[1;32min\u001b[0m \u001b[0minput\u001b[0m\u001b[1;33m(\u001b[0m\u001b[1;33m)\u001b[0m\u001b[1;33m.\u001b[0m\u001b[0mstrip\u001b[0m\u001b[1;33m(\u001b[0m\u001b[1;33m)\u001b[0m\u001b[1;33m.\u001b[0m\u001b[0msplit\u001b[0m\u001b[1;33m(\u001b[0m\u001b[1;33m)\u001b[0m\u001b[1;33m]\u001b[0m\u001b[1;33m\u001b[0m\u001b[1;33m\u001b[0m\u001b[0m\n",
      "\u001b[1;31mValueError\u001b[0m: invalid literal for int() with base 10: '3 4 5 5 6 6 6'"
     ]
    }
   ],
   "source": [
    "\n",
    "def leaders(A,N):\n",
    "    ans=[]\n",
    "    ans.append(A[-1])\n",
    "    x=A[-1]\n",
    "    for i in reversed(range(N-1)):\n",
    "        if A[i]>=x:\n",
    "            ans.append(A[i])\n",
    "            x=A[i]\n",
    "    return ans[::-1]\n",
    "    \n",
    "    #Your code here\n",
    "\n",
    "\n",
    "\n",
    "#{ \n",
    "#  Driver Code Starts\n",
    "#Initial Template for Python 3\n",
    "\n",
    "import math\n",
    "\n",
    "\n",
    "    \n",
    "def main():\n",
    "    \n",
    "    T=int(input())\n",
    "    \n",
    "    while(T>0):\n",
    "        \n",
    "        \n",
    "        N=int(input())\n",
    "        \n",
    "        A=[int(x) for x in input().strip().split()]\n",
    "        \n",
    "        A=leaders(A,N)\n",
    "        \n",
    "        for i in A:\n",
    "            print(i,end=\" \")\n",
    "        print()\n",
    "        \n",
    "        T-=1\n",
    "\n",
    "if __name__==\"__main__\":\n",
    "    main()\n",
    "# } Driver Code Ends"
   ]
  },
  {
   "cell_type": "code",
   "execution_count": 11,
   "metadata": {},
   "outputs": [],
   "source": [
    "class Solution:\n",
    "    def removeDuplicates(self, nums):\n",
    "        \"\"\"\n",
    "        :type nums: List[int]\n",
    "        :rtype: int\n",
    "        \"\"\"\n",
    "        len_ = 1\n",
    "        if len(nums)==0:\n",
    "            return 0\n",
    "        for i in range(1,len(nums)):\n",
    "            if nums[i] != nums[i-1]:\n",
    "                nums[len_] = nums[i]for \n",
    "                len_ +=1\n",
    "        return len_\n",
    "nums = [2,3,4,5,5,6,6]"
   ]
  },
  {
   "cell_type": "code",
   "execution_count": 12,
   "metadata": {},
   "outputs": [],
   "source": [
    "class Solution:\n",
    "    # @param A : tuple of integers\n",
    "    # @return an integer\n",
    "    def repeatedNumber(self, A):\n",
    "        sumOfList = sum(A)\n",
    "        n = len(A)\n",
    "        sumOfRange = int(n * (n + 1) / 2) - n\n",
    "        return sumOfList - sumOfRange\n",
    "        "
   ]
  },
  {
   "cell_type": "code",
   "execution_count": 13,
   "metadata": {},
   "outputs": [],
   "source": [
    "import math\n",
    "\n",
    "class Solution:\n",
    "    # @param A : tuple of integers\n",
    "    # @return an integer\n",
    "    def repeatedNumber(self, A):\n",
    "        total_buckets = int(math.ceil(math.sqrt(len(A) - 1)))\n",
    "\n",
    "        bucket_size = math.ceil((len(A)) / total_buckets)\n",
    "        buckets = [0 for i in range(total_buckets)]\n",
    "        investigate = -1\n",
    "    \n",
    "        for i in range(len(A)):\n",
    "            sqrt_i = (A[i] - 1) // bucket_size\n",
    "            buckets[sqrt_i] += 1\n",
    "            if buckets[sqrt_i] > bucket_size:\n",
    "                investigate = sqrt_i\n",
    "                break\n",
    "        \n",
    "        # If sqrt(len(A) - 1) is not a perfect square, then the last bucket should\n",
    "        # have less than bucket_size elements.\n",
    "        last_index_len = abs(max(A) - (total_buckets - 1) * bucket_size)\n",
    "        if last_index_len > 0:\n",
    "            if buckets[-1] > last_index_len:\n",
    "                investigate = len(buckets) - 1\n",
    "    \n",
    "        if investigate > -1:\n",
    "            num_freq = {key: 0 for key in range(investigate * bucket_size + 1, (investigate + 1) * bucket_size + 1)}\n",
    "    \n",
    "            for e in A:\n",
    "                if e in num_freq:\n",
    "                    num_freq[e] += 1\n",
    "                    if num_freq[e] > 1:\n",
    "                        return e\n",
    "    \n",
    "        return -1\n",
    "            \n"
   ]
  },
  {
   "cell_type": "code",
   "execution_count": 1,
   "metadata": {},
   "outputs": [
    {
     "ename": "IndentationError",
     "evalue": "expected an indented block (<ipython-input-1-950b77ed280f>, line 4)",
     "output_type": "error",
     "traceback": [
      "\u001b[1;36m  File \u001b[1;32m\"<ipython-input-1-950b77ed280f>\"\u001b[1;36m, line \u001b[1;32m4\u001b[0m\n\u001b[1;33m    def repeatedNumber(self, A):\u001b[0m\n\u001b[1;37m    ^\u001b[0m\n\u001b[1;31mIndentationError\u001b[0m\u001b[1;31m:\u001b[0m expected an indented block\n"
     ]
    }
   ],
   "source": [
    "class Solution:\n",
    "# @param A : tuple of integers\n",
    "# @return an intege\n",
    "def repeatedNumber(self, A):\n",
    "    B=sorted(A)\n",
    "    l=len(B)\n",
    "    for i in range(l):\n",
    "        if (B[i]==B[i+1]):\n",
    "            return B[i]\n",
    "        else:\n",
    "            return 0"
   ]
  },
  {
   "cell_type": "code",
   "execution_count": 12,
   "metadata": {},
   "outputs": [
    {
     "name": "stdout",
     "output_type": "stream",
     "text": [
      "Enter a number:10\n",
      "cube= 1000.0\n"
     ]
    }
   ],
   "source": [
    "num = float(input('Enter a number:'))\n",
    "print('cube=', num**3)"
   ]
  },
  {
   "cell_type": "code",
   "execution_count": 13,
   "metadata": {},
   "outputs": [
    {
     "data": {
      "text/plain": [
       "1"
      ]
     },
     "execution_count": 13,
     "metadata": {},
     "output_type": "execute_result"
    }
   ],
   "source": [
    "121%10"
   ]
  },
  {
   "cell_type": "code",
   "execution_count": 14,
   "metadata": {},
   "outputs": [
    {
     "data": {
      "text/plain": [
       "2"
      ]
     },
     "execution_count": 14,
     "metadata": {},
     "output_type": "execute_result"
    }
   ],
   "source": [
    "12%10"
   ]
  },
  {
   "cell_type": "code",
   "execution_count": 15,
   "metadata": {},
   "outputs": [
    {
     "data": {
      "text/plain": [
       "1"
      ]
     },
     "execution_count": 15,
     "metadata": {},
     "output_type": "execute_result"
    }
   ],
   "source": [
    "1%10"
   ]
  },
  {
   "cell_type": "code",
   "execution_count": 18,
   "metadata": {},
   "outputs": [
    {
     "data": {
      "text/plain": [
       "12"
      ]
     },
     "execution_count": 18,
     "metadata": {},
     "output_type": "execute_result"
    }
   ],
   "source": [
    "121//10"
   ]
  },
  {
   "cell_type": "code",
   "execution_count": 19,
   "metadata": {},
   "outputs": [
    {
     "data": {
      "text/plain": [
       "121"
      ]
     },
     "execution_count": 19,
     "metadata": {},
     "output_type": "execute_result"
    }
   ],
   "source": [
    "abs(-121)"
   ]
  },
  {
   "cell_type": "code",
   "execution_count": 20,
   "metadata": {},
   "outputs": [
    {
     "data": {
      "text/plain": [
       "3"
      ]
     },
     "execution_count": 20,
     "metadata": {},
     "output_type": "execute_result"
    }
   ],
   "source": [
    "t = str(121)\n",
    "len(t)"
   ]
  },
  {
   "cell_type": "code",
   "execution_count": 21,
   "metadata": {},
   "outputs": [],
   "source": [
    "class Solution:\n",
    "    def isPalindrome(self, x: int) -> bool:\n",
    "        rev=0\n",
    "        rev1=0\n",
    "        a=0\n",
    "        q=0\n",
    "        r=0\n",
    "        z =abs(x)\n",
    "        t = str(z)\n",
    "        n = len(t)\n",
    "        if (x<0) and str(x)!=t:\n",
    "            return False\n",
    "        else:\n",
    "            for i in range(5):\n",
    "                r = z%10\n",
    "                q = n-i+1\n",
    "                a = 10**q\n",
    "                rev1= r*a\n",
    "                rev+=rev1\n",
    "                z//=z\n",
    "                i+=1\n",
    "            if str(rev) ==t:\n",
    "                return True"
   ]
  },
  {
   "cell_type": "code",
   "execution_count": 26,
   "metadata": {},
   "outputs": [],
   "source": [
    "x=121\n",
    "rev=0\n",
    "rev=0\n",
    "rev1=0\n",
    "a=0\n",
    "q=0\n",
    "r=0\n",
    "z =abs(x)\n",
    "t = str(z)\n",
    "n = len(t)\n",
    "if (x<0) and str(x)!=t:\n",
    "    print(\"False\")\n",
    "else:\n",
    "    for i in range(5):\n",
    "        r = z%10\n",
    "        q = n-i+1\n",
    "        a = 10**q\n",
    "        rev1= r*a\n",
    "        rev+=rev1\n",
    "        z//=z\n",
    "        i+=1\n",
    "    if str(rev) ==t:\n",
    "        print(\"True\")"
   ]
  },
  {
   "cell_type": "code",
   "execution_count": 27,
   "metadata": {},
   "outputs": [],
   "source": [
    "class Solution:\n",
    "    def isPalindrome(self, x: int) -> bool:\n",
    "        if x > 0:\n",
    "            temp = x\n",
    "            rev_int_elements = []\n",
    "            while temp > 0:\n",
    "                digit = temp % 10\n",
    "                rev_int_elements.append(digit)\n",
    "                temp = temp // 10\n",
    "            org_int_elements = rev_int_elements[::-1]\n",
    "            return rev_int_elements == org_int_elements\n",
    "        elif x == 0:\n",
    "            return True\n",
    "        else:\n",
    "            return False"
   ]
  },
  {
   "cell_type": "code",
   "execution_count": 3,
   "metadata": {},
   "outputs": [
    {
     "ename": "IndentationError",
     "evalue": "unexpected indent (<ipython-input-3-3ec6440584fc>, line 4)",
     "output_type": "error",
     "traceback": [
      "\u001b[1;36m  File \u001b[1;32m\"<ipython-input-3-3ec6440584fc>\"\u001b[1;36m, line \u001b[1;32m4\u001b[0m\n\u001b[1;33m    res = mapping[s[0]]\u001b[0m\n\u001b[1;37m    ^\u001b[0m\n\u001b[1;31mIndentationError\u001b[0m\u001b[1;31m:\u001b[0m unexpected indent\n"
     ]
    }
   ],
   "source": [
    "s =IV\n",
    "mapping = {'I': 1, 'V': 5, 'X': 10, 'L': 50, 'C': 100, 'D': 500, 'M': 1000}\n",
    "        \n",
    "        res = mapping[s[0]]\n",
    "        for i in range(1, len(s)):\n",
    "            res += mapping[s[i]]\n",
    "            if mapping[s[i - 1]] < mapping[s[i]]:\n",
    "                res -= 2 * mapping[s[i - 1]]\n",
    "        \n",
    "        return res"
   ]
  },
  {
   "cell_type": "markdown",
   "metadata": {},
   "source": [
    "# MAP FUNCTION IN PYTHON"
   ]
  },
  {
   "cell_type": "code",
   "execution_count": 36,
   "metadata": {},
   "outputs": [
    {
     "name": "stdout",
     "output_type": "stream",
     "text": [
      "[2, 2, 2, 2]\n"
     ]
    }
   ],
   "source": [
    "def addition(n):\n",
    "    return 2*n\n",
    "\n",
    "numbers = (1,1,1,1)\n",
    "result = map(addition, numbers)\n",
    "print(list(result))"
   ]
  },
  {
   "cell_type": "code",
   "execution_count": 41,
   "metadata": {},
   "outputs": [
    {
     "name": "stdout",
     "output_type": "stream",
     "text": [
      "[2, 4, 6, 8]\n"
     ]
    }
   ],
   "source": [
    "numbers = (1,2,3,4)\n",
    "result = map(lambda x: x+x, numbers)\n",
    "print(list(result))"
   ]
  },
  {
   "cell_type": "code",
   "execution_count": 39,
   "metadata": {},
   "outputs": [
    {
     "name": "stdout",
     "output_type": "stream",
     "text": [
      "[5, 7, 9]\n"
     ]
    }
   ],
   "source": [
    "numbers1 = [1,2,3]\n",
    "numbers2 = [4,5,6]\n",
    "result = map(lambda x, y: x+y, numbers1, numbers2)\n",
    "print(list(result))"
   ]
  },
  {
   "cell_type": "code",
   "execution_count": 42,
   "metadata": {},
   "outputs": [
    {
     "name": "stdout",
     "output_type": "stream",
     "text": [
      "[['s', 'a', 't'], ['b', 'a', 't'], ['c', 'a', 't'], ['m', 'a', 't']]\n"
     ]
    }
   ],
   "source": [
    "\n",
    "# List of strings\n",
    "l = ['sat', 'bat', 'cat', 'mat']\n",
    "  \n",
    "# map() can listify the list of strings individually\n",
    "test = list(map(list, l))\n",
    "print(test)"
   ]
  },
  {
   "cell_type": "code",
   "execution_count": 43,
   "metadata": {},
   "outputs": [
    {
     "name": "stdout",
     "output_type": "stream",
     "text": [
      "Sum of ASCII values:\n",
      "73 206 97 412\n",
      "Total Sum ->  788\n"
     ]
    }
   ],
   "source": [
    "# Function to find sums of ASCII values of each\n",
    "# word in a sentence in\n",
    "\n",
    "def asciiSums(sentence):\n",
    "\n",
    "\t# split words separated by space\n",
    "\twords = sentence.split(' ')\n",
    "\n",
    "\t# create empty dictionary\n",
    "\tresult = {}\n",
    "\n",
    "\t# calculate sum of ascii values of each word\n",
    "\tfor word in words:\n",
    "\t\tcurrentSum = sum(map(ord,word))\n",
    "\n",
    "\t\t# map sum and word into resultant dictionary\n",
    "\t\tresult[word] = currentSum\n",
    "\n",
    "\ttotalSum = 0\n",
    "\n",
    "\t# iterate list of splited words in order to print\n",
    "\t# sum of ascii values of each word sequentially\n",
    "\tsumsOfAscii = [result[word] for word in words]\n",
    "\tprint ('Sum of ASCII values:')\n",
    "\tprint (' '.join(map(str,sumsOfAscii)))\n",
    "\tprint ('Total Sum -> ',sum(sumsOfAscii))\n",
    "\n",
    "# Driver program\n",
    "if __name__ == \"__main__\":\n",
    "\tsentence = 'I am a geek'\n",
    "\tasciiSums(sentence)\n"
   ]
  },
  {
   "cell_type": "code",
   "execution_count": 44,
   "metadata": {},
   "outputs": [
    {
     "name": "stdout",
     "output_type": "stream",
     "text": [
      "2\n"
     ]
    }
   ],
   "source": [
    "# Function to find the row with maximum number of 1's\n",
    "def maxOnes(input):\n",
    "\n",
    "\t# map sum function on each row of\n",
    "\t# given matrix\n",
    "\t# it will return list of sum of all one's\n",
    "\t# in each row, then find index of maximum element\n",
    "\tresult = list(map(sum,input))\n",
    "\tprint (result.index(max(result)))\n",
    "\n",
    "# Driver program\n",
    "if __name__ == \"__main__\":\n",
    "\tinput = [[0, 1, 1, 1],[0, 0, 1, 1],[1, 1, 1, 1],[0, 0, 0, 0]]\n",
    "\tmaxOnes(input)\n"
   ]
  },
  {
   "cell_type": "code",
   "execution_count": 45,
   "metadata": {},
   "outputs": [
    {
     "name": "stdout",
     "output_type": "stream",
     "text": [
      "13\n"
     ]
    }
   ],
   "source": [
    "# Function to Count total set bits in all numbers\n",
    "# from 1 to n\n",
    "\n",
    "# user defined function\n",
    "def countSetBit(num):\n",
    "\n",
    "\t# convert decimal value into binary and\n",
    "\t# count all 1's in it\n",
    "\tbinary = bin(num)\n",
    "\n",
    "\treturn len([ch for ch in binary if ch=='1'])\n",
    "\n",
    "# function which count set bits in each number\n",
    "def countSetBitAll(input):\n",
    "\t\n",
    "\t# map count function on each number\n",
    "\tprint (sum(map(countSetBit,input)))\n",
    "\n",
    "# Driver program\n",
    "if __name__ == \"__main__\":\n",
    "\tn = 8\n",
    "\tinput=[]\n",
    "\tfor i in range(1,n+1):\n",
    "\t\tinput.append(i)\n",
    "\tcountSetBitAll(input)\n"
   ]
  },
  {
   "cell_type": "code",
   "execution_count": 46,
   "metadata": {},
   "outputs": [
    {
     "name": "stdout",
     "output_type": "stream",
     "text": [
      "[3, 7, 11, 15]\n"
     ]
    }
   ],
   "source": [
    "# Python program to demonstrate\n",
    "# passing of multiple iterable arguments to map()\n",
    "# using 2 lists\n",
    "\n",
    "# Function which return sum of 2 numbers\n",
    "def sum(a,b):\n",
    "\treturn a+b\n",
    "\n",
    "# list 1\n",
    "lst1=[2,4,6,8]\n",
    "\n",
    "# list 2\n",
    "lst2=[1,3,5,7,9]\n",
    "\n",
    "\n",
    "result=list(map(sum,lst1,lst2))\n",
    "print(result)\n"
   ]
  },
  {
   "cell_type": "code",
   "execution_count": 47,
   "metadata": {},
   "outputs": [
    {
     "name": "stdout",
     "output_type": "stream",
     "text": [
      "[4, 36, 150, 392, 990, 1716, 3570]\n"
     ]
    }
   ],
   "source": [
    "# Python program to demonstrate\n",
    "# passing of multiple iterable arguments to map()\n",
    "# using 3 lists\n",
    "\n",
    "# Function which return product of 2 numbers\n",
    "def Multiply(a,b,c):\n",
    "\treturn a*b*c\n",
    "\n",
    "# list 1\n",
    "lst1=[2,4,6,8,10,12,14,16]\n",
    "\n",
    "# list 2\n",
    "lst2=[1,3,5,7,9,11,15]\n",
    "\n",
    "#list 3\n",
    "lst3=[2,3,5,7,11,13,17]\n",
    "\n",
    "\n",
    "result=list(map(Multiply,lst1,lst2,lst3))\n",
    "print(result)\n"
   ]
  },
  {
   "cell_type": "code",
   "execution_count": 48,
   "metadata": {},
   "outputs": [
    {
     "name": "stdout",
     "output_type": "stream",
     "text": [
      "[1.0, 1.3333333333333333, 1.2, 1.1428571428571428, 1.1111111111111112, 1.0909090909090908]\n"
     ]
    }
   ],
   "source": [
    "# Python program to demonstrate\n",
    "# passing of multiple iterable arguments to map()\n",
    "# using list and tuple\n",
    "\n",
    "# Function which perform division of 2 numbers\n",
    "def division(a,b):\n",
    "\treturn a/b\n",
    "\n",
    "# list\n",
    "lst=[2,4,6,8,10,12,14,16]\n",
    "\n",
    "# tuple\n",
    "tup=(2,3,5,7,9,11)\n",
    "\n",
    "result=list(map(division,lst,tup))\n",
    "print(result)\n"
   ]
  },
  {
   "cell_type": "code",
   "execution_count": 5,
   "metadata": {},
   "outputs": [
    {
     "name": "stdout",
     "output_type": "stream",
     "text": [
      "<map object at 0x000001B597C5DE50>\n"
     ]
    }
   ],
   "source": [
    "def myfunc(a, b):\n",
    "  return a + b\n",
    "\n",
    "x = map(myfunc, ('apple', 'banana', 'cherry'), ('orange', 'lemon', 'pineapple'))\n",
    "print(x)"
   ]
  },
  {
   "cell_type": "code",
   "execution_count": 60,
   "metadata": {},
   "outputs": [
    {
     "data": {
      "text/plain": [
       "[7, 2, 4, 6]"
      ]
     },
     "execution_count": 60,
     "metadata": {},
     "output_type": "execute_result"
    }
   ],
   "source": [
    "numbers = [-2, -1, 0, 1, 2]\n",
    "\n",
    "abs_values = list(map(abs, numbers))\n",
    "abs_values\n",
    "\n",
    "\n",
    "list(map(float, numbers))\n",
    "\n",
    "\n",
    "words = [\"Welcome\", \"to\", \"Real\", \"Python\"]\n",
    "\n",
    "list(map(len, words))"
   ]
  },
  {
   "cell_type": "code",
   "execution_count": 61,
   "metadata": {},
   "outputs": [
    {
     "data": {
      "text/plain": [
       "[1, 32, 729]"
      ]
     },
     "execution_count": 61,
     "metadata": {},
     "output_type": "execute_result"
    }
   ],
   "source": [
    "first_it = [1, 2, 3]\n",
    "second_it = [4, 5, 6, 7]\n",
    "\n",
    "list(map(pow, first_it, second_it))\n"
   ]
  },
  {
   "cell_type": "code",
   "execution_count": 62,
   "metadata": {},
   "outputs": [
    {
     "data": {
      "text/plain": [
       "[10, 15]"
      ]
     },
     "execution_count": 62,
     "metadata": {},
     "output_type": "execute_result"
    }
   ],
   "source": [
    "list(map(lambda x, y: x - y, [2, 4, 6], [1, 3, 5]))\n",
    "\n",
    "\n",
    "list(map(lambda x, y, z: x + y + z, [2, 4], [1, 3], [7, 8]))"
   ]
  },
  {
   "cell_type": "code",
   "execution_count": 63,
   "metadata": {},
   "outputs": [
    {
     "data": {
      "text/plain": [
       "['processing', 'strings', 'with', 'map']"
      ]
     },
     "execution_count": 63,
     "metadata": {},
     "output_type": "execute_result"
    }
   ],
   "source": [
    "string_it = [\"processing\", \"strings\", \"with\", \"map\"]\n",
    "list(map(str.capitalize, string_it))\n",
    "\n",
    "\n",
    "list(map(str.upper, string_it))\n",
    "\n",
    "\n",
    "list(map(str.lower, string_it))\n"
   ]
  },
  {
   "cell_type": "code",
   "execution_count": 64,
   "metadata": {},
   "outputs": [
    {
     "data": {
      "text/plain": [
       "['processing', 'strings', 'with', 'map']"
      ]
     },
     "execution_count": 64,
     "metadata": {},
     "output_type": "execute_result"
    }
   ],
   "source": [
    "with_spaces = [\"processing \", \"  strings\", \"with   \", \" map   \"]\n",
    "\n",
    "list(map(str.strip, with_spaces))"
   ]
  },
  {
   "cell_type": "code",
   "execution_count": 65,
   "metadata": {},
   "outputs": [
    {
     "data": {
      "text/plain": [
       "['processing', 'strings', 'with', 'map']"
      ]
     },
     "execution_count": 65,
     "metadata": {},
     "output_type": "execute_result"
    }
   ],
   "source": [
    "with_dots = [\"processing..\", \"...strings\", \"with....\", \"..map..\"]\n",
    "\n",
    "list(map(lambda s: s.strip(\".\"), with_dots))"
   ]
  },
  {
   "cell_type": "code",
   "execution_count": 66,
   "metadata": {},
   "outputs": [
    {
     "data": {
      "text/plain": [
       "'Python'"
      ]
     },
     "execution_count": 66,
     "metadata": {},
     "output_type": "execute_result"
    }
   ],
   "source": [
    "import re\n",
    "\n",
    "def remove_punctuation(word):\n",
    "    return re.sub(r'[!?.:;,\"()-]', \"\", word)\n",
    "\n",
    "remove_punctuation(\"...Python!\")"
   ]
  },
  {
   "cell_type": "code",
   "execution_count": 67,
   "metadata": {},
   "outputs": [
    {
     "data": {
      "text/plain": [
       "['Some',\n",
       " 'people',\n",
       " 'when',\n",
       " 'confronted',\n",
       " 'with',\n",
       " 'a',\n",
       " 'problem',\n",
       " 'think',\n",
       " 'I',\n",
       " 'know',\n",
       " \"I'll\",\n",
       " 'use',\n",
       " 'regular',\n",
       " 'expressions',\n",
       " 'Now',\n",
       " 'they',\n",
       " 'have',\n",
       " 'two',\n",
       " 'problems',\n",
       " 'Jamie',\n",
       " 'Zawinski']"
      ]
     },
     "execution_count": 67,
     "metadata": {},
     "output_type": "execute_result"
    }
   ],
   "source": [
    "text = \"\"\"Some people, when confronted with a problem, think\n",
    "\"I know, I'll use regular expressions.\"\n",
    "Now they have two problems. Jamie Zawinski\"\"\"\n",
    "\n",
    "words = text.split()\n",
    "words\n",
    "\n",
    "\n",
    "\n",
    "\n",
    "list(map(remove_punctuation, words))"
   ]
  },
  {
   "cell_type": "code",
   "execution_count": 68,
   "metadata": {},
   "outputs": [
    {
     "data": {
      "text/plain": [
       "[(1, 1), (4, 8), (9, 27), (16, 64)]"
      ]
     },
     "execution_count": 68,
     "metadata": {},
     "output_type": "execute_result"
    }
   ],
   "source": [
    "def powers(x):\n",
    "    return x ** 2, x ** 3\n",
    "\n",
    "\n",
    "numbers = [1, 2, 3, 4]\n",
    "\n",
    "list(map(powers, numbers))"
   ]
  },
  {
   "cell_type": "code",
   "execution_count": 69,
   "metadata": {},
   "outputs": [
    {
     "data": {
      "text/plain": [
       "[1, 2, 6, 24, 120, 720, 5040]"
      ]
     },
     "execution_count": 69,
     "metadata": {},
     "output_type": "execute_result"
    }
   ],
   "source": [
    "import math\n",
    "\n",
    "numbers = [1, 2, 3, 4, 5, 6, 7]\n",
    "\n",
    "list(map(math.factorial, numbers))"
   ]
  },
  {
   "cell_type": "code",
   "execution_count": 70,
   "metadata": {},
   "outputs": [],
   "source": [
    "def to_fahrenheit(c):\n",
    "    return 9 / 5 * c + 32\n",
    "\n",
    "def to_celsius(f):\n",
    "    return (f - 32) * 5 / 9"
   ]
  },
  {
   "cell_type": "code",
   "execution_count": 71,
   "metadata": {},
   "outputs": [
    {
     "data": {
      "text/plain": [
       "[100.0, 40.0, 80.0]"
      ]
     },
     "execution_count": 71,
     "metadata": {},
     "output_type": "execute_result"
    }
   ],
   "source": [
    "celsius_temps = [100, 40, 80]\n",
    "# Convert to Fahrenheit\n",
    "list(map(to_fahrenheit, celsius_temps))\n",
    "\n",
    "\n",
    "fahr_temps = [212, 104, 176]\n",
    "# Convert to Celsius\n",
    "list(map(to_celsius, fahr_temps))"
   ]
  },
  {
   "cell_type": "code",
   "execution_count": 72,
   "metadata": {},
   "outputs": [
    {
     "data": {
      "text/plain": [
       "[12, 3, -15]"
      ]
     },
     "execution_count": 72,
     "metadata": {},
     "output_type": "execute_result"
    }
   ],
   "source": [
    "# Convert to floating-point\n",
    "list(map(float, [\"12.3\", \"3.3\", \"-15.2\"]))\n",
    "\n",
    "\n",
    "# Convert to integer\n",
    "list(map(int, [\"12\", \"3\", \"-15\"]))"
   ]
  },
  {
   "cell_type": "code",
   "execution_count": 73,
   "metadata": {},
   "outputs": [
    {
     "data": {
      "text/plain": [
       "[12.3, 3.3, -15.2, nan]"
      ]
     },
     "execution_count": 73,
     "metadata": {},
     "output_type": "execute_result"
    }
   ],
   "source": [
    "def to_float(number):\n",
    "    try:\n",
    "        return float(number.replace(\",\", \".\"))\n",
    "    except ValueError:\n",
    "        return float(\"nan\")\n",
    "\n",
    "\n",
    "list(map(to_float, [\"12.3\", \"3,3\", \"-15.2\", \"One\"]))"
   ]
  },
  {
   "cell_type": "code",
   "execution_count": 75,
   "metadata": {},
   "outputs": [
    {
     "data": {
      "text/plain": [
       "[5.0, 3.0, 9.0, 0.0]"
      ]
     },
     "execution_count": 75,
     "metadata": {},
     "output_type": "execute_result"
    }
   ],
   "source": [
    "\n",
    "import math\n",
    "\n",
    "def is_positive(num):\n",
    "    return num >= 0\n",
    "\n",
    "\n",
    "def sanitized_sqrt(numbers):\n",
    "    cleaned_iter = map(math.sqrt, filter(is_positive, numbers))\n",
    "    return list(cleaned_iter)\n",
    "\n",
    "\n",
    "sanitized_sqrt([25, 9, 81, -16, 0])\n"
   ]
  },
  {
   "cell_type": "markdown",
   "metadata": {},
   "source": [
    "## STARMAP()"
   ]
  },
  {
   "cell_type": "code",
   "execution_count": 78,
   "metadata": {},
   "outputs": [],
   "source": [
    "def starmap(function, iterable):\n",
    "    for args in iterable:\n",
    "        yield function(*args)"
   ]
  },
  {
   "cell_type": "code",
   "execution_count": 79,
   "metadata": {},
   "outputs": [
    {
     "ename": "TypeError",
     "evalue": "ord() takes exactly one argument (2 given)",
     "output_type": "error",
     "traceback": [
      "\u001b[1;31m---------------------------------------------------------------------------\u001b[0m",
      "\u001b[1;31mTypeError\u001b[0m                                 Traceback (most recent call last)",
      "\u001b[1;32m<ipython-input-79-72be6acc739c>\u001b[0m in \u001b[0;36m<module>\u001b[1;34m\u001b[0m\n\u001b[0;32m      4\u001b[0m \u001b[1;33m\u001b[0m\u001b[0m\n\u001b[0;32m      5\u001b[0m \u001b[1;33m\u001b[0m\u001b[0m\n\u001b[1;32m----> 6\u001b[1;33m \u001b[0mlist\u001b[0m\u001b[1;33m(\u001b[0m\u001b[0mstarmap\u001b[0m\u001b[1;33m(\u001b[0m\u001b[0mord\u001b[0m\u001b[1;33m,\u001b[0m \u001b[1;33m[\u001b[0m\u001b[1;33m(\u001b[0m\u001b[1;36m2\u001b[0m\u001b[1;33m,\u001b[0m \u001b[1;36m7\u001b[0m\u001b[1;33m)\u001b[0m\u001b[1;33m,\u001b[0m \u001b[1;33m(\u001b[0m\u001b[1;36m4\u001b[0m\u001b[1;33m,\u001b[0m \u001b[1;36m3\u001b[0m\u001b[1;33m)\u001b[0m\u001b[1;33m]\u001b[0m\u001b[1;33m)\u001b[0m\u001b[1;33m)\u001b[0m\u001b[1;33m\u001b[0m\u001b[1;33m\u001b[0m\u001b[0m\n\u001b[0m",
      "\u001b[1;31mTypeError\u001b[0m: ord() takes exactly one argument (2 given)"
     ]
    }
   ],
   "source": [
    "from itertools import starmap\n",
    "\n",
    "list(starmap(pow, [(2, 7), (4, 3)]))\n",
    "\n",
    "\n",
    "list(starmap(ord, [(2, 7), (4, 3)]))"
   ]
  },
  {
   "cell_type": "code",
   "execution_count": 80,
   "metadata": {},
   "outputs": [
    {
     "data": {
      "text/plain": [
       "[16, 343]"
      ]
     },
     "execution_count": 80,
     "metadata": {},
     "output_type": "execute_result"
    }
   ],
   "source": [
    "list(map(pow, (2, 7), (4, 3)))\n"
   ]
  },
  {
   "cell_type": "code",
   "execution_count": 81,
   "metadata": {},
   "outputs": [
    {
     "data": {
      "text/plain": [
       "[128, 64]"
      ]
     },
     "execution_count": 81,
     "metadata": {},
     "output_type": "execute_result"
    }
   ],
   "source": [
    "list(map(pow, (2, 4), (7, 3)))"
   ]
  },
  {
   "cell_type": "code",
   "execution_count": 82,
   "metadata": {},
   "outputs": [
    {
     "data": {
      "text/plain": [
       "[1, 4, 9, 16, 25, 36]"
      ]
     },
     "execution_count": 82,
     "metadata": {},
     "output_type": "execute_result"
    }
   ],
   "source": [
    "# Transformation function\n",
    "def square(number):\n",
    "    return number ** 2\n",
    "\n",
    "numbers = [1, 2, 3, 4, 5, 6]\n",
    "\n",
    "# Using map()\n",
    "list(map(square, numbers))\n",
    "\n",
    "\n",
    "# Using a list comprehension\n",
    "[square(x) for x in numbers]"
   ]
  },
  {
   "cell_type": "code",
   "execution_count": 83,
   "metadata": {},
   "outputs": [],
   "source": [
    "class Solution:\n",
    "    def romanToInt(self, s: str) -> int:\n",
    "        result = 0\n",
    "        romanDict = {\"I\": 1, \"V\": 5, \"X\": 10, \"L\": 50, \"C\": 100, \"D\": 500, \"M\": 1000}\n",
    "        s = list(s)\n",
    "        \n",
    "        while len(s) > 0:\n",
    "            cur = s.pop(0)\n",
    "            if len(s) > 0 and romanDict[s[0]] > romanDict[cur]:\n",
    "                result += romanDict[s[0]] - romanDict[cur]\n",
    "                s.pop(0)\n",
    "            else:\n",
    "                result += romanDict[cur]\n",
    "                \n",
    "        return result"
   ]
  },
  {
   "cell_type": "code",
   "execution_count": 86,
   "metadata": {},
   "outputs": [
    {
     "name": "stdout",
     "output_type": "stream",
     "text": [
      "[1, 2, 3, 4]\n"
     ]
    }
   ],
   "source": [
    "class Solution:\n",
    "    def wave(self, A):\n",
    "        A.sort()\n",
    "        for i in range(1, len(A), 2):\n",
    "            temp = A[i]\n",
    "            A[i] = A[i-1]\n",
    "            A[i-1] = temp\n",
    "        return A\n",
    "A = [1,2,3,4]\n",
    "print(A)"
   ]
  },
  {
   "cell_type": "code",
   "execution_count": 88,
   "metadata": {},
   "outputs": [
    {
     "ename": "IndentationError",
     "evalue": "unindent does not match any outer indentation level (<tokenize>, line 3)",
     "output_type": "error",
     "traceback": [
      "\u001b[1;36m  File \u001b[1;32m\"<tokenize>\"\u001b[1;36m, line \u001b[1;32m3\u001b[0m\n\u001b[1;33m    return 0\u001b[0m\n\u001b[1;37m    ^\u001b[0m\n\u001b[1;31mIndentationError\u001b[0m\u001b[1;31m:\u001b[0m unindent does not match any outer indentation level\n"
     ]
    }
   ],
   "source": [
    "if(str(A)==str(A)[::-1]):\n",
    "            return 1\n",
    "        return 0"
   ]
  },
  {
   "cell_type": "code",
   "execution_count": 1,
   "metadata": {},
   "outputs": [],
   "source": [
    "class K:\n",
    "    def __init__(self, obj, *args):\n",
    "        self.obj = obj\n",
    "    def __lt__(self, other):\n",
    "        return '%d%d'%(self.obj,other.obj) < '%d%d'%(other.obj,self.obj)\n",
    "\n",
    "\n",
    "class Solution:\n",
    "    # @param A : tuple of integers\n",
    "    # @return a strings\n",
    "    def largestNumber(self, A):\n",
    "        \"\"\"B=[]\n",
    "        C=[]\n",
    "        s1=\"\"\n",
    "        l=len(str((max(A))))\n",
    "        for i in A:\n",
    "            s=\"\"\n",
    "            l1=len(str(i))\n",
    "            if(l1<l):\n",
    "                s=s+str(i)+(l-l1)*str(i)[l1-1]\n",
    "            else:\n",
    "                s=s+str(i)\n",
    "            B.append(int(s))\n",
    "        for i in B:\n",
    "            C.append(i)\n",
    "        while(len(B)>0):\n",
    "            m=max(B)\n",
    "            n=C.index(m)\n",
    "            s1=s1+str(A[n])\n",
    "            B.remove(m)\n",
    "        if(int(s1)==0):\n",
    "            return 0\n",
    "        else:\n",
    "            return s1\"\"\"\n",
    "        A = sorted(A, key=K, reverse=True)\n",
    "        return str(int(''.join([str(s) for s in A])))\n",
    "\n"
   ]
  },
  {
   "cell_type": "code",
   "execution_count": 2,
   "metadata": {},
   "outputs": [],
   "source": [
    "from functools import cmp_to_key\n",
    "\n",
    "class Solution:\n",
    "\t# @param A : tuple of integers\n",
    "\t# @return a strings\n",
    "\tdef largestNumber(self, A):\n",
    "\t    ''' When comparing numbers we must pick the one leading\n",
    "\t        to the best concatenated result:\n",
    "\t        787978 > 787879  so 7879 is 'bigger' than 78\n",
    "\t                    but     7879 is 'less' than 788\n",
    "\t    '''\n",
    "\t    \n",
    "\t    # Convert to string once, for proper comparison a+b vs b+a\n",
    "\t    A = map(str, A)\n",
    "\t    key = cmp_to_key(lambda a,b: 1 if a+b >= b+a else -1)\n",
    "\t    res = ''.join(sorted(A, key= key, reverse=True))\n",
    "\t    # Must left trim 0, apparently\n",
    "\t    res = res.lstrip('0')\n",
    "\t    return res if res else '0'"
   ]
  },
  {
   "cell_type": "code",
   "execution_count": null,
   "metadata": {},
   "outputs": [],
   "source": [
    "if len(strs) == 0:\n",
    "            return \"\"\n",
    "    \n",
    "    \tlongest_common_prefix = \"\"\n",
    "        \n",
    "        for letter_index in range(len(min(strs, key=len))):\n",
    "            letter_of_first_string = strs[0][letter_index]\n",
    "            \n",
    "            all_same_letters = True\n",
    "            for item in strs:\n",
    "                if letter_of_first_string != item[letter_index]:\n",
    "                    all_same_letters = False\n",
    "\t\t\t\n",
    "            if all_same_letters:\n",
    "            \tlongest_common_prefix += letter_of_first_string\n",
    "            else:\n",
    "            \treturn longest_common_prefix\n",
    "        return longest_common_prefix"
   ]
  },
  {
   "cell_type": "code",
   "execution_count": 3,
   "metadata": {},
   "outputs": [
    {
     "ename": "NameError",
     "evalue": "name 'List' is not defined",
     "output_type": "error",
     "traceback": [
      "\u001b[1;31m---------------------------------------------------------------------------\u001b[0m",
      "\u001b[1;31mNameError\u001b[0m                                 Traceback (most recent call last)",
      "\u001b[1;32m<ipython-input-3-c40b006cadb6>\u001b[0m in \u001b[0;36m<module>\u001b[1;34m\u001b[0m\n\u001b[1;32m----> 1\u001b[1;33m \u001b[1;32mclass\u001b[0m \u001b[0mSolution\u001b[0m\u001b[1;33m:\u001b[0m\u001b[1;33m\u001b[0m\u001b[1;33m\u001b[0m\u001b[0m\n\u001b[0m\u001b[0;32m      2\u001b[0m     \u001b[1;32mdef\u001b[0m \u001b[0mlongestCommonPrefix\u001b[0m\u001b[1;33m(\u001b[0m\u001b[0mself\u001b[0m\u001b[1;33m,\u001b[0m \u001b[0mstrs\u001b[0m\u001b[1;33m:\u001b[0m \u001b[0mList\u001b[0m\u001b[1;33m[\u001b[0m\u001b[0mstr\u001b[0m\u001b[1;33m]\u001b[0m\u001b[1;33m)\u001b[0m \u001b[1;33m->\u001b[0m \u001b[0mstr\u001b[0m\u001b[1;33m:\u001b[0m\u001b[1;33m\u001b[0m\u001b[1;33m\u001b[0m\u001b[0m\n\u001b[0;32m      3\u001b[0m         \u001b[1;32mdef\u001b[0m \u001b[0mlongestPrefix\u001b[0m\u001b[1;33m(\u001b[0m\u001b[0mprefix\u001b[0m\u001b[1;33m)\u001b[0m\u001b[1;33m:\u001b[0m\u001b[1;33m\u001b[0m\u001b[1;33m\u001b[0m\u001b[0m\n\u001b[0;32m      4\u001b[0m             \u001b[1;32mreturn\u001b[0m \u001b[0mall\u001b[0m\u001b[1;33m(\u001b[0m\u001b[0mword\u001b[0m\u001b[1;33m.\u001b[0m\u001b[0mstartswith\u001b[0m\u001b[1;33m(\u001b[0m\u001b[0mprefix\u001b[0m\u001b[1;33m)\u001b[0m \u001b[1;32mfor\u001b[0m \u001b[0mword\u001b[0m \u001b[1;32min\u001b[0m \u001b[0mstrs\u001b[0m\u001b[1;33m)\u001b[0m\u001b[1;33m\u001b[0m\u001b[1;33m\u001b[0m\u001b[0m\n\u001b[0;32m      5\u001b[0m \u001b[1;33m\u001b[0m\u001b[0m\n",
      "\u001b[1;32m<ipython-input-3-c40b006cadb6>\u001b[0m in \u001b[0;36mSolution\u001b[1;34m()\u001b[0m\n\u001b[0;32m      1\u001b[0m \u001b[1;32mclass\u001b[0m \u001b[0mSolution\u001b[0m\u001b[1;33m:\u001b[0m\u001b[1;33m\u001b[0m\u001b[1;33m\u001b[0m\u001b[0m\n\u001b[1;32m----> 2\u001b[1;33m     \u001b[1;32mdef\u001b[0m \u001b[0mlongestCommonPrefix\u001b[0m\u001b[1;33m(\u001b[0m\u001b[0mself\u001b[0m\u001b[1;33m,\u001b[0m \u001b[0mstrs\u001b[0m\u001b[1;33m:\u001b[0m \u001b[0mList\u001b[0m\u001b[1;33m[\u001b[0m\u001b[0mstr\u001b[0m\u001b[1;33m]\u001b[0m\u001b[1;33m)\u001b[0m \u001b[1;33m->\u001b[0m \u001b[0mstr\u001b[0m\u001b[1;33m:\u001b[0m\u001b[1;33m\u001b[0m\u001b[1;33m\u001b[0m\u001b[0m\n\u001b[0m\u001b[0;32m      3\u001b[0m         \u001b[1;32mdef\u001b[0m \u001b[0mlongestPrefix\u001b[0m\u001b[1;33m(\u001b[0m\u001b[0mprefix\u001b[0m\u001b[1;33m)\u001b[0m\u001b[1;33m:\u001b[0m\u001b[1;33m\u001b[0m\u001b[1;33m\u001b[0m\u001b[0m\n\u001b[0;32m      4\u001b[0m             \u001b[1;32mreturn\u001b[0m \u001b[0mall\u001b[0m\u001b[1;33m(\u001b[0m\u001b[0mword\u001b[0m\u001b[1;33m.\u001b[0m\u001b[0mstartswith\u001b[0m\u001b[1;33m(\u001b[0m\u001b[0mprefix\u001b[0m\u001b[1;33m)\u001b[0m \u001b[1;32mfor\u001b[0m \u001b[0mword\u001b[0m \u001b[1;32min\u001b[0m \u001b[0mstrs\u001b[0m\u001b[1;33m)\u001b[0m\u001b[1;33m\u001b[0m\u001b[1;33m\u001b[0m\u001b[0m\n\u001b[0;32m      5\u001b[0m \u001b[1;33m\u001b[0m\u001b[0m\n",
      "\u001b[1;31mNameError\u001b[0m: name 'List' is not defined"
     ]
    }
   ],
   "source": [
    "class Solution:\n",
    "    def longestCommonPrefix(self, strs: List[str]) -> str:\n",
    "        def longestPrefix(prefix):\n",
    "            return all(word.startswith(prefix) for word in strs)\n",
    "        \n",
    "        if strs==[]:\n",
    "            return ''    \n",
    "        shortestWord=strs[0]\n",
    "        for word in strs[1:]:\n",
    "            if len(word)<len(shortestWord):\n",
    "                shortestWord=word\n",
    "        longestPrefixString=shortestWord\n",
    "        while len(longestPrefixString)>=0:\n",
    "            if longestPrefix(longestPrefixString)==True:\n",
    "                return longestPrefixString\n",
    "            else:\n",
    "                longestPrefixString=longestPrefixString[:-1]\n",
    "        "
   ]
  },
  {
   "cell_type": "markdown",
   "metadata": {},
   "source": [
    "## Merge two sorted linked lists and return it as a sorted list. \n",
    "## The list should be made by splicing together the nodes of the first two lists.\n",
    "\n",
    "\n",
    "Example 1:\n",
    "\n",
    "\n",
    "Input: l1 = [1,2,4], l2 = [1,3,4]\n",
    "Output: [1,1,2,3,4,4]\n",
    "Example 2:\n",
    "\n",
    "Input: l1 = [], l2 = []\n",
    "Output: []\n",
    "Example 3:\n",
    "\n",
    "Input: l1 = [], l2 = [0]\n",
    "Output: [0]\n",
    " "
   ]
  },
  {
   "cell_type": "markdown",
   "metadata": {},
   "source": [
    "# Linked list and  Merge sort"
   ]
  },
  {
   "cell_type": "code",
   "execution_count": 4,
   "metadata": {},
   "outputs": [
    {
     "ename": "NameError",
     "evalue": "name 'ListNode' is not defined",
     "output_type": "error",
     "traceback": [
      "\u001b[1;31m---------------------------------------------------------------------------\u001b[0m",
      "\u001b[1;31mNameError\u001b[0m                                 Traceback (most recent call last)",
      "\u001b[1;32m<ipython-input-4-69fadb754293>\u001b[0m in \u001b[0;36m<module>\u001b[1;34m\u001b[0m\n\u001b[0;32m      4\u001b[0m \u001b[1;31m#         self.val = val\u001b[0m\u001b[1;33m\u001b[0m\u001b[1;33m\u001b[0m\u001b[1;33m\u001b[0m\u001b[0m\n\u001b[0;32m      5\u001b[0m \u001b[1;31m#         self.next = next\u001b[0m\u001b[1;33m\u001b[0m\u001b[1;33m\u001b[0m\u001b[1;33m\u001b[0m\u001b[0m\n\u001b[1;32m----> 6\u001b[1;33m \u001b[1;32mclass\u001b[0m \u001b[0mSolution\u001b[0m\u001b[1;33m:\u001b[0m\u001b[1;33m\u001b[0m\u001b[1;33m\u001b[0m\u001b[0m\n\u001b[0m\u001b[0;32m      7\u001b[0m     \u001b[1;32mdef\u001b[0m \u001b[0mmergeTwoLists\u001b[0m\u001b[1;33m(\u001b[0m\u001b[0mself\u001b[0m\u001b[1;33m,\u001b[0m \u001b[0ml1\u001b[0m\u001b[1;33m:\u001b[0m \u001b[0mListNode\u001b[0m\u001b[1;33m,\u001b[0m \u001b[0ml2\u001b[0m\u001b[1;33m:\u001b[0m \u001b[0mListNode\u001b[0m\u001b[1;33m)\u001b[0m \u001b[1;33m->\u001b[0m \u001b[0mListNode\u001b[0m\u001b[1;33m:\u001b[0m\u001b[1;33m\u001b[0m\u001b[1;33m\u001b[0m\u001b[0m\n\u001b[0;32m      8\u001b[0m         \u001b[0mhead\u001b[0m \u001b[1;33m=\u001b[0m \u001b[0mcur\u001b[0m \u001b[1;33m=\u001b[0m \u001b[0mListNode\u001b[0m\u001b[1;33m(\u001b[0m\u001b[1;36m0\u001b[0m\u001b[1;33m)\u001b[0m\u001b[1;33m\u001b[0m\u001b[1;33m\u001b[0m\u001b[0m\n",
      "\u001b[1;32m<ipython-input-4-69fadb754293>\u001b[0m in \u001b[0;36mSolution\u001b[1;34m()\u001b[0m\n\u001b[0;32m      5\u001b[0m \u001b[1;31m#         self.next = next\u001b[0m\u001b[1;33m\u001b[0m\u001b[1;33m\u001b[0m\u001b[1;33m\u001b[0m\u001b[0m\n\u001b[0;32m      6\u001b[0m \u001b[1;32mclass\u001b[0m \u001b[0mSolution\u001b[0m\u001b[1;33m:\u001b[0m\u001b[1;33m\u001b[0m\u001b[1;33m\u001b[0m\u001b[0m\n\u001b[1;32m----> 7\u001b[1;33m     \u001b[1;32mdef\u001b[0m \u001b[0mmergeTwoLists\u001b[0m\u001b[1;33m(\u001b[0m\u001b[0mself\u001b[0m\u001b[1;33m,\u001b[0m \u001b[0ml1\u001b[0m\u001b[1;33m:\u001b[0m \u001b[0mListNode\u001b[0m\u001b[1;33m,\u001b[0m \u001b[0ml2\u001b[0m\u001b[1;33m:\u001b[0m \u001b[0mListNode\u001b[0m\u001b[1;33m)\u001b[0m \u001b[1;33m->\u001b[0m \u001b[0mListNode\u001b[0m\u001b[1;33m:\u001b[0m\u001b[1;33m\u001b[0m\u001b[1;33m\u001b[0m\u001b[0m\n\u001b[0m\u001b[0;32m      8\u001b[0m         \u001b[0mhead\u001b[0m \u001b[1;33m=\u001b[0m \u001b[0mcur\u001b[0m \u001b[1;33m=\u001b[0m \u001b[0mListNode\u001b[0m\u001b[1;33m(\u001b[0m\u001b[1;36m0\u001b[0m\u001b[1;33m)\u001b[0m\u001b[1;33m\u001b[0m\u001b[1;33m\u001b[0m\u001b[0m\n\u001b[0;32m      9\u001b[0m \u001b[1;33m\u001b[0m\u001b[0m\n",
      "\u001b[1;31mNameError\u001b[0m: name 'ListNode' is not defined"
     ]
    }
   ],
   "source": [
    "# Definition for singly-linked list.\n",
    "# class ListNode:\n",
    "#     def __init__(self, val=0, next=None):\n",
    "#         self.val = val\n",
    "#         self.next = next\n",
    "class Solution:\n",
    "    def mergeTwoLists(self, l1: ListNode, l2: ListNode) -> ListNode:\n",
    "        head = cur = ListNode(0)\n",
    "        \n",
    "        while l1 or l2:\n",
    "            if not l1:\n",
    "                cur.next = l2\n",
    "                return head.next\n",
    "            if not l2:\n",
    "                cur.next = l1\n",
    "                return head.next\n",
    "            \n",
    "            if l2.val < l1.val:\n",
    "                cur.next = ListNode(l2.val)\n",
    "                l2 = l2.next if l2 else None\n",
    "            else:\n",
    "                cur.next = ListNode(l1.val)\n",
    "                l1 = l1.next if l1 else None\n",
    "                \n",
    "            cur = cur.next\n",
    "        return head.next"
   ]
  },
  {
   "cell_type": "code",
   "execution_count": null,
   "metadata": {},
   "outputs": [],
   "source": []
  },
  {
   "cell_type": "code",
   "execution_count": null,
   "metadata": {},
   "outputs": [],
   "source": [
    "def mergeTwoLists(self, l1: ListNode, l2: ListNode) -> ListNode:\n",
    "        \n",
    "        if not l1 and not l2: return\n",
    "        if not l1: return l2\n",
    "        if not l2: return l1\n",
    "\n",
    "        c1, c2 = l1, l2\n",
    "        l3 = None\n",
    "        \n",
    "        if c1.val <= c2.val:\n",
    "            l3 = ListNode(c1.val)\n",
    "            c1 = c1.next\n",
    "        else:\n",
    "            l3 = ListNode(c2.val)\n",
    "            c2 = c2.next\n",
    "        \n",
    "        c3 = l3\n",
    "        while c1 and c2:\n",
    "            if c1.val <= c2.val:\n",
    "                c3.next = ListNode(c1.val)\n",
    "                c1 = c1.next\n",
    "            else:\n",
    "                c3.next = ListNode(c2.val)\n",
    "                c2 = c2.next\n",
    "            c3 = c3.next\n",
    "        \n",
    "        if not c1:\n",
    "            c3.next = c2\n",
    "        else:\n",
    "            c3.next = c1\n",
    "        return l3"
   ]
  },
  {
   "cell_type": "code",
   "execution_count": null,
   "metadata": {},
   "outputs": [],
   "source": [
    "def mergeTwoLists(self, l1: ListNode, l2: ListNode) -> ListNode:\n",
    "        \n",
    "        if not l1 and not l2: return\n",
    "        if not l1: return l2\n",
    "        if not l2: return l1\n",
    "\n",
    "        c1, c2 = l1, l2\n",
    "        s1 = s2 = 0\n",
    "        l3 = None\n",
    "\n",
    "        while c1:\n",
    "            s1 += 1\n",
    "            c1 = c1.next\n",
    "\n",
    "        while c2:\n",
    "            s2 += 1\n",
    "            c2 = c2.next\n",
    "\n",
    "        c1, c2 = l1, l2\n",
    "        \n",
    "        if s2 < s1:\n",
    "            c1, c2 = c2, c1\n",
    "        \n",
    "        if c1.val <= c2.val:\n",
    "            l3 = ListNode(c1.val)\n",
    "            c1 = c1.next\n",
    "        else:\n",
    "            l3 = ListNode(c2.val)\n",
    "            c2 = c2.next\n",
    "        \n",
    "        c3 = l3\n",
    "        while c1 and c2:\n",
    "            if c1.val <= c2.val:\n",
    "                c3.next = ListNode(c1.val)\n",
    "                c1 = c1.next\n",
    "            else:\n",
    "                c3.next = ListNode(c2.val)\n",
    "                c2 = c2.next\n",
    "            c3 = c3.next\n",
    "        \n",
    "        if not c1:\n",
    "            c3.next = c2\n",
    "        else:\n",
    "            c3.next = c1\n",
    "        return l3"
   ]
  },
  {
   "cell_type": "code",
   "execution_count": 6,
   "metadata": {},
   "outputs": [],
   "source": [
    "class Solution:\n",
    "    # @param A : integer\n",
    "    # @param B : integer\n",
    "    # @return an integer\n",
    "    def gcd(self, A, B):\n",
    "        if B>A:\n",
    "            A, B = B, A\n",
    "        while B!=0:\n",
    "            temp = B\n",
    "            B = A%B\n",
    "            A = temp\n",
    "        return A"
   ]
  },
  {
   "cell_type": "code",
   "execution_count": 7,
   "metadata": {},
   "outputs": [],
   "source": [
    "class Solution:\n",
    "    # @param A : integer\n",
    "    # @param B : integer\n",
    "    # @return an integer\n",
    "    def gcd(self, A, B):\n",
    "        if A==0:\n",
    "            return B\n",
    "        if B==0:\n",
    "            return A\n",
    "        def factors(C):\n",
    "            import math\n",
    "            L = []\n",
    "            for x in range(1,int(math.sqrt(C)) +1):\n",
    "                if (C%x)==0:\n",
    "                    L.append(x)\n",
    "                    L.append(int(C/x))\n",
    "            L = set(L)\n",
    "            L = list(L)\n",
    "            L.sort()\n",
    "            L.reverse()\n",
    "            return L\n",
    "        a = factors(A)\n",
    "        b = factors(B)\n",
    "        temp = a\n",
    "        temp1 = b\n",
    "        if len(a) > len(b):\n",
    "            temp = b\n",
    "            temp1 = a\n",
    "        result = 1\n",
    "        for x in temp:\n",
    "            if x in temp1 and x > result:\n",
    "                result = x\n",
    "        return result"
   ]
  },
  {
   "cell_type": "code",
   "execution_count": 8,
   "metadata": {},
   "outputs": [
    {
     "data": {
      "text/plain": [
       "6"
      ]
     },
     "execution_count": 8,
     "metadata": {},
     "output_type": "execute_result"
    }
   ],
   "source": [
    "6%9"
   ]
  },
  {
   "cell_type": "markdown",
   "metadata": {},
   "source": [
    "###### "
   ]
  },
  {
   "cell_type": "code",
   "execution_count": 9,
   "metadata": {},
   "outputs": [
    {
     "data": {
      "text/plain": [
       "0"
      ]
     },
     "execution_count": 9,
     "metadata": {},
     "output_type": "execute_result"
    }
   ],
   "source": [
    "6%6"
   ]
  },
  {
   "cell_type": "code",
   "execution_count": 10,
   "metadata": {},
   "outputs": [
    {
     "data": {
      "text/plain": [
       "3"
      ]
     },
     "execution_count": 10,
     "metadata": {},
     "output_type": "execute_result"
    }
   ],
   "source": [
    "9%6\n"
   ]
  },
  {
   "cell_type": "markdown",
   "metadata": {},
   "source": [
    "# valid Parenthesis"
   ]
  },
  {
   "cell_type": "code",
   "execution_count": 1,
   "metadata": {},
   "outputs": [],
   "source": [
    "class Solution(object):\n",
    "    def isValid(self, s):\n",
    "        \"\"\"\n",
    "        :type s: str\n",
    "        :rtype: bool\n",
    "        \"\"\"\n",
    "\n",
    "        # The stack to keep track of opening brackets.\n",
    "        stack = []\n",
    "\n",
    "        # Hash map for keeping track of mappings. This keeps the code very clean.\n",
    "        # Also makes adding more types of parenthesis easier\n",
    "        mapping = {\")\": \"(\", \"}\": \"{\", \"]\": \"[\"}\n",
    "\n",
    "        # For every bracket in the expression.\n",
    "        for char in s:\n",
    "\n",
    "            # If the character is an closing bracket\n",
    "            if char in mapping:\n",
    "\n",
    "                # Pop the topmost element from the stack, if it is non empty\n",
    "                # Otherwise assign a dummy value of '#' to the top_element variable\n",
    "                top_element = stack.pop() if stack else '#'\n",
    "\n",
    "                # The mapping for the opening bracket in our hash and the top\n",
    "                # element of the stack don't match, return False\n",
    "                if mapping[char] != top_element:\n",
    "                    return False\n",
    "            else:\n",
    "                # We have an opening bracket, simply push it onto the stack.\n",
    "                stack.append(char)\n",
    "\n",
    "        # In the end, if the stack is empty, then we have a valid expression.\n",
    "        # The stack won't be empty for cases like ((()\n",
    "        return not stack"
   ]
  },
  {
   "cell_type": "code",
   "execution_count": 2,
   "metadata": {},
   "outputs": [],
   "source": [
    "def isValid(self, s):\n",
    "    bracket_map = {\"(\": \")\", \"[\": \"]\",  \"{\": \"}\"}\n",
    "    open_par = set([\"(\", \"[\", \"{\"])\n",
    "    stack = []\n",
    "    for i in s:\n",
    "        if i in open_par:\n",
    "            stack.append(i)\n",
    "        elif stack and i == bracket_map[stack[-1]]:\n",
    "                stack.pop()\n",
    "        else:\n",
    "            return False\n",
    "    return stack == []"
   ]
  },
  {
   "cell_type": "code",
   "execution_count": 3,
   "metadata": {},
   "outputs": [],
   "source": [
    "class Solution(object):\n",
    "    def isValid(self, s):\n",
    "        while \"()\" in s or \"{}\" in s or '[]' in s:\n",
    "            s = s.replace(\"()\", \"\").replace('{}', \"\").replace('[]', \"\")\n",
    "        return s == ''"
   ]
  },
  {
   "cell_type": "markdown",
   "metadata": {},
   "source": [
    "# Remove elements"
   ]
  },
  {
   "cell_type": "code",
   "execution_count": 6,
   "metadata": {},
   "outputs": [],
   "source": [
    "class Solution:\n",
    "    def removeElement(self, nums, val) -> int:\n",
    "        length = len(nums)\n",
    "        i = 0\n",
    "        while length > i:\n",
    "            if nums[i] == val:\n",
    "                del nums[i]\n",
    "                length -= 1\n",
    "            else:\n",
    "                i +=1\n",
    "        return len(nums)"
   ]
  },
  {
   "cell_type": "code",
   "execution_count": 7,
   "metadata": {},
   "outputs": [],
   "source": [
    "class Solution:\n",
    "    def strStr(self, haystack: str, needle: str) -> int:\n",
    "        return haystack.find(needle)"
   ]
  },
  {
   "cell_type": "code",
   "execution_count": 8,
   "metadata": {},
   "outputs": [
    {
     "ename": "TabError",
     "evalue": "inconsistent use of tabs and spaces in indentation (<ipython-input-8-30eda6d7a06f>, line 13)",
     "output_type": "error",
     "traceback": [
      "\u001b[1;36m  File \u001b[1;32m\"<ipython-input-8-30eda6d7a06f>\"\u001b[1;36m, line \u001b[1;32m13\u001b[0m\n\u001b[1;33m    if haystack[x] == needle[0]:\u001b[0m\n\u001b[1;37m                                ^\u001b[0m\n\u001b[1;31mTabError\u001b[0m\u001b[1;31m:\u001b[0m inconsistent use of tabs and spaces in indentation\n"
     ]
    }
   ],
   "source": [
    "class Solution(object):\n",
    "    def strStr(self, haystack, needle):\n",
    "        \n",
    "        if needle == \"\" or haystack == needle:\n",
    "            return 0\n",
    "        \n",
    "        elif len(needle) > len(haystack):\n",
    "            return -1\n",
    "        \n",
    "        for i in range(len(haystack)-len(needle) + 1):\n",
    "            x = i\n",
    "            y = 0\n",
    "\t\t\tif haystack[x] == needle[0]:\n",
    "\t\t\t\tfor j in range(len(needle)):\n",
    "\t\t\t\t\tif haystack[x] == needle[j]:\n",
    "\t\t\t\t\t\ty += 1\n",
    "\t\t\t\t\t\tx += 1\n",
    "\t\t\t\t\t\tif y == len(needle):\n",
    "\t\t\t\t\t\t\treturn i\n",
    "\t\t\t\t\telse:\n",
    "\t\t\t\t\t\tbreak  \n",
    "        return -1"
   ]
  },
  {
   "cell_type": "code",
   "execution_count": 9,
   "metadata": {},
   "outputs": [
    {
     "ename": "TabError",
     "evalue": "inconsistent use of tabs and spaces in indentation (<ipython-input-9-30eda6d7a06f>, line 13)",
     "output_type": "error",
     "traceback": [
      "\u001b[1;36m  File \u001b[1;32m\"<ipython-input-9-30eda6d7a06f>\"\u001b[1;36m, line \u001b[1;32m13\u001b[0m\n\u001b[1;33m    if haystack[x] == needle[0]:\u001b[0m\n\u001b[1;37m                                ^\u001b[0m\n\u001b[1;31mTabError\u001b[0m\u001b[1;31m:\u001b[0m inconsistent use of tabs and spaces in indentation\n"
     ]
    }
   ],
   "source": [
    "class Solution(object):\n",
    "    def strStr(self, haystack, needle):\n",
    "        \n",
    "        if needle == \"\" or haystack == needle:\n",
    "            return 0\n",
    "        \n",
    "        elif len(needle) > len(haystack):\n",
    "            return -1\n",
    "        \n",
    "        for i in range(len(haystack)-len(needle) + 1):\n",
    "            x = i\n",
    "            y = 0\n",
    "\t\t\tif haystack[x] == needle[0]:\n",
    "\t\t\t\tfor j in range(len(needle)):\n",
    "\t\t\t\t\tif haystack[x] == needle[j]:\n",
    "\t\t\t\t\t\ty += 1\n",
    "\t\t\t\t\t\tx += 1\n",
    "\t\t\t\t\t\tif y == len(needle):\n",
    "\t\t\t\t\t\t\treturn i\n",
    "\t\t\t\t\telse:\n",
    "\t\t\t\t\t\tbreak  \n",
    "        return -1"
   ]
  },
  {
   "cell_type": "code",
   "execution_count": 10,
   "metadata": {},
   "outputs": [
    {
     "data": {
      "text/plain": [
       "0"
      ]
     },
     "execution_count": 10,
     "metadata": {},
     "output_type": "execute_result"
    }
   ],
   "source": [
    "3%3\n"
   ]
  },
  {
   "cell_type": "code",
   "execution_count": 11,
   "metadata": {},
   "outputs": [
    {
     "data": {
      "text/plain": [
       "0"
      ]
     },
     "execution_count": 11,
     "metadata": {},
     "output_type": "execute_result"
    }
   ],
   "source": [
    "5%5"
   ]
  },
  {
   "cell_type": "code",
   "execution_count": 12,
   "metadata": {},
   "outputs": [
    {
     "data": {
      "text/plain": [
       "0"
      ]
     },
     "execution_count": 12,
     "metadata": {},
     "output_type": "execute_result"
    }
   ],
   "source": [
    "15%5"
   ]
  },
  {
   "cell_type": "code",
   "execution_count": 13,
   "metadata": {},
   "outputs": [
    {
     "data": {
      "text/plain": [
       "0"
      ]
     },
     "execution_count": 13,
     "metadata": {},
     "output_type": "execute_result"
    }
   ],
   "source": [
    "15%3"
   ]
  },
  {
   "cell_type": "code",
   "execution_count": 14,
   "metadata": {},
   "outputs": [
    {
     "data": {
      "text/plain": [
       "1"
      ]
     },
     "execution_count": 14,
     "metadata": {},
     "output_type": "execute_result"
    }
   ],
   "source": [
    "1%3"
   ]
  },
  {
   "cell_type": "code",
   "execution_count": 15,
   "metadata": {},
   "outputs": [],
   "source": [
    "class Solution:\n",
    "    # @param A : integer\n",
    "    # @return a list of strings\n",
    "    def fizzBuzz(self, A):\n",
    "        ans = [i for i in range(1,A+1)]\n",
    "        for i in range(2,A,3):\n",
    "            ans[i] = \"Fizz\"\n",
    "        for i in range(4,A,5):\n",
    "            ans[i] = \"Buzz\"\n",
    "        for i in range(14,A,15):\n",
    "            ans[i] = \"FizzBuzz\"\n",
    "        return ans"
   ]
  },
  {
   "cell_type": "code",
   "execution_count": 16,
   "metadata": {},
   "outputs": [],
   "source": [
    "class Solution:\n",
    "    # @param A : integer\n",
    "    # @return a list of strings\n",
    "    def fizzBuzz(self, A):\n",
    "        fblist = []\n",
    "        for x in range(1,A+1):\n",
    "            if x % 3 == 0 and x % 5 == 0:\n",
    "                fblist.append('FizzBuzz')\n",
    "            elif x % 3 == 0:\n",
    "                fblist.append('Fizz')\n",
    "            elif x % 5 == 0:\n",
    "                fblist.append('Buzz')\n",
    "            else:\n",
    "                fblist.append(str(x))\n",
    "        return fblist"
   ]
  },
  {
   "cell_type": "code",
   "execution_count": 17,
   "metadata": {},
   "outputs": [],
   "source": [
    "class Solution:\n",
    "    # @param A : integer\n",
    "    # @return a list of strings\n",
    "    def fizzBuzz(self, A):\n",
    "        sol = []\n",
    "        for i in range(1, A+1):\n",
    "            if(i % 3 == 0 and i % 5 == 0):\n",
    "                sol.append(\"FizzBuzz\")\n",
    "            elif(i % 3 == 0):\n",
    "                sol.append(\"Fizz\")\n",
    "            elif(i % 5 == 0):\n",
    "                sol.append(\"Buzz\")\n",
    "            else:\n",
    "                sol.append(i)\n",
    "        return sol"
   ]
  },
  {
   "cell_type": "code",
   "execution_count": 1,
   "metadata": {},
   "outputs": [
    {
     "ename": "NameError",
     "evalue": "name 'List' is not defined",
     "output_type": "error",
     "traceback": [
      "\u001b[1;31m---------------------------------------------------------------------------\u001b[0m",
      "\u001b[1;31mNameError\u001b[0m                                 Traceback (most recent call last)",
      "\u001b[1;32m<ipython-input-1-6f85532997fe>\u001b[0m in \u001b[0;36m<module>\u001b[1;34m\u001b[0m\n\u001b[1;32m----> 1\u001b[1;33m \u001b[1;32mclass\u001b[0m \u001b[0mSolution\u001b[0m\u001b[1;33m:\u001b[0m\u001b[1;33m\u001b[0m\u001b[1;33m\u001b[0m\u001b[0m\n\u001b[0m\u001b[0;32m      2\u001b[0m     \u001b[1;32mdef\u001b[0m \u001b[0msearchInsert\u001b[0m\u001b[1;33m(\u001b[0m\u001b[0mself\u001b[0m\u001b[1;33m,\u001b[0m \u001b[0mnums\u001b[0m\u001b[1;33m:\u001b[0m \u001b[0mList\u001b[0m\u001b[1;33m[\u001b[0m\u001b[0mint\u001b[0m\u001b[1;33m]\u001b[0m\u001b[1;33m,\u001b[0m \u001b[0mtarget\u001b[0m\u001b[1;33m:\u001b[0m \u001b[0mint\u001b[0m\u001b[1;33m)\u001b[0m \u001b[1;33m->\u001b[0m \u001b[0mint\u001b[0m\u001b[1;33m:\u001b[0m\u001b[1;33m\u001b[0m\u001b[1;33m\u001b[0m\u001b[0m\n\u001b[0;32m      3\u001b[0m         \u001b[0ml\u001b[0m \u001b[1;33m=\u001b[0m\u001b[0mlen\u001b[0m\u001b[1;33m(\u001b[0m\u001b[0mnums\u001b[0m\u001b[1;33m)\u001b[0m\u001b[1;33m\u001b[0m\u001b[1;33m\u001b[0m\u001b[0m\n\u001b[0;32m      4\u001b[0m         \u001b[0mrev\u001b[0m \u001b[1;33m=\u001b[0m \u001b[0mnums\u001b[0m\u001b[1;33m.\u001b[0m\u001b[0msort\u001b[0m\u001b[1;33m(\u001b[0m\u001b[0mreverse\u001b[0m \u001b[1;33m=\u001b[0m \u001b[1;32mTrue\u001b[0m\u001b[1;33m)\u001b[0m\u001b[1;33m\u001b[0m\u001b[1;33m\u001b[0m\u001b[0m\n\u001b[0;32m      5\u001b[0m         \u001b[0mpr\u001b[0m\u001b[1;33m\u001b[0m\u001b[1;33m\u001b[0m\u001b[0m\n",
      "\u001b[1;32m<ipython-input-1-6f85532997fe>\u001b[0m in \u001b[0;36mSolution\u001b[1;34m()\u001b[0m\n\u001b[0;32m      1\u001b[0m \u001b[1;32mclass\u001b[0m \u001b[0mSolution\u001b[0m\u001b[1;33m:\u001b[0m\u001b[1;33m\u001b[0m\u001b[1;33m\u001b[0m\u001b[0m\n\u001b[1;32m----> 2\u001b[1;33m     \u001b[1;32mdef\u001b[0m \u001b[0msearchInsert\u001b[0m\u001b[1;33m(\u001b[0m\u001b[0mself\u001b[0m\u001b[1;33m,\u001b[0m \u001b[0mnums\u001b[0m\u001b[1;33m:\u001b[0m \u001b[0mList\u001b[0m\u001b[1;33m[\u001b[0m\u001b[0mint\u001b[0m\u001b[1;33m]\u001b[0m\u001b[1;33m,\u001b[0m \u001b[0mtarget\u001b[0m\u001b[1;33m:\u001b[0m \u001b[0mint\u001b[0m\u001b[1;33m)\u001b[0m \u001b[1;33m->\u001b[0m \u001b[0mint\u001b[0m\u001b[1;33m:\u001b[0m\u001b[1;33m\u001b[0m\u001b[1;33m\u001b[0m\u001b[0m\n\u001b[0m\u001b[0;32m      3\u001b[0m         \u001b[0ml\u001b[0m \u001b[1;33m=\u001b[0m\u001b[0mlen\u001b[0m\u001b[1;33m(\u001b[0m\u001b[0mnums\u001b[0m\u001b[1;33m)\u001b[0m\u001b[1;33m\u001b[0m\u001b[1;33m\u001b[0m\u001b[0m\n\u001b[0;32m      4\u001b[0m         \u001b[0mrev\u001b[0m \u001b[1;33m=\u001b[0m \u001b[0mnums\u001b[0m\u001b[1;33m.\u001b[0m\u001b[0msort\u001b[0m\u001b[1;33m(\u001b[0m\u001b[0mreverse\u001b[0m \u001b[1;33m=\u001b[0m \u001b[1;32mTrue\u001b[0m\u001b[1;33m)\u001b[0m\u001b[1;33m\u001b[0m\u001b[1;33m\u001b[0m\u001b[0m\n\u001b[0;32m      5\u001b[0m         \u001b[0mpr\u001b[0m\u001b[1;33m\u001b[0m\u001b[1;33m\u001b[0m\u001b[0m\n",
      "\u001b[1;31mNameError\u001b[0m: name 'List' is not defined"
     ]
    }
   ],
   "source": [
    "class Solution:\n",
    "    def searchInsert(self, nums: List[int], target: int) -> int:\n",
    "        l =len(nums)\n",
    "        rev = nums.sort(reverse = True)\n",
    "        pr\n",
    "        if t<target:\n",
    "            print(l+1)\n",
    "        for i in range(0,l):\n",
    "            if nums[i] == target:\n",
    "                print(i)\n",
    "            elif nums[i] > target & nums[i+1] < target:    \n",
    "                print(i+1)\n",
    "            else:\n",
    "                return 0"
   ]
  },
  {
   "cell_type": "code",
   "execution_count": 2,
   "metadata": {},
   "outputs": [
    {
     "ename": "NameError",
     "evalue": "name 'List' is not defined",
     "output_type": "error",
     "traceback": [
      "\u001b[1;31m---------------------------------------------------------------------------\u001b[0m",
      "\u001b[1;31mNameError\u001b[0m                                 Traceback (most recent call last)",
      "\u001b[1;32m<ipython-input-2-a19389582a30>\u001b[0m in \u001b[0;36m<module>\u001b[1;34m\u001b[0m\n\u001b[1;32m----> 1\u001b[1;33m \u001b[1;32mclass\u001b[0m \u001b[0mSolution\u001b[0m\u001b[1;33m:\u001b[0m\u001b[1;33m\u001b[0m\u001b[1;33m\u001b[0m\u001b[0m\n\u001b[0m\u001b[0;32m      2\u001b[0m     \u001b[1;32mdef\u001b[0m \u001b[0msearchInsert\u001b[0m\u001b[1;33m(\u001b[0m\u001b[0mself\u001b[0m\u001b[1;33m,\u001b[0m \u001b[0mnums\u001b[0m\u001b[1;33m:\u001b[0m \u001b[0mList\u001b[0m\u001b[1;33m[\u001b[0m\u001b[0mint\u001b[0m\u001b[1;33m]\u001b[0m\u001b[1;33m,\u001b[0m \u001b[0mtarget\u001b[0m\u001b[1;33m:\u001b[0m \u001b[0mint\u001b[0m\u001b[1;33m)\u001b[0m \u001b[1;33m->\u001b[0m \u001b[0mint\u001b[0m\u001b[1;33m:\u001b[0m\u001b[1;33m\u001b[0m\u001b[1;33m\u001b[0m\u001b[0m\n\u001b[0;32m      3\u001b[0m         \u001b[1;31m# if target is less than or equal to first element\u001b[0m\u001b[1;33m\u001b[0m\u001b[1;33m\u001b[0m\u001b[1;33m\u001b[0m\u001b[0m\n\u001b[0;32m      4\u001b[0m         \u001b[1;32mif\u001b[0m \u001b[0mnums\u001b[0m\u001b[1;33m[\u001b[0m\u001b[1;36m0\u001b[0m\u001b[1;33m]\u001b[0m \u001b[1;33m>=\u001b[0m \u001b[0mtarget\u001b[0m\u001b[1;33m:\u001b[0m\u001b[1;33m\u001b[0m\u001b[1;33m\u001b[0m\u001b[0m\n\u001b[0;32m      5\u001b[0m             \u001b[1;32mreturn\u001b[0m \u001b[1;36m0\u001b[0m\u001b[1;33m\u001b[0m\u001b[1;33m\u001b[0m\u001b[0m\n",
      "\u001b[1;32m<ipython-input-2-a19389582a30>\u001b[0m in \u001b[0;36mSolution\u001b[1;34m()\u001b[0m\n\u001b[0;32m      1\u001b[0m \u001b[1;32mclass\u001b[0m \u001b[0mSolution\u001b[0m\u001b[1;33m:\u001b[0m\u001b[1;33m\u001b[0m\u001b[1;33m\u001b[0m\u001b[0m\n\u001b[1;32m----> 2\u001b[1;33m     \u001b[1;32mdef\u001b[0m \u001b[0msearchInsert\u001b[0m\u001b[1;33m(\u001b[0m\u001b[0mself\u001b[0m\u001b[1;33m,\u001b[0m \u001b[0mnums\u001b[0m\u001b[1;33m:\u001b[0m \u001b[0mList\u001b[0m\u001b[1;33m[\u001b[0m\u001b[0mint\u001b[0m\u001b[1;33m]\u001b[0m\u001b[1;33m,\u001b[0m \u001b[0mtarget\u001b[0m\u001b[1;33m:\u001b[0m \u001b[0mint\u001b[0m\u001b[1;33m)\u001b[0m \u001b[1;33m->\u001b[0m \u001b[0mint\u001b[0m\u001b[1;33m:\u001b[0m\u001b[1;33m\u001b[0m\u001b[1;33m\u001b[0m\u001b[0m\n\u001b[0m\u001b[0;32m      3\u001b[0m         \u001b[1;31m# if target is less than or equal to first element\u001b[0m\u001b[1;33m\u001b[0m\u001b[1;33m\u001b[0m\u001b[1;33m\u001b[0m\u001b[0m\n\u001b[0;32m      4\u001b[0m         \u001b[1;32mif\u001b[0m \u001b[0mnums\u001b[0m\u001b[1;33m[\u001b[0m\u001b[1;36m0\u001b[0m\u001b[1;33m]\u001b[0m \u001b[1;33m>=\u001b[0m \u001b[0mtarget\u001b[0m\u001b[1;33m:\u001b[0m\u001b[1;33m\u001b[0m\u001b[1;33m\u001b[0m\u001b[0m\n\u001b[0;32m      5\u001b[0m             \u001b[1;32mreturn\u001b[0m \u001b[1;36m0\u001b[0m\u001b[1;33m\u001b[0m\u001b[1;33m\u001b[0m\u001b[0m\n",
      "\u001b[1;31mNameError\u001b[0m: name 'List' is not defined"
     ]
    }
   ],
   "source": [
    "class Solution:\n",
    "    def searchInsert(self, nums: List[int], target: int) -> int:\n",
    "        # if target is less than or equal to first element\n",
    "        if nums[0] >= target:\n",
    "            return 0\n",
    "        \n",
    "        # if target is greater than last element\n",
    "        if nums[len(nums)-1] < target:\n",
    "            return len(nums)\n",
    "        \n",
    "        # for middle element\n",
    "        i = 0; j = len(nums)-1\n",
    "        \n",
    "        while i <= j:\n",
    "            mid = (i+j)//2\n",
    "\n",
    "            if nums[mid] < target <= nums[mid+1]:\n",
    "                return mid+1\n",
    "            if nums[mid-1] < target <= nums[mid]:\n",
    "                return mid\n",
    "            \n",
    "            if nums[mid] < target:\n",
    "                i = mid+1\n",
    "            elif nums[mid] > target:\n",
    "                j = mid-1"
   ]
  },
  {
   "cell_type": "code",
   "execution_count": 3,
   "metadata": {},
   "outputs": [
    {
     "ename": "NameError",
     "evalue": "name 'List' is not defined",
     "output_type": "error",
     "traceback": [
      "\u001b[1;31m---------------------------------------------------------------------------\u001b[0m",
      "\u001b[1;31mNameError\u001b[0m                                 Traceback (most recent call last)",
      "\u001b[1;32m<ipython-input-3-435b3ac1802f>\u001b[0m in \u001b[0;36m<module>\u001b[1;34m\u001b[0m\n\u001b[1;32m----> 1\u001b[1;33m \u001b[1;32mclass\u001b[0m \u001b[0mSolution\u001b[0m\u001b[1;33m:\u001b[0m\u001b[1;33m\u001b[0m\u001b[1;33m\u001b[0m\u001b[0m\n\u001b[0m\u001b[0;32m      2\u001b[0m     \u001b[1;32mdef\u001b[0m \u001b[0msearchInsert\u001b[0m\u001b[1;33m(\u001b[0m\u001b[0mself\u001b[0m\u001b[1;33m,\u001b[0m \u001b[0mnums\u001b[0m\u001b[1;33m:\u001b[0m \u001b[0mList\u001b[0m\u001b[1;33m[\u001b[0m\u001b[0mint\u001b[0m\u001b[1;33m]\u001b[0m\u001b[1;33m,\u001b[0m \u001b[0mtarget\u001b[0m\u001b[1;33m:\u001b[0m \u001b[0mint\u001b[0m\u001b[1;33m)\u001b[0m \u001b[1;33m->\u001b[0m \u001b[0mint\u001b[0m\u001b[1;33m:\u001b[0m\u001b[1;33m\u001b[0m\u001b[1;33m\u001b[0m\u001b[0m\n\u001b[0;32m      3\u001b[0m         \u001b[1;32mif\u001b[0m \u001b[0mtarget\u001b[0m \u001b[1;32min\u001b[0m \u001b[0mnums\u001b[0m\u001b[1;33m:\u001b[0m\u001b[1;33m\u001b[0m\u001b[1;33m\u001b[0m\u001b[0m\n\u001b[0;32m      4\u001b[0m             \u001b[1;32mreturn\u001b[0m \u001b[0mnums\u001b[0m\u001b[1;33m.\u001b[0m\u001b[0mindex\u001b[0m\u001b[1;33m(\u001b[0m\u001b[0mtarget\u001b[0m\u001b[1;33m)\u001b[0m\u001b[1;33m\u001b[0m\u001b[1;33m\u001b[0m\u001b[0m\n\u001b[0;32m      5\u001b[0m         \u001b[1;32melif\u001b[0m \u001b[0mtarget\u001b[0m \u001b[1;33m>\u001b[0m \u001b[0mnums\u001b[0m\u001b[1;33m[\u001b[0m\u001b[1;33m-\u001b[0m\u001b[1;36m1\u001b[0m\u001b[1;33m]\u001b[0m\u001b[1;33m:\u001b[0m\u001b[1;33m\u001b[0m\u001b[1;33m\u001b[0m\u001b[0m\n",
      "\u001b[1;32m<ipython-input-3-435b3ac1802f>\u001b[0m in \u001b[0;36mSolution\u001b[1;34m()\u001b[0m\n\u001b[0;32m      1\u001b[0m \u001b[1;32mclass\u001b[0m \u001b[0mSolution\u001b[0m\u001b[1;33m:\u001b[0m\u001b[1;33m\u001b[0m\u001b[1;33m\u001b[0m\u001b[0m\n\u001b[1;32m----> 2\u001b[1;33m     \u001b[1;32mdef\u001b[0m \u001b[0msearchInsert\u001b[0m\u001b[1;33m(\u001b[0m\u001b[0mself\u001b[0m\u001b[1;33m,\u001b[0m \u001b[0mnums\u001b[0m\u001b[1;33m:\u001b[0m \u001b[0mList\u001b[0m\u001b[1;33m[\u001b[0m\u001b[0mint\u001b[0m\u001b[1;33m]\u001b[0m\u001b[1;33m,\u001b[0m \u001b[0mtarget\u001b[0m\u001b[1;33m:\u001b[0m \u001b[0mint\u001b[0m\u001b[1;33m)\u001b[0m \u001b[1;33m->\u001b[0m \u001b[0mint\u001b[0m\u001b[1;33m:\u001b[0m\u001b[1;33m\u001b[0m\u001b[1;33m\u001b[0m\u001b[0m\n\u001b[0m\u001b[0;32m      3\u001b[0m         \u001b[1;32mif\u001b[0m \u001b[0mtarget\u001b[0m \u001b[1;32min\u001b[0m \u001b[0mnums\u001b[0m\u001b[1;33m:\u001b[0m\u001b[1;33m\u001b[0m\u001b[1;33m\u001b[0m\u001b[0m\n\u001b[0;32m      4\u001b[0m             \u001b[1;32mreturn\u001b[0m \u001b[0mnums\u001b[0m\u001b[1;33m.\u001b[0m\u001b[0mindex\u001b[0m\u001b[1;33m(\u001b[0m\u001b[0mtarget\u001b[0m\u001b[1;33m)\u001b[0m\u001b[1;33m\u001b[0m\u001b[1;33m\u001b[0m\u001b[0m\n\u001b[0;32m      5\u001b[0m         \u001b[1;32melif\u001b[0m \u001b[0mtarget\u001b[0m \u001b[1;33m>\u001b[0m \u001b[0mnums\u001b[0m\u001b[1;33m[\u001b[0m\u001b[1;33m-\u001b[0m\u001b[1;36m1\u001b[0m\u001b[1;33m]\u001b[0m\u001b[1;33m:\u001b[0m\u001b[1;33m\u001b[0m\u001b[1;33m\u001b[0m\u001b[0m\n",
      "\u001b[1;31mNameError\u001b[0m: name 'List' is not defined"
     ]
    }
   ],
   "source": [
    "class Solution:\n",
    "    def searchInsert(self, nums: List[int], target: int) -> int:\n",
    "        if target in nums:\n",
    "            return nums.index(target)\n",
    "        elif target > nums[-1]:\n",
    "            return len(nums)\n",
    "        else:\n",
    "            for i in range(len(nums)):\n",
    "                if target < nums[i]:\n",
    "                    return i"
   ]
  },
  {
   "cell_type": "code",
   "execution_count": 8,
   "metadata": {},
   "outputs": [
    {
     "ename": "TypeError",
     "evalue": "list indices must be integers or slices, not type",
     "output_type": "error",
     "traceback": [
      "\u001b[1;31m---------------------------------------------------------------------------\u001b[0m",
      "\u001b[1;31mTypeError\u001b[0m                                 Traceback (most recent call last)",
      "\u001b[1;32m<ipython-input-8-7e2244ff8eac>\u001b[0m in \u001b[0;36m<module>\u001b[1;34m\u001b[0m\n\u001b[0;32m      1\u001b[0m \u001b[0minf\u001b[0m \u001b[1;33m=\u001b[0m \u001b[0mfloat\u001b[0m\u001b[1;33m(\u001b[0m\u001b[1;34m'inf'\u001b[0m\u001b[1;33m)\u001b[0m\u001b[1;33m\u001b[0m\u001b[1;33m\u001b[0m\u001b[0m\n\u001b[1;32m----> 2\u001b[1;33m \u001b[1;32mclass\u001b[0m \u001b[0mSolution\u001b[0m\u001b[1;33m:\u001b[0m\u001b[1;33m\u001b[0m\u001b[1;33m\u001b[0m\u001b[0m\n\u001b[0m\u001b[0;32m      3\u001b[0m     \u001b[1;32mdef\u001b[0m \u001b[0mmaxSubArray\u001b[0m\u001b[1;33m(\u001b[0m\u001b[0mself\u001b[0m\u001b[1;33m,\u001b[0m \u001b[0mnums\u001b[0m\u001b[1;33m:\u001b[0m \u001b[0mList\u001b[0m\u001b[1;33m[\u001b[0m\u001b[0mint\u001b[0m\u001b[1;33m]\u001b[0m\u001b[1;33m)\u001b[0m \u001b[1;33m->\u001b[0m \u001b[0mint\u001b[0m\u001b[1;33m:\u001b[0m\u001b[1;33m\u001b[0m\u001b[1;33m\u001b[0m\u001b[0m\n\u001b[0;32m      4\u001b[0m         \u001b[0mbest\u001b[0m \u001b[1;33m=\u001b[0m \u001b[1;33m-\u001b[0m\u001b[0minf\u001b[0m\u001b[1;33m\u001b[0m\u001b[1;33m\u001b[0m\u001b[0m\n\u001b[0;32m      5\u001b[0m         \u001b[0msumsofar\u001b[0m \u001b[1;33m=\u001b[0m \u001b[1;36m0\u001b[0m\u001b[1;33m\u001b[0m\u001b[1;33m\u001b[0m\u001b[0m\n",
      "\u001b[1;32m<ipython-input-8-7e2244ff8eac>\u001b[0m in \u001b[0;36mSolution\u001b[1;34m()\u001b[0m\n\u001b[0;32m      1\u001b[0m \u001b[0minf\u001b[0m \u001b[1;33m=\u001b[0m \u001b[0mfloat\u001b[0m\u001b[1;33m(\u001b[0m\u001b[1;34m'inf'\u001b[0m\u001b[1;33m)\u001b[0m\u001b[1;33m\u001b[0m\u001b[1;33m\u001b[0m\u001b[0m\n\u001b[0;32m      2\u001b[0m \u001b[1;32mclass\u001b[0m \u001b[0mSolution\u001b[0m\u001b[1;33m:\u001b[0m\u001b[1;33m\u001b[0m\u001b[1;33m\u001b[0m\u001b[0m\n\u001b[1;32m----> 3\u001b[1;33m     \u001b[1;32mdef\u001b[0m \u001b[0mmaxSubArray\u001b[0m\u001b[1;33m(\u001b[0m\u001b[0mself\u001b[0m\u001b[1;33m,\u001b[0m \u001b[0mnums\u001b[0m\u001b[1;33m:\u001b[0m \u001b[0mList\u001b[0m\u001b[1;33m[\u001b[0m\u001b[0mint\u001b[0m\u001b[1;33m]\u001b[0m\u001b[1;33m)\u001b[0m \u001b[1;33m->\u001b[0m \u001b[0mint\u001b[0m\u001b[1;33m:\u001b[0m\u001b[1;33m\u001b[0m\u001b[1;33m\u001b[0m\u001b[0m\n\u001b[0m\u001b[0;32m      4\u001b[0m         \u001b[0mbest\u001b[0m \u001b[1;33m=\u001b[0m \u001b[1;33m-\u001b[0m\u001b[0minf\u001b[0m\u001b[1;33m\u001b[0m\u001b[1;33m\u001b[0m\u001b[0m\n\u001b[0;32m      5\u001b[0m         \u001b[0msumsofar\u001b[0m \u001b[1;33m=\u001b[0m \u001b[1;36m0\u001b[0m\u001b[1;33m\u001b[0m\u001b[1;33m\u001b[0m\u001b[0m\n",
      "\u001b[1;31mTypeError\u001b[0m: list indices must be integers or slices, not type"
     ]
    }
   ],
   "source": [
    "inf = float('inf')\n",
    "class Solution:\n",
    "    def maxSubArray(self, nums: List[int]) -> int:\n",
    "        best = -inf\n",
    "        sumsofar = 0\n",
    "        for x in nums:\n",
    "            sumsofar += x\n",
    "            best  = max(sumsofar, best)\n",
    "            sumsofar = max(sumsofar,0)\n",
    "        return best"
   ]
  },
  {
   "cell_type": "code",
   "execution_count": null,
   "metadata": {},
   "outputs": [],
   "source": [
    "s = \"Hello world\"\n",
    "def convert()\n",
    "    "
   ]
  },
  {
   "cell_type": "code",
   "execution_count": 5,
   "metadata": {},
   "outputs": [],
   "source": [
    "class Solution(object):\n",
    "    def lengthOfLastWord(self, s):\n",
    "        \"\"\"\n",
    "        :type s: str\n",
    "        :rtype: int\n",
    "        \"\"\"\n",
    "\t\t\n",
    "        if(not(s and s.strip())):\n",
    "            return 0\n",
    "\t\t\t\n",
    "        i = len(s)-1\n",
    "        count = 0\n",
    "\n",
    "        while i >= 0:\n",
    "            if(s[i] == \" \" and i == 0):\n",
    "                return count\n",
    "            elif(s[i] != \" \"):\n",
    "                count+=1\n",
    "            elif(count != 0 and s[i] == \" \"):\n",
    "                return count\n",
    "            i-=1\n",
    "\n",
    "        return count"
   ]
  },
  {
   "cell_type": "code",
   "execution_count": 11,
   "metadata": {},
   "outputs": [
    {
     "ename": "SyntaxError",
     "evalue": "unexpected EOF while parsing (<ipython-input-11-1bbd93f049e0>, line 6)",
     "output_type": "error",
     "traceback": [
      "\u001b[1;36m  File \u001b[1;32m\"<ipython-input-11-1bbd93f049e0>\"\u001b[1;36m, line \u001b[1;32m6\u001b[0m\n\u001b[1;33m    return len(last[len(last)-1]\u001b[0m\n\u001b[1;37m                                ^\u001b[0m\n\u001b[1;31mSyntaxError\u001b[0m\u001b[1;31m:\u001b[0m unexpected EOF while parsing\n"
     ]
    }
   ],
   "source": [
    "class Solution:\n",
    "    def lengthOfLastWord(self, s: str) -> int:\n",
    "        last = (s.split()) \n",
    "        if len(last) == 0:\n",
    "            return 0\n",
    "        return len(last[len(last)-1]"
   ]
  },
  {
   "cell_type": "code",
   "execution_count": 10,
   "metadata": {},
   "outputs": [],
   "source": [
    "    def lengthOfLastWord(self, s: str) -> int:\n",
    "    \n",
    "        res = s.split()\n",
    "        if res:\n",
    "           return len(res[-1])\n",
    "        return 0"
   ]
  },
  {
   "cell_type": "code",
   "execution_count": null,
   "metadata": {},
   "outputs": [],
   "source": [
    "class ListNode:\n",
    "    def __init__(self, val=0, next=None):\n",
    "        self.val = val\n",
    "        self.next = next\n",
    "        \n",
    "class LinkedList:\n",
    "    def __init__(self, start_node):\n",
    "        self.start_node = start_node\n",
    "        self.name = \"Test List\"\n",
    "        \n",
    "        self.val_list = []\n",
    "        self.real_val = 0\n",
    "    \n",
    "    def get_val(self):\n",
    "        self.val_list.append(self.start_node.val)\n",
    "        \n",
    "        if self.start_node.next:\n",
    "            next_node = self.start_node.next\n",
    "            self.val_list.append(next_node.val)\n",
    "        \n",
    "            while next_node.next:\n",
    "                next_node = next_node.next\n",
    "                self.val_list.append(next_node.val)\n",
    "    \n",
    "    def reverse(self):\n",
    "        self.get_val()\n",
    "        \n",
    "        self.real_val = int(\"\".join(map(str, self.val_list[::-1])))\n",
    "        \n",
    "        return self.real_val\n",
    "        \n",
    "            \n",
    "class Solution:\n",
    "    def list2linked(self, lst):\n",
    "        cur = dummy = ListNode(0)\n",
    "        \n",
    "        for e in lst:\n",
    "            cur.next = ListNode(e)\n",
    "            cur = cur.next\n",
    "        return dummy.next\n",
    "    \n",
    "    def addTwoNumbers(self, l1: ListNode, l2: ListNode) -> ListNode:\n",
    "        L1 = LinkedList(l1)\n",
    "        L2 = LinkedList(l2)\n",
    "        \n",
    "        res = L1.reverse() + L2.reverse()\n",
    "        res_list = list(map(int, list(str(res))))[::-1]\n",
    "        \n",
    "        # need to convert to singly linked list\n",
    "        \n",
    "        return Solution().list2linked(res_list)"
   ]
  },
  {
   "cell_type": "code",
   "execution_count": null,
   "metadata": {},
   "outputs": [],
   "source": [
    "# Definition for singly-linked list.\n",
    "# class ListNode:\n",
    "#     def __init__(self, val=0, next=None):\n",
    "#         self.val = val\n",
    "#         self.next = next\n",
    "class Solution:\n",
    "    def addTwoNumbers(self, l1: ListNode, l2: ListNode) -> ListNode:\n",
    "        ans = dummy = ListNode(0)\n",
    "        carry = 0\n",
    "        sum = 0\n",
    "        while l1 or l2:\n",
    "            if l1 and l2:\n",
    "                sum = l1.val + l2.val + dummy.val\n",
    "                l1 = l1.next\n",
    "                l2 = l2.next\n",
    "            else:\n",
    "                if l1: \n",
    "                    sum = l1.val + dummy.val\n",
    "                    l1 = l1.next\n",
    "                elif l2: \n",
    "                    sum += l2.val + dummy.val\n",
    "                    l2 = l2.next\n",
    "                \n",
    "            if sum > 9:\n",
    "                carry = sum // 10\n",
    "                sum %= 10\n",
    "                \n",
    "            dummy.val = sum\n",
    "            \n",
    "            sum = 0\n",
    "            if l1 or l2 or carry:\n",
    "                dummy.next = ListNode(carry)\n",
    "            carry = 0\n",
    "            dummy = dummy.next\n",
    "            \n",
    "        return ans"
   ]
  },
  {
   "cell_type": "code",
   "execution_count": null,
   "metadata": {},
   "outputs": [],
   "source": [
    "cumincoriander's avatar\n",
    "cumincoriander\n",
    "1\n",
    "a day ago\n",
    "\n",
    "32 VIEWS\n",
    "\n",
    "I converted back and forth between strings and lists to get the reverse part done.\n",
    "\n",
    "# Definition for singly-linked list.\n",
    "# class ListNode(object):\n",
    "#     def __init__(self, val=0, next=None):\n",
    "#         self.val = val\n",
    "#         self.next = next\n",
    "class Solution(object):\n",
    "    def addTwoNumbers(self, l1, l2):\n",
    "        \"\"\"\n",
    "        :type l1: ListNode\n",
    "        :type l2: ListNode\n",
    "        :rtype: ListNode\n",
    "        \"\"\"\n",
    "        str1 = ''\n",
    "        currnode = l1\n",
    "        while currnode.next is not None:\n",
    "            str1 += str(currnode.val)\n",
    "            currnode = currnode.next\n",
    "        str1 += str(currnode.val)\n",
    "        li = list(str1)\n",
    "        li.reverse()\n",
    "        num1_str = ''.join(li)\n",
    "        num1 = int(num1_str)\n",
    "        print(num1)\n",
    "        \n",
    "        \n",
    "        str2 = ''\n",
    "        currnode = l2\n",
    "        while currnode.next is not None:\n",
    "            str2 += str(currnode.val)\n",
    "            currnode = currnode.next\n",
    "        str2 += str(currnode.val)\n",
    "        li = list(str2)\n",
    "        li.reverse()\n",
    "        num2_str = ''.join(li)\n",
    "        num2 = int(num2_str)\n",
    "        print(num2)\n",
    "        summed = num1 + num2\n",
    "        charlist = list(str(summed))\n",
    "        charlist.reverse()\n",
    "        tmpnode= ListNode()\n",
    "        res = tmpnode\n",
    "        print(charlist)\n",
    "        for i in range(len(charlist)):\n",
    "            if i != len(charlist) -1:\n",
    "                tmpnode.val = int(charlist[i])\n",
    "                tmpnode.next = ListNode()\n",
    "                tmpnode = tmpnode.next\n",
    "            else: tmpnode.val = charlist[-1]\n",
    "        return res\n",
    "            ```"
   ]
  },
  {
   "cell_type": "code",
   "execution_count": null,
   "metadata": {},
   "outputs": [],
   "source": [
    "class Solution(object):\n",
    "    def addTwoNumbers(self, l1, l2):\n",
    "        \"\"\"\n",
    "        :type l1: ListNode\n",
    "        :type l2: ListNode\n",
    "        :rtype: ListNode\n",
    "        \"\"\"\n",
    "        p1, p2, rem, head = l1, l2, 0, ListNode(0)\n",
    "        res = head\n",
    "        while(p1 or p2 or rem):\n",
    "            val_1,val_2 = p1.val if p1 else 0, p2.val if p2 else 0\n",
    "            sum = val_1 + val_2 + rem\n",
    "            head.next = ListNode(sum % 10)\n",
    "            rem = sum // 10\n",
    "            p1, p2, head = p1.next if p1 else None, p2.next if p2 else None, head.next   \n",
    "        return res.next"
   ]
  },
  {
   "cell_type": "code",
   "execution_count": null,
   "metadata": {},
   "outputs": [],
   "source": [
    "class Solution:\n",
    "    def plusOne(self, digits: List[int]) -> List[int]:\n",
    "        for i in range(len(digits)-1, -1, -1):\n",
    "            if digits[i] == 9:\n",
    "                digits[i] = 0\n",
    "            else:\n",
    "                digits[i] += 1\n",
    "                while True:\n",
    "                    if digits[0] == 0:\n",
    "                        del digits[0]\n",
    "                    else:\n",
    "                        return digits\n",
    "                \n",
    "                return digits\n",
    "            digits = [1] + digits\n",
    "            return digits"
   ]
  },
  {
   "cell_type": "code",
   "execution_count": null,
   "metadata": {},
   "outputs": [],
   "source": [
    "class Solution:\n",
    "    def plusOne(self, digits: List[int]) -> List[int]:\n",
    "        val = 1\n",
    "        for i in range (len(digits),0,-1):\n",
    "            val = val + digits[i-1]\n",
    "            borrow = int [val/10]\n",
    "            if borrow ==0:\n",
    "                digits[i-1] = val\n",
    "                break\n",
    "            else:\n",
    "                digits[i-1] = val % 10\n",
    "                val = borrow\n",
    "            digits = [borrow]+digits\n",
    "            while digits[0] == 0:\n",
    "                del digits[0]\n",
    "            return digits"
   ]
  },
  {
   "cell_type": "code",
   "execution_count": null,
   "metadata": {},
   "outputs": [],
   "source": [
    "class Solution:\n",
    "    def plusOne(self, digits: List[int]) -> List[int]:\n",
    "        s=str(int(''.join([str(i) for i in digits]))+1)\n",
    "        l=[int(x) for x in s]\n",
    "        return l"
   ]
  },
  {
   "cell_type": "code",
   "execution_count": null,
   "metadata": {},
   "outputs": [],
   "source": [
    "class Solution:\n",
    "    def plusOne(self, digits: List[int]) -> List[int]:\n",
    "        i = 1\n",
    "        lim = len(digits) + 1\n",
    "\t\t''' добавляем единицу в конец, если в конце 9, \n",
    "\t\tто идем с конца по списку пока не найдем элемент != 9 '''\n",
    "        while i != lim:  \n",
    "            if digits[-i] == 9:\n",
    "                digits[-i] = 0\n",
    "            else:\n",
    "                digits[-i] = digits[-i] + 1\n",
    "                break\n",
    "            i = i + 1    \n",
    "\t\t'''Если входное число состояло из одних девяток: \n",
    "\t\tнужно добавить в конец списка новый элемент равный 0 \n",
    "\t\tи на место первого записать единицу'''\n",
    "        if digits[0] == 0: \n",
    "            digits[0] = 1 \n",
    "            digits.append(0) \n",
    "        return digits"
   ]
  },
  {
   "cell_type": "markdown",
   "metadata": {},
   "source": [
    "# ADD ONE IN THE LAST ELEMENT"
   ]
  },
  {
   "cell_type": "code",
   "execution_count": null,
   "metadata": {},
   "outputs": [],
   "source": [
    "  s = [str(num) for num in digits]  #['1', '2', '3']\n",
    "    a_string = \"\".join(s)  # '123'\n",
    "    an_integer = int(a_string) # 123\n",
    "    \n",
    "    plus_one = an_integer + 1 #124\n",
    "    \n",
    "    return [int(i) for i in str(plus_one)] #[1, 2, 4]"
   ]
  },
  {
   "cell_type": "code",
   "execution_count": null,
   "metadata": {},
   "outputs": [],
   "source": [
    "class Solution:\n",
    "    def merge(self, nums1: List[int], m: int, nums2: List[int], n: int) -> None:\n",
    "                nums1[m:m+n] = nums2\n",
    "                nums1.sort()"
   ]
  },
  {
   "cell_type": "code",
   "execution_count": null,
   "metadata": {},
   "outputs": [],
   "source": [
    "class Solution:\n",
    "    def merge(self, nums1: List[int], m: int, nums2: List[int], n: int) -> None:\n",
    "        \"\"\"\n",
    "        Do not return anything, modify nums1 in-place instead.\n",
    "        \"\"\"\n",
    "        a = len(nums1)\n",
    "        b = a - m\n",
    "        for i in range(b):\n",
    "            nums1.pop()\n",
    "        for i in nums2:\n",
    "            nums1.append(i)\n",
    "        nums1.sort()"
   ]
  },
  {
   "cell_type": "code",
   "execution_count": null,
   "metadata": {},
   "outputs": [],
   "source": [
    "while m>0 or n>0:\n",
    "\tif m==0 or (n>0 and nums2[n-1]>nums1[m-1]):\n",
    "\t\tnums1[m+n-1] = nums2[n-1]\n",
    "\t\tn-=1\n",
    "\telse:\n",
    "\t\tnums1[m+n-1] = nums1[m-1]\n",
    "\t\tm-=1"
   ]
  },
  {
   "cell_type": "code",
   "execution_count": null,
   "metadata": {},
   "outputs": [],
   "source": [
    "class Solution:\n",
    "    def generate(self, numRows: int) -> List[List[int]]:\n",
    "        if numRows <= 0:\n",
    "            return []\n",
    "        res=[]\n",
    "        prev = [1]\n",
    "        res.append(prev)\n",
    "        for i in range(1,numRows):\n",
    "            curr = [1]\n",
    "            for j in range (1, i):\n",
    "                curr.append(prev[j]+prev[j-1])\n",
    "                curr.append(1)\n",
    "                res.append(curr)\n",
    "                prev= curr"
   ]
  },
  {
   "cell_type": "code",
   "execution_count": null,
   "metadata": {},
   "outputs": [],
   "source": [
    "def generate(self, numRows: int) -> List[List[int]]:\n",
    "        ret = []\n",
    "        for i in range(numRows):\n",
    "            inner = []\n",
    "            for j in range(i+1):\n",
    "                if i == 0:\n",
    "                    inner.append(j+1)\n",
    "                elif j == 0:\n",
    "                    inner.append(ret[i-1][j])\n",
    "                elif j >= len(ret[i-1]):\n",
    "                    inner.append(ret[i-1][j-1])\n",
    "                else:\n",
    "                    inner.append(ret[i-1][j-1] + ret[i-1][j])\n",
    "            ret.append(inner)\n",
    "\t\t\t\n",
    "        return ret"
   ]
  },
  {
   "cell_type": "code",
   "execution_count": null,
   "metadata": {},
   "outputs": [],
   "source": [
    "class Solution:\n",
    "    def generate(self, numRows: int) -> List[List[int]]:\n",
    "        l = [[1],[1,1]]\n",
    "        if numRows <= 2:\n",
    "            return l[:numRows]\n",
    "        i = 3\n",
    "        while i <= numRows:\n",
    "            x = l[i-2]\n",
    "            y = [1]\n",
    "            for j in range(len(x)-1):\n",
    "                y.append(x[j] + x[j+1])\n",
    "            y.append(1)\n",
    "            l.append(y)\n",
    "            i += 1\n",
    "        return l"
   ]
  },
  {
   "cell_type": "code",
   "execution_count": null,
   "metadata": {},
   "outputs": [],
   "source": [
    "res=[]\n",
    "prev_part=[]\n",
    "for i in range (0 ,n):\n",
    "    part=[0]*(i+1)\n",
    "    part[0]=part[-1]=1\n",
    "    if i>1:\n",
    "        for j in range (1,i):\n",
    "            part[j]=prev_part[j]+prev_part[j-1]\n",
    "    res.append(part)\n",
    "    prev_part=part\n",
    "return(res)"
   ]
  },
  {
   "cell_type": "code",
   "execution_count": null,
   "metadata": {},
   "outputs": [],
   "source": [
    "class Solution:\n",
    "    def generate(self, numRows: int) -> List[List[int]]:\n",
    "        if numRows == 1:\n",
    "            return [[1]]\n",
    "        res = [[1]]\n",
    "        for i in range(2, numRows+1):\n",
    "            tmp = [1]\n",
    "            for j in range(1, i-1):\n",
    "                tmp.append(res[-1][j-1]+res[-1][j])\n",
    "            tmp += [1]\n",
    "            res.append(tmp)\n",
    "        return res"
   ]
  },
  {
   "cell_type": "code",
   "execution_count": null,
   "metadata": {},
   "outputs": [],
   "source": [
    "    def getRow(self, rowIndex: int) -> List[int]:\n",
    "        if rowIndex == 0:\n",
    "            return [1]\n",
    "        new = [1]\n",
    "        for i in range(1, rowIndex+1):\n",
    "            prev = new\n",
    "            new = []\n",
    "            for j in range(i+1):\n",
    "                if j == 0:\n",
    "                    new.append(prev[j])\n",
    "                elif j >= len(prev):\n",
    "                    new.append(prev[j-1])\n",
    "                else:\n",
    "                    new.append(prev[j-1] + prev[j])\n",
    "        return new"
   ]
  },
  {
   "cell_type": "code",
   "execution_count": null,
   "metadata": {},
   "outputs": [],
   "source": [
    "class Solution:\n",
    "    def getRow(self, n: int) -> List[int]:\n",
    "        if n == 0:\n",
    "            return [1]\n",
    "        if n == 1:\n",
    "            return [1, 1]\n",
    "        d = 1\n",
    "        tran = [1, 1]\n",
    "        lis = [1 for i in range(len(tran) + 1)]\n",
    "\n",
    "        c = 0\n",
    "        while d != n:\n",
    "            c=0\n",
    "            for i in range(1, len(lis) - 1):\n",
    "                lis[i] = tran[c] + tran[c + 1]\n",
    "                if tran[c+1]:\n",
    "                    c += 1\n",
    "            tran = lis\n",
    "            lis = [1 for i in range(len(tran) + 1)]\n",
    "            d += 1\n",
    "\n",
    "        return tran"
   ]
  },
  {
   "cell_type": "code",
   "execution_count": null,
   "metadata": {},
   "outputs": [],
   "source": [
    "def getRow(self, rowIndex):\n",
    "\tres = [1]\n",
    "\tfor i in range(1,rowIndex+1):\n",
    "\t\tres.append(math.factorial(rowIndex)/(math.factorial(i)*math.factorial(rowIndex-i)))\n",
    "\treturn res"
   ]
  },
  {
   "cell_type": "code",
   "execution_count": 16,
   "metadata": {},
   "outputs": [
    {
     "name": "stdout",
     "output_type": "stream",
     "text": [
      "enter the row number:5\n",
      "        1    \n",
      "      1    1    \n",
      "    1    2    1    \n",
      "  1    3    3    1    \n",
      "1    4    6    4    1    \n"
     ]
    }
   ],
   "source": [
    "n = int(input(\"enter the row number:\"))\n",
    "list1 = []\n",
    "for i in range(n):\n",
    "    temp_list =[]\n",
    "    for j in range(i+1):\n",
    "        if j==0 or j ==i:\n",
    "            temp_list.append(1)\n",
    "        else:\n",
    "            temp_list.append(list1[i-1][j-1] + list1[i-1][j])\n",
    "    \n",
    "    list1.append(temp_list)\n",
    "    \n",
    "for i in range(n):\n",
    "    for j in range(n-i-1):\n",
    "        print(format(\" \",\"<2\"),end=\"\")\n",
    "    for j in range(i+1):\n",
    "        print(format(list1[i][j],\"<4\"),end=\" \")\n",
    "    print()\n",
    "    "
   ]
  },
  {
   "cell_type": "code",
   "execution_count": null,
   "metadata": {},
   "outputs": [],
   "source": [
    "class Solution:\n",
    "    def maxProfit(self, prices: List[int]) -> int:\n",
    "        s=0\n",
    "        if len(prices) == 1:\n",
    "            return 0\n",
    "        elif len(prices) == 2:\n",
    "            if prices[0]<prices[1]:\n",
    "                return prices[1]-prices[0]\n",
    "            else:\n",
    "                return 0\n",
    "        elif len(prices) > 3:\n",
    "            x = max(prices)\n",
    "            if prices[0]!= x:\n",
    "                if prices[0]<x or prices[1]<x:\n",
    "                    if prices[0]>prices[1]:\n",
    "                        return x-prices[1]\n",
    "                    else:\n",
    "                        return x-prices[0]\n",
    "                else:\n",
    "                    return 0\n",
    "            else:       \n",
    "                del(prices[0])\n",
    "                for i in range (1,len(prices),1):\n",
    "                    m = max(prices)\n",
    "                    s = prices[i-1]\n",
    "                    if s < m:\n",
    "                        return (m-s)\n",
    "                    else:\n",
    "                        return 0\n",
    "        "
   ]
  },
  {
   "cell_type": "code",
   "execution_count": 3,
   "metadata": {},
   "outputs": [],
   "source": [
    "List = []\n",
    "#class Solution:\n",
    "#    def maxProfit(self, prices: List[int]) -> int:\n",
    "#        lowPrice=prices[0]\n",
    "#        profit=0\n",
    "#        for i in range(1,len(prices)):\n",
    "#            if(lowPrice>prices[i]):lowPrice=prices[i]\n",
    "#            if(profit<prices[i]-lowPrice):profit=prices[i]-lowPrice\n",
    "#        return profit\n",
    "    "
   ]
  },
  {
   "cell_type": "code",
   "execution_count": 5,
   "metadata": {},
   "outputs": [],
   "source": [
    " #       total = 0\n",
    " #       for i in range(len(prices)-1,0,-1):\n",
    " #           if prices[i]>prices[i-1]:\n",
    " #               total+=(prices[i]-prices[i-1])\n",
    " #           \n",
    " #       return total"
   ]
  },
  {
   "cell_type": "code",
   "execution_count": null,
   "metadata": {},
   "outputs": [],
   "source": [
    "    #initialzie first price as lowest\n",
    "    smallest=prices[0]\n",
    "    profit=0\n",
    "    for i in range(1,n):\n",
    "        #if there is a new lowest, take it as smallest\n",
    "        if smallest>prices[i]:\n",
    "            smallest=prices[i]\n",
    "        #Greedy method, anytime there is a increase in price. sell, than immediately initialize smallest price to that day.\n",
    "        if prices[i]>smallest:\n",
    "            profit+=prices[i]-smallest\n",
    "            smallest=prices[i]\n",
    "    return profit"
   ]
  },
  {
   "cell_type": "code",
   "execution_count": null,
   "metadata": {},
   "outputs": [],
   "source": [
    "class Solution:\n",
    "    def maxProfit(self, prices: List[int]) -> int:\n",
    "        \n",
    "        # Nothing to process here.\n",
    "        if len(prices) == 1:\n",
    "            return 0\n",
    "        \n",
    "        previous = 0\n",
    "        current = 1\n",
    "        \n",
    "        profit = 0\n",
    "        \n",
    "        while current < len(prices):\n",
    "            \n",
    "            if prices[current] > prices[previous]:\n",
    "                profit += prices[current] - prices[previous]\n",
    "            \n",
    "            current += 1\n",
    "            previous += 1\n",
    "        \n",
    "        return profit\n",
    "        "
   ]
  },
  {
   "cell_type": "code",
   "execution_count": 7,
   "metadata": {},
   "outputs": [
    {
     "name": "stdout",
     "output_type": "stream",
     "text": [
      "2\n"
     ]
    }
   ],
   "source": [
    "nums = [3,2,3]\n",
    "count = nums.count(nums[0])\n",
    "print(count)\n"
   ]
  },
  {
   "cell_type": "code",
   "execution_count": null,
   "metadata": {},
   "outputs": [],
   "source": [
    "class Solution:\n",
    "    def majorityElement(self, nums: List[int]) -> int:\n",
    "        count = 0\n",
    "        for i in range(0, len(nums),1):\n",
    "            count= nums.count(nums[i])\n",
    "            if count > (len(nums)/2):\n",
    "                return nums[i]\n",
    "            "
   ]
  },
  {
   "cell_type": "code",
   "execution_count": null,
   "metadata": {},
   "outputs": [],
   "source": [
    "        temp = Counter(nums)\n",
    "        \n",
    "        for k,v in temp.items():\n",
    "            if v > int(len(nums) / 2):\n",
    "                return k"
   ]
  },
  {
   "cell_type": "code",
   "execution_count": null,
   "metadata": {},
   "outputs": [],
   "source": [
    "from collections import Counter\n",
    "class Solution:\n",
    "    def majorityElement(self, nums: List[int]) -> int:\n",
    "        return(list(Counter(nums).most_common(1)))[0][0]"
   ]
  },
  {
   "cell_type": "code",
   "execution_count": null,
   "metadata": {},
   "outputs": [],
   "source": [
    "import statistics \n",
    "class Solution:\n",
    "    def majorityElement(self, nums: List[int]) -> int:\n",
    "        return statistics.median_high(nums)"
   ]
  },
  {
   "cell_type": "code",
   "execution_count": null,
   "metadata": {},
   "outputs": [],
   "source": [
    "class Solution:\n",
    "    def majorityElement(self, nums: List[int]) -> int:\n",
    "        # using Boyer-Moore voting algorithm\n",
    "        ct = 1\n",
    "        candidate = nums[0]\n",
    "        \n",
    "        for i in nums:\n",
    "            if i == candidate:\n",
    "                ct += 1\n",
    "            else:\n",
    "                ct -= 1\n",
    "            if ct == 0:\n",
    "                candidate = i\n",
    "                ct += 1\n",
    "        return candidate"
   ]
  },
  {
   "cell_type": "code",
   "execution_count": null,
   "metadata": {},
   "outputs": [],
   "source": [
    "class Solution:\n",
    "    def twoSum(self, numbers: List[int], target: int) -> List[int]:\n",
    "        left = 0\n",
    "        right = len(numbers) - 1\n",
    "        \n",
    "        sumLR = 0\n",
    "        \n",
    "        while left <= right:\n",
    "            sumLR = numbers[left] + numbers[right]\n",
    "            \n",
    "            if sumLR > target:\n",
    "                right -= 1\n",
    "            elif sumLR < target:\n",
    "                left += 1\n",
    "            else:\n",
    "                return [left+1, right+1]"
   ]
  },
  {
   "cell_type": "code",
   "execution_count": null,
   "metadata": {},
   "outputs": [],
   "source": [
    " def twoSum(self, numbers: List[int], target: int) -> List[int]:\n",
    "        pointer1 = 0\n",
    "        pointer2 = len(numbers)-1\n",
    "        arr = []\n",
    "        for x in range(len(numbers)):\n",
    "            if numbers[pointer1] + numbers[pointer2] == target:\n",
    "                arr.extend([pointer1 + 1, pointer2 + 1])\n",
    "                break\n",
    "            elif numbers[pointer1] + numbers[pointer2] < target:\n",
    "                pointer1 += 1\n",
    "            else:\n",
    "                pointer2 -= 1\n",
    "                \n",
    "        return arr"
   ]
  },
  {
   "cell_type": "markdown",
   "metadata": {},
   "source": [
    "# set does not stores duplicates\n"
   ]
  },
  {
   "cell_type": "code",
   "execution_count": null,
   "metadata": {},
   "outputs": [],
   "source": [
    "def containsDuplicate(self, nums: List[int]) -> bool:\n",
    "set_num = set(nums)\n",
    "return len(set_num) != len(nums)"
   ]
  },
  {
   "cell_type": "code",
   "execution_count": null,
   "metadata": {},
   "outputs": [],
   "source": [
    "class Solution(object):\n",
    "    def containsDuplicate(self, nums):\n",
    "        \"\"\"\n",
    "        :type nums: List[int]\n",
    "        :rtype: bool\n",
    "        \"\"\"\n",
    "        if len(set(nums)) != len(nums):\n",
    "            return True\n",
    "        else:\n",
    "            return False"
   ]
  },
  {
   "cell_type": "code",
   "execution_count": null,
   "metadata": {},
   "outputs": [],
   "source": [
    "class Solution:\n",
    "def containsDuplicate(self, nums: List[int]) -> bool:\n",
    "from collections import Counter\n",
    "val = Counter(nums)\n",
    "for key,value in val.items():\n",
    "if value>1:\n",
    "return True\n",
    "return False"
   ]
  },
  {
   "cell_type": "code",
   "execution_count": 9,
   "metadata": {},
   "outputs": [
    {
     "data": {
      "text/plain": [
       "<function __main__.<lambda>(z=['thakur', 'japlo', 'ntin'])>"
      ]
     },
     "execution_count": 9,
     "metadata": {},
     "output_type": "execute_result"
    }
   ],
   "source": [
    "a = ['ntin', 'japlo', 'thakur']\n",
    "\n",
    "lambda  z = a[::-1] : print(z)\n"
   ]
  },
  {
   "cell_type": "code",
   "execution_count": null,
   "metadata": {},
   "outputs": [],
   "source": [
    "class Solution:\n",
    "    def containsNearbyDuplicate(self, nums: List[int], k: int) -> bool:\n",
    "        numToIndices = {}\n",
    "        for i,n in enumerate(nums):\n",
    "            if n in numToIndices.keys():\n",
    "                if i - numToIndices[n] <= k:\n",
    "                    return True\n",
    "                else:\n",
    "                    numToIndices[n] = i\n",
    "            else:\n",
    "                numToIndices[n] = i\n",
    "        return False"
   ]
  },
  {
   "cell_type": "code",
   "execution_count": null,
   "metadata": {},
   "outputs": [],
   "source": [
    "class Solution:\n",
    "    def countNumbers(self, numbers: list, low: int, high: int, table: dict):\n",
    "        try:\n",
    "            if high - low == 1:\n",
    "                return (numbers[low], low)\n",
    "\n",
    "            mid = (high + low) // 2\n",
    "            left = self.countNumbers(numbers=numbers, low=low, high=mid, table=table)\n",
    "            right = self.countNumbers(numbers=numbers, low=mid, high=high, table=table)\n",
    "\n",
    "            if left:\n",
    "                if left[0] in table:\n",
    "                    table[left[0]].append(left[1])\n",
    "                else:\n",
    "                    table[left[0]] = [left[1]]\n",
    "\n",
    "            if right:\n",
    "                if right[0] in table:\n",
    "                    table[right[0]].append(right[1])\n",
    "                else:\n",
    "                    table[right[0]] = [right[1]]\n",
    "\n",
    "        except Exception as error:\n",
    "            print(f\"[ERROR] countNumbers: {error}\")\n",
    "    \n",
    "    def getElementsCount(self, numbers: list) -> list:\n",
    "        try:\n",
    "            MappingTable: dict = {}\n",
    "            self.countNumbers(numbers=numbers, low=0, high=len(numbers), table=MappingTable)\n",
    "            if len(MappingTable.items()) >= 1:\n",
    "                return list(MappingTable.items())\n",
    "            else:\n",
    "                return []\n",
    "        except Exception as error:\n",
    "            print(f\"[ERROR] getElementsCount: {error}\")\n",
    "    \n",
    "    def containsNearbyDuplicate(self, numbers: List[int], k: int) -> bool:\n",
    "        try:\n",
    "            if len(numbers) == 1: return False\n",
    "            ret: list = self.getElementsCount(numbers=numbers)\n",
    "            ret = [ x for x in ret if len(x[1]) > 1 ]\n",
    "            result: bool = False\n",
    "            for i in ret:\n",
    "                for j in range(len(i[1])-1):\n",
    "                    if abs(i[1][j] - i[1][j+1]) <= k:\n",
    "                        result = True\n",
    "                        break\n",
    "            return result\n",
    "        except Exception as error:\n",
    "            print(f\"[ERROR] containsNearbyDuplicate: {error}\")"
   ]
  },
  {
   "cell_type": "code",
   "execution_count": null,
   "metadata": {},
   "outputs": [],
   "source": [
    "\n",
    "from sortedcontainers import SortedList\n",
    "class Solution:\n",
    "    def containsNearbyDuplicate(self, nums: List[int], k: int) -> bool:e\n",
    "        tree = SortedList()\n",
    "        for idx, val in enumerate(nums):\n",
    "            if idx > k:\n",
    "                tree.remove(nums[idx - k - 1])\n",
    "            left_index = tree.bisect_left(val)\n",
    "            right_index = tree.bisect_right(val)\n",
    "            if left_index != right_index:\n",
    "                return True\n",
    "            tree.add(val)\n",
    "        return False"
   ]
  },
  {
   "cell_type": "code",
   "execution_count": null,
   "metadata": {},
   "outputs": [],
   "source": [
    "\tdef containsNearbyDuplicate(self, nums: List[int], k: int) -> bool:\n",
    "\t\ts = {}\n",
    "\n",
    "\t\tfor i in range(0, len(nums)):\n",
    "\t\t\tif nums[i] in s and abs(i - s[nums[i]]) <= k:\n",
    "\t\t\t\treturn True\n",
    "\t\t\ts[nums[i]] = i\n",
    "\n",
    "\t\treturn False\n"
   ]
  },
  {
   "cell_type": "markdown",
   "metadata": {},
   "source": [
    "# Input: nums = [0,1,2,4,5,7]\n",
    "###  Output: [\"0->2\",\"4->5\",\"7\"]\n",
    "### Explanation: The ranges are:\n",
    "### [0,2] --> \"0->2\"\n",
    "### [4,5] --> \"4->5\"\n",
    "### [7,7] --> \"7\"\n",
    "### Example 2:"
   ]
  },
  {
   "cell_type": "code",
   "execution_count": null,
   "metadata": {},
   "outputs": [],
   "source": [
    "class Solution:\n",
    "    def summaryRanges(self, nums: List[int]) -> List[str]:\n",
    "        if len(nums) == 0: \n",
    "            return []\n",
    "        start = nums[0]\n",
    "        end = nums[0]\n",
    "\n",
    "        arr = []\n",
    "\n",
    "        for i in range(1,len(nums)):\n",
    "            if end+1 != nums[i]:\n",
    "\n",
    "                if start == end:\n",
    "                    arr.append(str(start))\n",
    "                else:\n",
    "                    arr.append(str(start) + \"->\" + str(end))\n",
    "\n",
    "                start = nums[i]\n",
    "\n",
    "            end = nums[i]\n"
   ]
  },
  {
   "cell_type": "code",
   "execution_count": null,
   "metadata": {},
   "outputs": [],
   "source": [
    "i=0\n",
    "res = []\n",
    "while i<len(nums):\n",
    "    start = nums[i]\n",
    "    while i<len(nums)-1 and nums[i+1]==nums[i]+1:\n",
    "        i+=1\n",
    "    end = nums[i]\n",
    "    res.append(str(nums[i]) if start==end else \"{0}->{1}\".format(start,end))\n",
    "    i+=1\n",
    "return res"
   ]
  },
  {
   "cell_type": "code",
   "execution_count": null,
   "metadata": {},
   "outputs": [],
   "source": [
    "class Solution:\n",
    "    def summaryRanges(self, nums: List[int]) -> List[str]:\n",
    "        if len(nums)==0:\n",
    "            s=[]\n",
    "            return s\n",
    "        if len(nums)==1:\n",
    "            s=[]\n",
    "            s.append(str(nums[0]))\n",
    "            return s\n",
    "        s=\"\"\n",
    "        l=[]\n",
    "        b=[]\n",
    "        l.append(nums[0])\n",
    "        for i in range(0,len(nums)-1):\n",
    "            if nums[i+1]-nums[i]!=1:\n",
    "                if i==0:\n",
    "                    b.append(str(nums[i]))\n",
    "                elif nums[i]-nums[i-1]!=1:\n",
    "                    b.append(str(nums[i]))\n",
    "                else:\n",
    "                    b.append(str(l[0])+\"->\"+str(nums[i]))\n",
    "                l=[]\n",
    "                print(b)\n",
    "            else:\n",
    "                l.append(nums[i])\n",
    "                print(l)\n",
    "        if len(l)==0:\n",
    "            b.append(str(nums[len(nums)-1]))\n",
    "            print(b)\n",
    "        else:\n",
    "            if nums[len(nums)-1]-l[len(l)-1]==1:\n",
    "                 b.append(str(l[0])+\"->\"+str(nums[len(nums)-1]))\n",
    "            else:\n",
    "                b.append(str(l[0]))\n",
    "                b.append(str(nums[len(nums)-1]))\n",
    "        return(b)"
   ]
  },
  {
   "cell_type": "code",
   "execution_count": null,
   "metadata": {},
   "outputs": [],
   "source": [
    "class Solution:\n",
    "    def summaryRanges(self, nums: List[int]) -> List[str]:\n",
    "        output = []\n",
    "        def add_to_output(l, r):\n",
    "            if r == l:\n",
    "                output.append(str(r))\n",
    "            else:\n",
    "                output.append(f\"{l}->{r}\")        \n",
    "\n",
    "        if not nums:\n",
    "            return []\n",
    "        l = r = nums[0]\n",
    "        for i in range(1, len(nums)):\n",
    "            if nums[i] != nums[i-1] + 1:\n",
    "                # found disconnection\n",
    "                add_to_output(l, r)\n",
    "                l = nums[i]\n",
    "                r = nums[i]\n",
    "                \n",
    "            else:\n",
    "                r = nums[i]\n",
    "            \n",
    "        add_to_output(l, r)\n",
    "        return output"
   ]
  },
  {
   "cell_type": "code",
   "execution_count": 10,
   "metadata": {},
   "outputs": [
    {
     "ename": "NameError",
     "evalue": "name 'List' is not defined",
     "output_type": "error",
     "traceback": [
      "\u001b[1;31m---------------------------------------------------------------------------\u001b[0m",
      "\u001b[1;31mNameError\u001b[0m                                 Traceback (most recent call last)",
      "\u001b[1;32m<ipython-input-10-f2ca31bb3598>\u001b[0m in \u001b[0;36m<module>\u001b[1;34m\u001b[0m\n\u001b[1;32m----> 1\u001b[1;33m \u001b[1;32mclass\u001b[0m \u001b[0mSolution\u001b[0m\u001b[1;33m:\u001b[0m\u001b[1;33m\u001b[0m\u001b[1;33m\u001b[0m\u001b[0m\n\u001b[0m\u001b[0;32m      2\u001b[0m     \u001b[1;32mdef\u001b[0m \u001b[0msummaryRanges\u001b[0m\u001b[1;33m(\u001b[0m\u001b[0mself\u001b[0m\u001b[1;33m,\u001b[0m \u001b[0mnumbers\u001b[0m\u001b[1;33m:\u001b[0m \u001b[0mList\u001b[0m\u001b[1;33m[\u001b[0m\u001b[0mint\u001b[0m\u001b[1;33m]\u001b[0m\u001b[1;33m)\u001b[0m \u001b[1;33m->\u001b[0m \u001b[0mList\u001b[0m\u001b[1;33m[\u001b[0m\u001b[0mstr\u001b[0m\u001b[1;33m]\u001b[0m\u001b[1;33m:\u001b[0m\u001b[1;33m\u001b[0m\u001b[1;33m\u001b[0m\u001b[0m\n\u001b[0;32m      3\u001b[0m         \u001b[1;32mtry\u001b[0m\u001b[1;33m:\u001b[0m\u001b[1;33m\u001b[0m\u001b[1;33m\u001b[0m\u001b[0m\n\u001b[0;32m      4\u001b[0m             \u001b[1;32mif\u001b[0m \u001b[0mlen\u001b[0m\u001b[1;33m(\u001b[0m\u001b[0mnumbers\u001b[0m\u001b[1;33m)\u001b[0m \u001b[1;33m<=\u001b[0m \u001b[1;36m0\u001b[0m\u001b[1;33m:\u001b[0m \u001b[1;32mreturn\u001b[0m \u001b[0mnumbers\u001b[0m\u001b[1;33m\u001b[0m\u001b[1;33m\u001b[0m\u001b[0m\n\u001b[0;32m      5\u001b[0m             \u001b[1;32mif\u001b[0m \u001b[0mlen\u001b[0m\u001b[1;33m(\u001b[0m\u001b[0mnumbers\u001b[0m\u001b[1;33m)\u001b[0m \u001b[1;33m==\u001b[0m \u001b[1;36m1\u001b[0m\u001b[1;33m:\u001b[0m \u001b[1;32mreturn\u001b[0m \u001b[1;33m[\u001b[0m\u001b[0mstr\u001b[0m\u001b[1;33m(\u001b[0m\u001b[0mnumbers\u001b[0m\u001b[1;33m[\u001b[0m\u001b[1;36m0\u001b[0m\u001b[1;33m]\u001b[0m\u001b[1;33m)\u001b[0m\u001b[1;33m]\u001b[0m\u001b[1;33m\u001b[0m\u001b[1;33m\u001b[0m\u001b[0m\n",
      "\u001b[1;32m<ipython-input-10-f2ca31bb3598>\u001b[0m in \u001b[0;36mSolution\u001b[1;34m()\u001b[0m\n\u001b[0;32m      1\u001b[0m \u001b[1;32mclass\u001b[0m \u001b[0mSolution\u001b[0m\u001b[1;33m:\u001b[0m\u001b[1;33m\u001b[0m\u001b[1;33m\u001b[0m\u001b[0m\n\u001b[1;32m----> 2\u001b[1;33m     \u001b[1;32mdef\u001b[0m \u001b[0msummaryRanges\u001b[0m\u001b[1;33m(\u001b[0m\u001b[0mself\u001b[0m\u001b[1;33m,\u001b[0m \u001b[0mnumbers\u001b[0m\u001b[1;33m:\u001b[0m \u001b[0mList\u001b[0m\u001b[1;33m[\u001b[0m\u001b[0mint\u001b[0m\u001b[1;33m]\u001b[0m\u001b[1;33m)\u001b[0m \u001b[1;33m->\u001b[0m \u001b[0mList\u001b[0m\u001b[1;33m[\u001b[0m\u001b[0mstr\u001b[0m\u001b[1;33m]\u001b[0m\u001b[1;33m:\u001b[0m\u001b[1;33m\u001b[0m\u001b[1;33m\u001b[0m\u001b[0m\n\u001b[0m\u001b[0;32m      3\u001b[0m         \u001b[1;32mtry\u001b[0m\u001b[1;33m:\u001b[0m\u001b[1;33m\u001b[0m\u001b[1;33m\u001b[0m\u001b[0m\n\u001b[0;32m      4\u001b[0m             \u001b[1;32mif\u001b[0m \u001b[0mlen\u001b[0m\u001b[1;33m(\u001b[0m\u001b[0mnumbers\u001b[0m\u001b[1;33m)\u001b[0m \u001b[1;33m<=\u001b[0m \u001b[1;36m0\u001b[0m\u001b[1;33m:\u001b[0m \u001b[1;32mreturn\u001b[0m \u001b[0mnumbers\u001b[0m\u001b[1;33m\u001b[0m\u001b[1;33m\u001b[0m\u001b[0m\n\u001b[0;32m      5\u001b[0m             \u001b[1;32mif\u001b[0m \u001b[0mlen\u001b[0m\u001b[1;33m(\u001b[0m\u001b[0mnumbers\u001b[0m\u001b[1;33m)\u001b[0m \u001b[1;33m==\u001b[0m \u001b[1;36m1\u001b[0m\u001b[1;33m:\u001b[0m \u001b[1;32mreturn\u001b[0m \u001b[1;33m[\u001b[0m\u001b[0mstr\u001b[0m\u001b[1;33m(\u001b[0m\u001b[0mnumbers\u001b[0m\u001b[1;33m[\u001b[0m\u001b[1;36m0\u001b[0m\u001b[1;33m]\u001b[0m\u001b[1;33m)\u001b[0m\u001b[1;33m]\u001b[0m\u001b[1;33m\u001b[0m\u001b[1;33m\u001b[0m\u001b[0m\n",
      "\u001b[1;31mNameError\u001b[0m: name 'List' is not defined"
     ]
    }
   ],
   "source": [
    "class Solution:\n",
    "    def summaryRanges(self, numbers: List[int]) -> List[str]:\n",
    "        try:\n",
    "            if len(numbers) <= 0: return numbers\n",
    "            if len(numbers) == 1: return [str(numbers[0])]\n",
    "            i: int = 0\n",
    "            result: list = list()\n",
    "            start: int = 0\n",
    "            difference: int = 0\n",
    "            while i < len(numbers):\n",
    "                if i < len(numbers)-1:\n",
    "                    difference = numbers[i+1] - numbers[i]\n",
    "                    if difference != 1:\n",
    "                        if i-start >= 1:\n",
    "                            result.append(f\"{numbers[start]}->{numbers[i]}\")\n",
    "                        else:\n",
    "                            result.append(str(numbers[i]))\n",
    "                        start = i+1\n",
    "                else:\n",
    "                    if i-start >= 1:\n",
    "                        result.append(f\"{numbers[start]}->{numbers[i]}\")\n",
    "                    else:\n",
    "                        result.append(str(numbers[i]))\n",
    "                i+=1\n",
    "            return result\n",
    "        except Exception as error:\n",
    "            print(f\"[ERROR] findRanges: {error}\")"
   ]
  },
  {
   "cell_type": "code",
   "execution_count": null,
   "metadata": {},
   "outputs": [],
   "source": [
    "class Solution:\n",
    "    def summaryRanges(self, nums: List[int]) -> List[str]:\n",
    "        \n",
    "        if len(nums)< 1: return nums\n",
    "\n",
    "        result = []\n",
    "         \n",
    "        prev =first_range=counter= nums[0]\n",
    "        \n",
    "        for n in range(len(nums)):\n",
    "            \n",
    "            if counter != nums[n]  :\n",
    "                if first_range==prev:\n",
    "                    temp = \"{}\".format(first_range)\n",
    "                else:\n",
    "                    temp = \"{}->{}\".format(first_range,prev)\n",
    "                    \n",
    "                result.append(temp)\n",
    "                first_range = nums[n]\n",
    "                counter = nums[n]\n",
    "            \n",
    "            # end of the loop\n",
    "            if len(nums) == n +1:\n",
    "                if first_range==nums[n]:\n",
    "                    temp = \"{}\".format(nums[n])\n",
    "                else:\n",
    "                    temp = \"{}->{}\".format(first_range,nums[n])\n",
    "                    \n",
    "                result.append(temp)\n",
    "                break\n",
    "                    \n",
    "            prev= nums[n]\n",
    "            counter+=1"
   ]
  },
  {
   "cell_type": "code",
   "execution_count": null,
   "metadata": {},
   "outputs": [],
   "source": [
    "class Solution:\n",
    "    def summaryRanges(self, nums: List[int]) -> List[str]:\n",
    "        \n",
    "        result = []\n",
    "        \n",
    "        for num in nums:\n",
    "            if not result or num > result[-1][1]+1:\n",
    "            \n",
    "                result.append([num,num])\n",
    "            \n",
    "            else:\n",
    "                result[-1][1] = num\n",
    "                \n",
    "                \n",
    "        return [str(i) if i==j else f'{i}->{j}' for i,j in result]"
   ]
  },
  {
   "cell_type": "code",
   "execution_count": 25,
   "metadata": {},
   "outputs": [
    {
     "name": "stdout",
     "output_type": "stream",
     "text": [
      "4->5\n"
     ]
    }
   ],
   "source": [
    "result = [\"0->2\",\"4->5\",\"7\"]\n",
    "#result = [\"0->2\"]\n",
    "print (result[1])"
   ]
  },
  {
   "cell_type": "code",
   "execution_count": null,
   "metadata": {},
   "outputs": [],
   "source": [
    "class Solution:\n",
    "    def missingNumber(self, nums: List[int]):\n",
    "        if len(nums)==1:\n",
    "            if nums[0]==0:\n",
    "                return 1\n",
    "            else:\n",
    "                return 0\n",
    "        for i in range(0,len(nums)+1):\n",
    "            if i not in nums:\n",
    "                return i"
   ]
  },
  {
   "cell_type": "code",
   "execution_count": null,
   "metadata": {},
   "outputs": [],
   "source": [
    "def missingNumber(self, nums: List[int]) -> int:\n",
    "    nums1=list(range(0,len(nums)+1)) # list of numbers from 0 to n\n",
    "    return sum(nums1)-sum(nums) # difference gives the missing number\n",
    "\t'''"
   ]
  },
  {
   "cell_type": "code",
   "execution_count": 26,
   "metadata": {},
   "outputs": [],
   "source": [
    "def missingNumber(self, nums):\n",
    "        return len(nums)*(len(nums)+1)/2 - sum(nums)"
   ]
  },
  {
   "cell_type": "code",
   "execution_count": null,
   "metadata": {},
   "outputs": [],
   "source": [
    "class Solution:\n",
    "    def addBinary(self, a: str, b: str) -> str:\n",
    "        max_len = max(len(a), len(b))\n",
    "        \n",
    "        a = a.zfill(max_len)\n",
    "        b = b.zfill(max_len)\n",
    "        \n",
    "        result =''\n",
    "        carry = 0\n",
    "        for i in range(max_len-1,-1,-1):\n",
    "            r =carry\n",
    "            r += 1 if a[i] == '1' else 0\n",
    "            r += 1 if b[i] == '1' else 0\n",
    "            result = ('1' if r % 2 == 1 else '0') + result\n",
    "            carry = 0 if r < 2 else 1\n",
    "        if carry !=0 :result = '1' +result\n",
    "        return result.zfill(max_len)"
   ]
  },
  {
   "cell_type": "markdown",
   "metadata": {},
   "source": [
    "# ZFILL(len)  Method\n",
    "### It is used for fill zeros in the string"
   ]
  },
  {
   "cell_type": "code",
   "execution_count": 28,
   "metadata": {},
   "outputs": [
    {
     "name": "stdout",
     "output_type": "stream",
     "text": [
      "0000000050\n"
     ]
    }
   ],
   "source": [
    "txt = \"50\"\n",
    "x = txt.zfill(10)\n",
    "print(x)"
   ]
  },
  {
   "cell_type": "code",
   "execution_count": null,
   "metadata": {},
   "outputs": [],
   "source": [
    "class Solution:\n",
    "    def addBinary(self, a: str, b: str) -> str:\n",
    "        max_len = max(len(a), len(b))\n",
    "        \n",
    "        a = a.zfill(max_len)\n",
    "        b = b.zfill(max_len)\n",
    "        \n",
    "        result =''\n",
    "        carry = 0\n",
    "        for i in range(max_len-1,-1,-1):\n",
    "            r =carry\n",
    "            r += 1 if a[i] == '1' else 0\n",
    "            r += 1 if b[i] == '1' else 0\n",
    "            result = ('1' if r % 2 == 1 else '0') + result\n",
    "            carry = 0 if r < 2 else 1\n",
    "        if carry !=0 :result = '1' +result\n",
    "        return result.zfill(max_len)"
   ]
  },
  {
   "cell_type": "code",
   "execution_count": 34,
   "metadata": {},
   "outputs": [
    {
     "name": "stdout",
     "output_type": "stream",
     "text": [
      "11\n"
     ]
    }
   ],
   "source": [
    "a = \"11\"\n",
    "l = len(a)\n",
    "print(a.zfill(l))"
   ]
  },
  {
   "cell_type": "code",
   "execution_count": null,
   "metadata": {},
   "outputs": [],
   "source": [
    "def addBinary(self, a: str, b: str) -> str:\n",
    "        return str(bin(int(a,2) + int(b,2)))[2:]"
   ]
  },
  {
   "cell_type": "code",
   "execution_count": null,
   "metadata": {},
   "outputs": [],
   "source": [
    "  def addBinary(self, a: str, b: str) -> str:\n",
    "        x=a[::-1]\n",
    "        y=b[::-1]\n",
    "        val=int(x[0])+int(y[0])\n",
    "        j=[]\n",
    "        for i in range(1,max(len(a),len(b))+1): \n",
    "                       j.append(val%2)\n",
    "                       val=(int(x[i]) if len(x)>i else 0)+(int(y[i]) if len(y)>i else 0)+val//2\n",
    "        if val>=1:\n",
    "                       j.append(val)\n",
    "        return ''.join(str(x) for x in j[::-1])   "
   ]
  },
  {
   "cell_type": "markdown",
   "metadata": {},
   "source": [
    "class Solution:\n",
    "    def addBinary(self, a: str, b: str) -> str:\n",
    "        return bin(int(a,2) + int(b,2)).replace(\"0b\",\"\")"
   ]
  },
  {
   "cell_type": "markdown",
   "metadata": {},
   "source": [
    "# Bin function\n",
    "Python bin()\n",
    "The bin() method converts and returns the binary equivalent string of a given integer. If the parameter isn't an integer, it has to implement __index__() method to return an integer.\n",
    "\n",
    "The syntax of bin() method is:\n",
    "\n",
    "bin(num)\n",
    "bin() Parameters\n",
    "bin() method takes a single parameter:\n",
    "\n",
    "num - an integer number whose binary equivalent is to be calculated.\n",
    "If not an integer, should implement __index__() method to return an integer.\n",
    "Return value from bin()\n",
    "bin() method returns the binary string equivalent to the given integer.\n",
    "\n",
    "If not specified an integer, it raises a TypeError exception highlighting the type cannot be interpreted as an integer."
   ]
  },
  {
   "cell_type": "code",
   "execution_count": 35,
   "metadata": {},
   "outputs": [
    {
     "name": "stdout",
     "output_type": "stream",
     "text": [
      "0b101\n"
     ]
    }
   ],
   "source": [
    "n = 5\n",
    "print(bin(n))"
   ]
  },
  {
   "cell_type": "code",
   "execution_count": 36,
   "metadata": {},
   "outputs": [
    {
     "name": "stdout",
     "output_type": "stream",
     "text": [
      "The binary equivalent of quantity is: 0b101\n"
     ]
    }
   ],
   "source": [
    "class Quantity:\n",
    "    apple = 1\n",
    "    orange = 2\n",
    "    grapes = 2\n",
    "    \n",
    "    def __index__(self):\n",
    "        return self.apple + self.orange + self.grapes\n",
    "        \n",
    "print('The binary equivalent of quantity is:', bin(Quantity()))"
   ]
  },
  {
   "cell_type": "markdown",
   "metadata": {},
   "source": [
    "Here, we've sent an object of class Quantity to the bin() method.\n",
    "\n",
    "bin() method doesn't raise an error even if the object Quantity is not an integer.\n",
    "\n",
    "This is because we have implemented the __index__() method which returns an integer (sum of fruit quantities). This integer is then supplied to the bin() method."
   ]
  },
  {
   "cell_type": "code",
   "execution_count": 6,
   "metadata": {},
   "outputs": [
    {
     "name": "stdout",
     "output_type": "stream",
     "text": [
      "[1, 3, 12, 0, 0]\n"
     ]
    }
   ],
   "source": [
    "nums = [0,1,0,3,12]\n",
    "l = len(nums)\n",
    "for i in range(0,l):\n",
    "    if nums[i] == 0:\n",
    "        z = nums[i]\n",
    "        nums.remove(z)\n",
    "        nums.insert(l,z)\n",
    "        \n",
    "print(nums)"
   ]
  },
  {
   "cell_type": "code",
   "execution_count": null,
   "metadata": {},
   "outputs": [],
   "source": [
    "nums = [3,2,1]\n"
   ]
  },
  {
   "cell_type": "markdown",
   "metadata": {},
   "source": [
    "# THIRD MAX\n",
    "414. Third Maximum Number\n",
    "Easy\n",
    "\n",
    "955\n",
    "\n",
    "1673\n",
    "\n",
    "Add to List\n",
    "\n",
    "Share\n",
    "Given integer array nums, return the third maximum number in this array. If the third maximum does not exist, return the maximum number.\n",
    "\n",
    " \n",
    "\n",
    "Example 1:\n",
    "\n",
    "Input: nums = [3,2,1]\n",
    "Output: 1\n",
    "Explanation: The third maximum is 1.\n",
    "Example 2:\n",
    "\n",
    "Input: nums = [1,2]\n",
    "Output: 2\n",
    "Explanation: The third maximum does not exist, so the maximum (2) is returned instead.\n",
    "Example 3:\n",
    "\n",
    "Input: nums = [2,2,3,1]\n",
    "Output: 1\n",
    "Explanation: Note that the third maximum here means the third maximum distinct number.\n",
    "Both numbers with value 2 are both considered as second maximum.\n",
    " \n",
    "\n",
    "Constraints:\n",
    "\n",
    "1 <= nums.length <= 104\n",
    "-231 <= nums[i] <= 231 - 1\n",
    " \n",
    "\n",
    "Follow up: Can you find an O(n) solution?"
   ]
  },
  {
   "cell_type": "code",
   "execution_count": null,
   "metadata": {},
   "outputs": [],
   "source": [
    "n = set(nums)\n",
    "        nums = list(n)\n",
    "        if len(nums)<3:\n",
    "            return max(nums)\n",
    "        else:\n",
    "            x = max(nums)\n",
    "            nums = list(filter(lambda a: a!=x, nums))\n",
    "            if nums == []:\n",
    "                return x\n",
    "            \n",
    "            \n",
    "            y = max(nums)\n",
    "            nums = list(filter(lambda a: a!=y, nums))\n",
    "            if nums == []:\n",
    "                return y\n",
    "            \n",
    "            return max(nums)"
   ]
  },
  {
   "cell_type": "code",
   "execution_count": null,
   "metadata": {},
   "outputs": [],
   "source": [
    "def thirdMax(self, nums: List[int]) -> int:\n",
    "    return sorted(Counter(nums).items())[-3][0] if len(Counter(nums)) >=3 else max(nums)"
   ]
  },
  {
   "cell_type": "code",
   "execution_count": null,
   "metadata": {},
   "outputs": [],
   "source": [
    "nums = [1,2,3,4,4,3,2] #重複的元素不算\n",
    "a = b = c = float('-inf')\n",
    "for num in nums:\n",
    "    if num not in (a,b,c):\n",
    "        if num>a: \n",
    "            c= b\n",
    "            b =a\n",
    "            a = num\n",
    "        elif num>b:\n",
    "            c= b\n",
    "            b = num\n",
    "        elif num>c:\n",
    "            c= num\n",
    "return a if c == float('-inf') else c #2"
   ]
  },
  {
   "cell_type": "code",
   "execution_count": null,
   "metadata": {},
   "outputs": [],
   "source": [
    "nums = [1,2,3,4,4,3,2] #重複的元素也算\n",
    "a =b = c= float('-inf')\n",
    "for num in nums:\n",
    "    if num>a:\n",
    "        c = b\n",
    "        b = a\n",
    "        a = num  \n",
    "    elif num>b:\n",
    "        c= b \n",
    "        b = num\n",
    "    elif num>c:\n",
    "        c = num\n",
    "c #3"
   ]
  },
  {
   "cell_type": "code",
   "execution_count": null,
   "metadata": {},
   "outputs": [],
   "source": [
    "class Solution:\n",
    "    def thirdMax(self, nums: List[int]) -> int:\n",
    "        nums = list(set(nums))\n",
    "        nums.sort()\n",
    "        if len(nums) > 2:\n",
    "            return nums[-3]\n",
    "        else:\n",
    "            return max(nums)"
   ]
  },
  {
   "cell_type": "code",
   "execution_count": null,
   "metadata": {},
   "outputs": [],
   "source": [
    "class Solution:\n",
    "    def thirdMax(self, nums: List[int]) -> int:\n",
    "        nums = set(nums)\n",
    "        l = len(nums)\n",
    "        if l < 3:\n",
    "            return max(nums)\n",
    "        for n in range(2):\n",
    "            nums.remove(max(nums))\n",
    "        return max(nums)"
   ]
  },
  {
   "cell_type": "code",
   "execution_count": 23,
   "metadata": {},
   "outputs": [
    {
     "ename": "TypeError",
     "evalue": "'set' object is not subscriptable",
     "output_type": "error",
     "traceback": [
      "\u001b[1;31m---------------------------------------------------------------------------\u001b[0m",
      "\u001b[1;31mTypeError\u001b[0m                                 Traceback (most recent call last)",
      "\u001b[1;32m<ipython-input-23-fb03f5818e4f>\u001b[0m in \u001b[0;36m<module>\u001b[1;34m\u001b[0m\n\u001b[0;32m      5\u001b[0m \u001b[0mx\u001b[0m \u001b[1;33m=\u001b[0m\u001b[1;33m[\u001b[0m\u001b[1;33m]\u001b[0m\u001b[1;33m\u001b[0m\u001b[1;33m\u001b[0m\u001b[0m\n\u001b[0;32m      6\u001b[0m \u001b[1;32mfor\u001b[0m \u001b[0mi\u001b[0m \u001b[1;32min\u001b[0m \u001b[0mrange\u001b[0m\u001b[1;33m(\u001b[0m\u001b[1;36m1\u001b[0m\u001b[1;33m,\u001b[0m\u001b[0mlen\u001b[0m\u001b[1;33m(\u001b[0m\u001b[0mm\u001b[0m\u001b[1;33m)\u001b[0m\u001b[1;33m)\u001b[0m\u001b[1;33m:\u001b[0m\u001b[1;33m\u001b[0m\u001b[1;33m\u001b[0m\u001b[0m\n\u001b[1;32m----> 7\u001b[1;33m     \u001b[1;32mif\u001b[0m \u001b[0mm\u001b[0m\u001b[1;33m[\u001b[0m\u001b[0mi\u001b[0m\u001b[1;33m-\u001b[0m\u001b[1;36m1\u001b[0m\u001b[1;33m]\u001b[0m \u001b[1;33m!=\u001b[0m \u001b[0mm\u001b[0m\u001b[1;33m[\u001b[0m\u001b[0mi\u001b[0m\u001b[1;33m]\u001b[0m\u001b[1;33m-\u001b[0m\u001b[1;36m1\u001b[0m\u001b[1;33m:\u001b[0m\u001b[1;33m\u001b[0m\u001b[1;33m\u001b[0m\u001b[0m\n\u001b[0m\u001b[0;32m      8\u001b[0m         \u001b[0mz\u001b[0m \u001b[1;33m=\u001b[0m \u001b[0mi\u001b[0m\u001b[1;33m\u001b[0m\u001b[1;33m\u001b[0m\u001b[0m\n\u001b[0;32m      9\u001b[0m         \u001b[0mx\u001b[0m\u001b[1;33m.\u001b[0m\u001b[0mappend\u001b[0m\u001b[1;33m(\u001b[0m\u001b[0mz\u001b[0m\u001b[1;33m)\u001b[0m\u001b[1;33m\u001b[0m\u001b[1;33m\u001b[0m\u001b[0m\n",
      "\u001b[1;31mTypeError\u001b[0m: 'set' object is not subscriptable"
     ]
    }
   ],
   "source": [
    "nums = [4,3,2,7,8,2,3,1]\n",
    "nums.sort()\n",
    "set(nums)\n",
    "x =[]\n",
    "for i in range(1,len(m)):\n",
    "    if m[i-1] != m[i]-1:\n",
    "        z = i\n",
    "        x.append(z)\n",
    "print(nums)\n",
    "        "
   ]
  },
  {
   "cell_type": "markdown",
   "metadata": {},
   "source": [
    "# FIND THE DISAPPEARED ONE ON ARRAY\n",
    "Given an array nums of n integers where nums[i] is in the range [1, n], return an array of all the integers in the range [1, n] that do not appear in nums.\n",
    "\n",
    " \n",
    "\n",
    "Example 1:\n",
    "\n",
    "Input: nums = [4,3,2,7,8,2,3,1]\n",
    "Output: [5,6]\n",
    "Example 2:\n",
    "\n",
    "Input: nums = [1,1]\n",
    "Output: [2]\n",
    " \n",
    "\n",
    "Constraints:\n",
    "\n",
    "n == nums.length\n",
    "1 <= n <= 105\n",
    "1 <= nums[i] <= n\n",
    " \n",
    "\n",
    "Follow up: Could you do it without extra space and in O(n) runtime? You may assume the returned list does not count as extra space."
   ]
  },
  {
   "cell_type": "code",
   "execution_count": null,
   "metadata": {},
   "outputs": [],
   "source": [
    "def findDisappearedNumbers(self, nums: List[int]) -> List[int]:\n",
    "        for i in range(len(nums)):\n",
    "            while nums[nums[i] - 1] != nums[i]:\n",
    "                nums[nums[i] - 1], nums[i] = nums[i], nums[nums[i] - 1]\n",
    "        return [i + 1 for i, _ in enumerate(nums) if nums[i] != i + 1]"
   ]
  },
  {
   "cell_type": "code",
   "execution_count": null,
   "metadata": {},
   "outputs": [],
   "source": [
    "class Solution:\n",
    "    def findDisappearedNumbers(self, nums: List[int]) -> List[int]:\n",
    "        return list(set(range(1,len(nums)+1)) - set(nums))"
   ]
  },
  {
   "cell_type": "code",
   "execution_count": 36,
   "metadata": {},
   "outputs": [
    {
     "name": "stdout",
     "output_type": "stream",
     "text": [
      "['o', 'l', 'l', 'e', 'h']\n"
     ]
    }
   ],
   "source": [
    "s = [\"h\",\"e\",\"l\",\"l\",\"o\"]\n",
    "s.reverse()"
   ]
  },
  {
   "cell_type": "code",
   "execution_count": null,
   "metadata": {},
   "outputs": [],
   "source": [
    "# @param {Character[]} s\n",
    "# @return {Void} Do not return anything, modify s in-place instead.\n",
    "def reverse_string(s)\n",
    "    left = 0\n",
    "    right = s.length-1\n",
    "    \n",
    "    while left < right\n",
    "        swap(s, left, right)\n",
    "        left += 1\n",
    "        right -= 1\n",
    "    end\n",
    "    \n",
    "    s\n",
    "end\n",
    "\n",
    "def swap(s, i,j)\n",
    "    s[i], s[j] = s[j], s[i]\n",
    "end"
   ]
  },
  {
   "cell_type": "code",
   "execution_count": null,
   "metadata": {},
   "outputs": [],
   "source": [
    "class Solution(object):\n",
    "    def reverseString(self, s):\n",
    "        \"\"\"\n",
    "        :type s: List[str]\n",
    "        :rtype: None Do not return anything, modify s in-place instead.\n",
    "        \"\"\"\n",
    "        # solution 1 :\n",
    "        # left, right = 0, len(s)-1\n",
    "        # while left<right:\n",
    "        #     s[left],s[right] = s[right], s[left]\n",
    "        #     left, right = left+1, right-1\n",
    "        \n",
    "        # solution 2 :\n",
    "        s.reverse()"
   ]
  },
  {
   "cell_type": "markdown",
   "metadata": {},
   "source": [
    "# RANSOM NOTE\n",
    "Given an arbitrary ransom note string and another string containing letters from all the magazines, write a function that will return true if the ransom note can be constructed from the magazines ; otherwise, it will return false.\n",
    "\n",
    "Each letter in the magazine string can only be used once in your ransom note.\n",
    "\n",
    " \n",
    "\n",
    "Example 1:\n",
    "\n",
    "Input: ransomNote = \"a\", magazine = \"b\"\n",
    "Output: false\n",
    "Example 2:\n",
    "\n",
    "Input: ransomNote = \"aa\", magazine = \"ab\"\n",
    "Output: false\n",
    "Example 3:\n",
    "\n",
    "Input: ransomNote = \"aa\", magazine = \"aab\"\n",
    "Output: true\n",
    " \n",
    "\n",
    "Constraints:\n",
    "\n",
    "You may assume that both strings contain only lowercase letters."
   ]
  },
  {
   "cell_type": "code",
   "execution_count": null,
   "metadata": {},
   "outputs": [],
   "source": [
    "from collections import Counter\n",
    "class Solution:\n",
    "    def canConstruct(self, ransomNote: str, magazine: str) -> bool:\n",
    "        m = Counter(magazine)\n",
    "        r = Counter(ransomNote)\n",
    "        m.subtract(r)\n",
    "        for i in m.keys():\n",
    "            if m[i] < 0:\n",
    "                return False\n",
    "        return True\n",
    "class Solution:\n",
    "    def canConstruct(self, ransomNote: str, magazine: str) -> bool:\n",
    "        m = list(magazine)\n",
    "        r = list(ransomNote)\n",
    "        for i in r:\n",
    "            if i not in m or m.count(i) < r.count(i):\n",
    "                return False\n",
    "        return True"
   ]
  },
  {
   "cell_type": "code",
   "execution_count": null,
   "metadata": {},
   "outputs": [],
   "source": [
    "class Solution:\n",
    "    def canConstruct(self, ransomNote: str, magazine: str) -> bool:\n",
    "        # set as true until proven false\n",
    "\t\ttest = True\n",
    "        for i in ransomNote:\n",
    "            if i in magazine:\n",
    "\t\t\t\t# remove characer from magazine str\n",
    "                magazine = magazine.replace(i, '', 1)\n",
    "            else:\n",
    "                test = False\n",
    "\t\t\t\t# end the for loop\n",
    "                break\n",
    "        return(test)"
   ]
  },
  {
   "cell_type": "code",
   "execution_count": null,
   "metadata": {},
   "outputs": [],
   "source": [
    "def canConstruct(self, ransomNote: str, magazine: str) -> bool:\n",
    "        counter = collections.Counter(magazine)\n",
    "        \n",
    "        for c in ransomNote:\n",
    "            if c not in counter or counter[c] == 0:\n",
    "                return False\n",
    "            counter[c] -= 1\n",
    "\n",
    "        return True"
   ]
  },
  {
   "cell_type": "code",
   "execution_count": null,
   "metadata": {},
   "outputs": [],
   "source": [
    "from collections import Counter\n",
    "class Solution:\n",
    "    def canConstruct(self, ransomNote: str, magazine: str) -> bool:\n",
    "        c = Counter(ransomNote)\n",
    "        c1 = Counter(magazine)\n",
    "        for k,v in c.items():\n",
    "            if k in c1:\n",
    "                if v > c1[k]:\n",
    "                    return False\n",
    "            else:\n",
    "                return False\n",
    "        return True"
   ]
  },
  {
   "cell_type": "code",
   "execution_count": 44,
   "metadata": {},
   "outputs": [
    {
     "name": "stdout",
     "output_type": "stream",
     "text": [
      "10\n"
     ]
    }
   ],
   "source": [
    "stir = \"hi my name is \"\n",
    "l = len(stir)\n",
    "n =l - stir.count(' ')\n",
    "print(n)"
   ]
  },
  {
   "cell_type": "markdown",
   "metadata": {},
   "source": [
    "# Consecutive Ones\n",
    "Easy\n",
    "\n",
    "1185\n",
    "\n",
    "382\n",
    "\n",
    "Add to List\n",
    "\n",
    "Share\n",
    "Given a binary array, find the maximum number of consecutive 1s in this array.\n",
    "\n",
    "Example 1:\n",
    "Input: [1,1,0,1,1,1]\n",
    "Output: 3\n",
    "Explanation: The first two digits or the last three digits are consecutive 1s.\n",
    "    The maximum number of consecutive 1s is 3.\n",
    "Note:\n",
    "\n",
    "The input array will only contain 0 and 1.\n",
    "The length of input array is a positive integer and will not exceed 10,000"
   ]
  },
  {
   "cell_type": "code",
   "execution_count": null,
   "metadata": {},
   "outputs": [],
   "source": [
    "class Solution:\n",
    "    def findMaxConsecutiveOnes(self, nums: List[int]) -> int:\n",
    "        \n",
    "        c , m = 0,0\n",
    "        for i in nums:\n",
    "            if i == 1:\n",
    "                c=c+1\n",
    "                if c>m:\n",
    "                    m=c\n",
    "            else:\n",
    "                c=0\n",
    "        return m"
   ]
  },
  {
   "cell_type": "code",
   "execution_count": 1,
   "metadata": {
    "scrolled": true
   },
   "outputs": [
    {
     "ename": "NameError",
     "evalue": "name 'List' is not defined",
     "output_type": "error",
     "traceback": [
      "\u001b[1;31m---------------------------------------------------------------------------\u001b[0m",
      "\u001b[1;31mNameError\u001b[0m                                 Traceback (most recent call last)",
      "\u001b[1;32m<ipython-input-1-4d0bceda143b>\u001b[0m in \u001b[0;36m<module>\u001b[1;34m\u001b[0m\n\u001b[0;32m      1\u001b[0m \u001b[1;32mimport\u001b[0m \u001b[0mitertools\u001b[0m\u001b[1;33m\u001b[0m\u001b[1;33m\u001b[0m\u001b[0m\n\u001b[0;32m      2\u001b[0m \u001b[1;33m\u001b[0m\u001b[0m\n\u001b[1;32m----> 3\u001b[1;33m \u001b[1;32mclass\u001b[0m \u001b[0mSolution\u001b[0m\u001b[1;33m:\u001b[0m\u001b[1;33m\u001b[0m\u001b[1;33m\u001b[0m\u001b[0m\n\u001b[0m\u001b[0;32m      4\u001b[0m     \u001b[1;32mdef\u001b[0m \u001b[0mfindMaxConsecutiveOnes\u001b[0m\u001b[1;33m(\u001b[0m\u001b[0mself\u001b[0m\u001b[1;33m,\u001b[0m \u001b[0mnums\u001b[0m\u001b[1;33m:\u001b[0m \u001b[0mList\u001b[0m\u001b[1;33m[\u001b[0m\u001b[0mint\u001b[0m\u001b[1;33m]\u001b[0m\u001b[1;33m)\u001b[0m \u001b[1;33m->\u001b[0m \u001b[0mint\u001b[0m\u001b[1;33m:\u001b[0m\u001b[1;33m\u001b[0m\u001b[1;33m\u001b[0m\u001b[0m\n\u001b[0;32m      5\u001b[0m         \u001b[0mresult\u001b[0m \u001b[1;33m=\u001b[0m \u001b[1;33m(\u001b[0m\u001b[1;33m[\u001b[0m\u001b[0mlen\u001b[0m\u001b[1;33m(\u001b[0m\u001b[0mlist\u001b[0m\u001b[1;33m(\u001b[0m\u001b[0my\u001b[0m\u001b[1;33m)\u001b[0m\u001b[1;33m)\u001b[0m \u001b[1;32mfor\u001b[0m \u001b[0mx\u001b[0m\u001b[1;33m,\u001b[0m \u001b[0my\u001b[0m \u001b[1;32min\u001b[0m \u001b[0mitertools\u001b[0m\u001b[1;33m.\u001b[0m\u001b[0mgroupby\u001b[0m\u001b[1;33m(\u001b[0m\u001b[0mnums\u001b[0m\u001b[1;33m)\u001b[0m \u001b[1;32mif\u001b[0m \u001b[0mx\u001b[0m \u001b[1;33m==\u001b[0m \u001b[1;36m1\u001b[0m\u001b[1;33m]\u001b[0m\u001b[1;33m)\u001b[0m\u001b[1;33m\u001b[0m\u001b[1;33m\u001b[0m\u001b[0m\n",
      "\u001b[1;32m<ipython-input-1-4d0bceda143b>\u001b[0m in \u001b[0;36mSolution\u001b[1;34m()\u001b[0m\n\u001b[0;32m      2\u001b[0m \u001b[1;33m\u001b[0m\u001b[0m\n\u001b[0;32m      3\u001b[0m \u001b[1;32mclass\u001b[0m \u001b[0mSolution\u001b[0m\u001b[1;33m:\u001b[0m\u001b[1;33m\u001b[0m\u001b[1;33m\u001b[0m\u001b[0m\n\u001b[1;32m----> 4\u001b[1;33m     \u001b[1;32mdef\u001b[0m \u001b[0mfindMaxConsecutiveOnes\u001b[0m\u001b[1;33m(\u001b[0m\u001b[0mself\u001b[0m\u001b[1;33m,\u001b[0m \u001b[0mnums\u001b[0m\u001b[1;33m:\u001b[0m \u001b[0mList\u001b[0m\u001b[1;33m[\u001b[0m\u001b[0mint\u001b[0m\u001b[1;33m]\u001b[0m\u001b[1;33m)\u001b[0m \u001b[1;33m->\u001b[0m \u001b[0mint\u001b[0m\u001b[1;33m:\u001b[0m\u001b[1;33m\u001b[0m\u001b[1;33m\u001b[0m\u001b[0m\n\u001b[0m\u001b[0;32m      5\u001b[0m         \u001b[0mresult\u001b[0m \u001b[1;33m=\u001b[0m \u001b[1;33m(\u001b[0m\u001b[1;33m[\u001b[0m\u001b[0mlen\u001b[0m\u001b[1;33m(\u001b[0m\u001b[0mlist\u001b[0m\u001b[1;33m(\u001b[0m\u001b[0my\u001b[0m\u001b[1;33m)\u001b[0m\u001b[1;33m)\u001b[0m \u001b[1;32mfor\u001b[0m \u001b[0mx\u001b[0m\u001b[1;33m,\u001b[0m \u001b[0my\u001b[0m \u001b[1;32min\u001b[0m \u001b[0mitertools\u001b[0m\u001b[1;33m.\u001b[0m\u001b[0mgroupby\u001b[0m\u001b[1;33m(\u001b[0m\u001b[0mnums\u001b[0m\u001b[1;33m)\u001b[0m \u001b[1;32mif\u001b[0m \u001b[0mx\u001b[0m \u001b[1;33m==\u001b[0m \u001b[1;36m1\u001b[0m\u001b[1;33m]\u001b[0m\u001b[1;33m)\u001b[0m\u001b[1;33m\u001b[0m\u001b[1;33m\u001b[0m\u001b[0m\n\u001b[0;32m      6\u001b[0m         \u001b[1;32mreturn\u001b[0m \u001b[1;36m0\u001b[0m \u001b[1;32mif\u001b[0m \u001b[1;32mnot\u001b[0m \u001b[0mresult\u001b[0m \u001b[1;32melse\u001b[0m \u001b[0mmax\u001b[0m\u001b[1;33m(\u001b[0m\u001b[0mresult\u001b[0m\u001b[1;33m)\u001b[0m\u001b[1;33m\u001b[0m\u001b[1;33m\u001b[0m\u001b[0m\n",
      "\u001b[1;31mNameError\u001b[0m: name 'List' is not defined"
     ]
    }
   ],
   "source": [
    "import itertools \n",
    "\n",
    "class Solution:\n",
    "    def findMaxConsecutiveOnes(self, nums: List[int]) -> int:\n",
    "        result = ([len(list(y)) for x, y in itertools.groupby(nums) if x == 1])\n",
    "        return 0 if not result else max(result)"
   ]
  },
  {
   "cell_type": "code",
   "execution_count": null,
   "metadata": {},
   "outputs": [],
   "source": [
    "class Solution:\n",
    "    def findMaxConsecutiveOnes(self, nums: List[int]) -> int:\n",
    "        max_ = 0                  #maximum count\n",
    "        c = 0                     #counter\n",
    "        for i in nums:\n",
    "            if i == 1:\n",
    "                c += 1\n",
    "                if max_ < c:\n",
    "                    max_ = c\n",
    "            else:\n",
    "                c = 0\n",
    "        return max_"
   ]
  },
  {
   "cell_type": "markdown",
   "metadata": {},
   "source": [
    "# Array Partition I\n",
    "Easy\n",
    "\n",
    "188\n",
    "\n",
    "48\n",
    "\n",
    "Add to List\n",
    "\n",
    "Share\n",
    "Given an integer array nums of 2n integers, group these integers into n pairs (a1, b1), (a2, b2), ..., (an, bn) such that the sum of min(ai, bi) for all i is maximized. Return the maximized sum.\n",
    "\n",
    " \n",
    "\n",
    "Example 1:\n",
    "\n",
    "Input: nums = [1,4,3,2]\n",
    "Output: 4\n",
    "Explanation: All possible pairings (ignoring the ordering of elements) are:\n",
    "1. (1, 4), (2, 3) -> min(1, 4) + min(2, 3) = 1 + 2 = 3\n",
    "2. (1, 3), (2, 4) -> min(1, 3) + min(2, 4) = 1 + 2 = 3\n",
    "3. (1, 2), (3, 4) -> min(1, 2) + min(3, 4) = 1 + 3 = 4\n",
    "So the maximum possible sum is 4.\n",
    "Example 2:\n",
    "\n",
    "Input: nums = [6,2,6,5,1,2]\n",
    "Output: 9\n",
    "Explanation: The optimal pairing is (2, 1), (2, 5), (6, 6). min(2, 1) + min(2, 5) + min(6, 6) = 1 + 2 + 6 = 9.\n",
    " \n",
    "\n",
    "Constraints:\n",
    "\n",
    "1 <= n <= 104\n",
    "nums.length == 2 * n\n",
    "-104 <= nums[i] <= 104"
   ]
  },
  {
   "cell_type": "code",
   "execution_count": null,
   "metadata": {},
   "outputs": [],
   "source": [
    "class Solution:\n",
    "    def arrayPairSum(self, nums: List[int]) -> int:\n",
    "    b = sorted(nums)\n",
    "    return sum(b[0:-1:2])"
   ]
  },
  {
   "cell_type": "code",
   "execution_count": null,
   "metadata": {},
   "outputs": [],
   "source": [
    "class Solution:\n",
    "    def arrayPairSum(self, nums: List[int]) -> int:\n",
    "        a = sorted(nums)\n",
    "        res=0\n",
    "        \n",
    "        for i in range(len(nums)//2):\n",
    "            res += min(a[i*2],a[2*i+1])\n",
    "        \n",
    "        return res"
   ]
  },
  {
   "cell_type": "markdown",
   "metadata": {},
   "source": [
    "# Climbing Stairs\n",
    "Easy\n",
    "\n",
    "6308\n",
    "\n",
    "200\n",
    "\n",
    "Add to List\n",
    "\n",
    "Share\n",
    "You are climbing a staircase. It takes n steps to reach the top.\n",
    "\n",
    "Each time you can either climb 1 or 2 steps. In how many distinct ways can you climb to the top?\n",
    "\n",
    " \n",
    "\n",
    "Example 1:\n",
    "\n",
    "Input: n = 2\n",
    "Output: 2\n",
    "Explanation: There are two ways to climb to the top.\n",
    "1. 1 step + 1 step\n",
    "2. 2 steps\n",
    "Example 2:\n",
    "\n",
    "Input: n = 3\n",
    "Output: 3\n",
    "Explanation: There are three ways to climb to the top.\n",
    "1. 1 step + 1 step + 1 step\n",
    "2. 1 step + 2 steps\n",
    "3. 2 steps + 1 step\n",
    " \n",
    "\n",
    "Constraints:\n",
    "\n",
    "1 <= n <= 45"
   ]
  },
  {
   "cell_type": "code",
   "execution_count": null,
   "metadata": {},
   "outputs": [],
   "source": [
    "import numpy as np\n",
    "class Solution:\n",
    "    def matrixReshape(self, nums: List[List[int]], r: int, c: int) -> List[List[int]]:\n",
    "        matrix=[]\n",
    "        one_row=[]\n",
    "        for i in nums:\n",
    "            for j in i:\n",
    "                one_row.append(j)\n",
    "        if r*c == len(one_row):\n",
    "            for i in range(0,len(one_row),c):\n",
    "                matrix.append(one_row[i:i+c])\n",
    "            return matrix\n",
    "        else:\n",
    "            return nums"
   ]
  },
  {
   "cell_type": "code",
   "execution_count": null,
   "metadata": {},
   "outputs": [],
   "source": []
  },
  {
   "cell_type": "code",
   "execution_count": null,
   "metadata": {},
   "outputs": [],
   "source": [
    "class Solution:\n",
    "    def climbStairs(self, n: int) -> int:\n",
    "        self.array = [None] * (n + 1)\n",
    "        if n <= 2:\n",
    "            return n\n",
    "        return self.climbStairsRecursive(n)\n",
    "    \n",
    "    def climbStairsRecursive(self, n):\n",
    "        if n <= 2:\n",
    "            return n\n",
    "        if not self.array[n]:\n",
    "            self.array[n] = self.climbStairsRecursive(n - 1) + self.climbStairsRecursive(n - 2)\n",
    "        return self.array[n]"
   ]
  },
  {
   "cell_type": "code",
   "execution_count": null,
   "metadata": {},
   "outputs": [],
   "source": [
    "from functools import cache\n",
    "\n",
    "class Solution:\n",
    "    @cache\n",
    "    def climbStairs(self, n: int) -> int:\n",
    "        if n ==1:\n",
    "            return 1\n",
    "        if n ==2:\n",
    "            return 2\n",
    "        \n",
    "        return self.climbStairs(n-1) + self.climbStairs(n-2)"
   ]
  },
  {
   "cell_type": "code",
   "execution_count": null,
   "metadata": {},
   "outputs": [],
   "source": [
    "def climbStairs(self, n: int) -> int:\n",
    "        \n",
    "        def dp(n,s, memo={}):\n",
    "            if s == n: return 1\n",
    "            if s > n: return 0\n",
    "            if s in memo: return memo[s]\n",
    "            else:\n",
    "                memo[s] = dp(n, s+1) + dp(n, s+2)\n",
    "                return memo[s]\n",
    "        return dp(n,0)"
   ]
  },
  {
   "cell_type": "code",
   "execution_count": null,
   "metadata": {},
   "outputs": [],
   "source": [
    "class Solution:\n",
    "    Use caching to re-computing work\n",
    "    @cache\n",
    "    def climbStairs(self, n: int) -> int:\n",
    "        # If n is less than 0 there are no ways to get to n\n",
    "        if n < 0:\n",
    "            return 0\n",
    "        # If n is there is one way to get there\n",
    "        elif n == 0:\n",
    "            return 1\n",
    "        # The number of ways to get to step n is the number of ways to get to n-1 + number of ways to get to n-2\n",
    "        return self.climbStairs(n-1) + self.climbStairs(n-2)"
   ]
  },
  {
   "cell_type": "code",
   "execution_count": null,
   "metadata": {},
   "outputs": [],
   "source": [
    "class Solution:\n",
    "    def climbStairs(self, n: int) -> int:\n",
    "        n1=1\n",
    "        n2=2\n",
    "        if(n==1):\n",
    "            return 1\n",
    "        elif(n==2):\n",
    "            return 2\n",
    "        else:\n",
    "            for i in range(2,n):\n",
    "                n3=n1+n2\n",
    "                n1=n2\n",
    "                n2=n3\n",
    "            return n3"
   ]
  },
  {
   "cell_type": "code",
   "execution_count": null,
   "metadata": {},
   "outputs": [],
   "source": [
    "def climbStairs(self, n):\n",
    "    steps = [0,1]\n",
    "    for i in range(n):\n",
    "        steps[i%2] = steps[0] + steps[1]\n",
    "    return steps[(n-1)%2]"
   ]
  },
  {
   "cell_type": "code",
   "execution_count": null,
   "metadata": {},
   "outputs": [],
   "source": [
    "class Solution:\n",
    "    def climbStairs(self, n: int) -> int:\n",
    "        count = 0\n",
    "        for a in range(int(n / 2)+1):\n",
    "            b = n - 2 * a\n",
    "            count += math.factorial(a + b) / (math.factorial(b) * math.factorial(a))\n",
    "        \n",
    "        return int(count)"
   ]
  },
  {
   "cell_type": "markdown",
   "metadata": {},
   "source": [
    "# Remove Duplicates from Sorted List\n",
    "# LINKED LIST\n",
    "\n",
    "2419\n",
    "\n",
    "144\n",
    "\n",
    "Add to List\n",
    "\n",
    "Share\n",
    "Given the head of a sorted linked list, delete all duplicates such that each element appears only once. Return the linked list sorted as well.\n",
    "\n",
    " \n",
    "\n",
    "Example 1:\n",
    "\n",
    "\n",
    "Input: head = [1,1,2]\n",
    "Output: [1,2]\n",
    "Example 2:\n",
    "\n",
    "\n",
    "Input: head = [1,1,2,3,3]\n",
    "Output: [1,2,3]\n",
    " \n",
    "\n",
    "Constraints:\n",
    "\n",
    "The number of nodes in the list is in the range [0, 300].\n",
    "-100 <= Node.val <= 100\n",
    "The list is guaranteed to be sorted in asce"
   ]
  },
  {
   "cell_type": "code",
   "execution_count": null,
   "metadata": {},
   "outputs": [],
   "source": [
    "class Solution:\n",
    "    def deleteDuplicates(self, head: ListNode) -> ListNode:\n",
    "\n",
    "        if not head:\n",
    "            return None\n",
    "        \n",
    "        if not head.next:\n",
    "            return head\n",
    "        \n",
    "        if head.val == head.next.val:\n",
    "            return self.deleteDuplicates(head.next)\n",
    "        \n",
    "        head.next = self.deleteDuplicates(head.next)\n",
    "        return head"
   ]
  },
  {
   "cell_type": "code",
   "execution_count": null,
   "metadata": {},
   "outputs": [],
   "source": [
    "def deleteDuplicates(self, head):\n",
    "    if not head:\n",
    "        return head\n",
    "    newHead = head\n",
    "    while newHead.next:\n",
    "        if newHead.val == newHead.next.val:\n",
    "            newHead.next = newHead.next.next\n",
    "        else:\n",
    "            newHead = newHead.next\n",
    "    return head"
   ]
  },
  {
   "cell_type": "code",
   "execution_count": null,
   "metadata": {},
   "outputs": [],
   "source": [
    "\t# set head to current\n",
    "    curr = head\n",
    "    # while curr not none\n",
    "    while curr and curr.next:\n",
    "        # if value of curr is equal to val of curr next\n",
    "        if curr.val == curr.next.val:\n",
    "            # curr next should be set to curr next next\n",
    "            # you pretty much skipping over a node\n",
    "            curr.next = curr.next.next\n",
    "        else:\n",
    "            # if not equal just conitnue traversing the ll\n",
    "            curr = curr.next\n",
    "\t# return \"new\" linked list\n",
    "    return head"
   ]
  },
  {
   "cell_type": "code",
   "execution_count": null,
   "metadata": {},
   "outputs": [],
   "source": [
    "# Definition for singly-linked list.\n",
    "# class ListNode:\n",
    "#     def __init__(self, val=0, next=None):\n",
    "#         self.val = val\n",
    "#         self.next = next\n",
    "class Solution:\n",
    "    def deleteDuplicates(self, head: ListNode) -> ListNode:\n",
    "        p_node = head\n",
    "        node = head\n",
    "        while node:\n",
    "            if node.val != p_node.val:\n",
    "                p_node.next = node\n",
    "                p_node = p_node.next\n",
    "            node = node.next\n",
    "        if p_node:\n",
    "            p_node.next = None\n",
    "        return head"
   ]
  },
  {
   "cell_type": "markdown",
   "metadata": {},
   "source": [
    "# spiral in array"
   ]
  },
  {
   "cell_type": "code",
   "execution_count": null,
   "metadata": {},
   "outputs": [],
   "source": [
    "class Solution:\n",
    "    def spiralOrder(self, matrix: List[List[int]]) -> List[int]:\n",
    "        L=0\n",
    "        R = len(matrix[0])-1\n",
    "        B = len(matrix) -1\n",
    "        T= 0\n",
    "        dir =0 \n",
    "        res = []\n",
    "        while T <= B and L<=R:\n",
    "            if dir ==0:\n",
    "                for i in range(L, R+1):\n",
    "                    res.append(matrix[T][i])\n",
    "                T += 1\n",
    "            elif dir ==1:\n",
    "                for i in range(T, B+1):\n",
    "                    res.append(matrix[i][R])\n",
    "                R -= 1\n",
    "            elif dir == 2:\n",
    "                for i in range(R, L-1, -1):\n",
    "                    res.append(matrix[B][i])\n",
    "                B-=1\n",
    "            else:\n",
    "                for i in range(B, T-1,-1):\n",
    "                    res.append(matrix[i][L])\n",
    "                L+=1\n",
    "            dir =(dir+1)%4\n",
    "        return res"
   ]
  },
  {
   "cell_type": "code",
   "execution_count": null,
   "metadata": {},
   "outputs": [],
   "source": [
    "class Solution:\n",
    "    def generateMatrix(self, n: int) -> List[List[int]]:\n",
    "        grid = [[0]* n for _ in range(n)]\n",
    "        L=0\n",
    "        R=n-1\n",
    "        T=0\n",
    "        B = n-1\n",
    "        dir = 0\n",
    "        num =1\n",
    "        while L<=R and T<=B:\n",
    "            if dir == 0:\n",
    "                for i in range(L,R+1):\n",
    "                    grid[T][i] = num\n",
    "                    num+=1\n",
    "                T+=1\n",
    "            elif dir ==1:\n",
    "                for i in range(T,B+1):\n",
    "                    grid[i][R]=num\n",
    "                    num += 1\n",
    "                R-=1\n",
    "            elif dir == 2:\n",
    "                for i in range(R,L-1, -1):\n",
    "                    grid [B][i]=num\n",
    "                    num +=1\n",
    "                B-=1\n",
    "            elif dir ==3:\n",
    "                for i in range(B,T-1,-1):\n",
    "                    grid[i][L] = num\n",
    "                    num +=1\n",
    "                L+=1\n",
    "            dir = (dir+1)%4\n",
    "        return grid"
   ]
  },
  {
   "cell_type": "markdown",
   "metadata": {},
   "source": [
    "# String and palindrome\n"
   ]
  },
  {
   "cell_type": "code",
   "execution_count": null,
   "metadata": {},
   "outputs": [],
   "source": [
    "class Solution:\n",
    "        def isPalindrome(self, s: str) -> bool:\n",
    "            \n",
    "            elimination = \"\".join([i.lower() for i in s if i.isalpha() or i.isdigit()])\n",
    "            if elimination!=elimination[::-1]:\n",
    "                return False\n",
    "            return True"
   ]
  },
  {
   "cell_type": "code",
   "execution_count": null,
   "metadata": {},
   "outputs": [],
   "source": [
    "class Solution:\n",
    "    def isPalindrome(self, s: str) -> bool:\n",
    "        if len(s) == 1:\n",
    "            return(True)\n",
    "        s = \"\".join(filter(str.isalnum, s))\n",
    "        s = s.lower()\n",
    "        s = s.replace(\" \",\"\")\n",
    "        for idx in range(len(s)):\n",
    "            if s[idx] != s[len(s)-1-idx]: \n",
    "                return(False)\n",
    "        return(True)"
   ]
  },
  {
   "cell_type": "code",
   "execution_count": 7,
   "metadata": {},
   "outputs": [
    {
     "name": "stdout",
     "output_type": "stream",
     "text": [
      "nit\n"
     ]
    }
   ],
   "source": [
    "djtext =\"nit$\"\n",
    "punctuations = '''!()-[]{};:'\"\\,<>./?@#$%^&*_~'''\n",
    "analyzed = \"\"\n",
    "for char in djtext:\n",
    "    if char not in punctuations:\n",
    "        analyzed = analyzed + char\n",
    "print(analyzed)"
   ]
  },
  {
   "cell_type": "markdown",
   "metadata": {},
   "source": [
    "# Can Place Flowers\n",
    "\n",
    "Add to List\n",
    "\n",
    "Share\n",
    "You have a long flowerbed in which some of the plots are planted, and some are not. However, flowers cannot be planted in adjacent plots.\n",
    "\n",
    "Given an integer array flowerbed containing 0's and 1's, where 0 means empty and 1 means not empty, and an integer n, return if n new flowers can be planted in the flowerbed without violating the no-adjacent-flowers rule.\n",
    "\n",
    " \n",
    "\n",
    "Example 1:\n",
    "\n",
    "Input: flowerbed = [1,0,0,0,1], n = 1\n",
    "Output: true\n",
    "Example 2:\n",
    "\n",
    "Input: flowerbed = [1,0,0,0,1], n = 2\n",
    "Output: false\n",
    " \n",
    "\n",
    "Constraints:\n",
    "\n",
    "1 <= flowerbed.length <= 2 * 104\n",
    "flowerbed[i] is 0 or 1.\n",
    "There are no two adjacent flowers in flowerbed.\n",
    "0 <= n <= flowerbed.length"
   ]
  },
  {
   "cell_type": "code",
   "execution_count": null,
   "metadata": {},
   "outputs": [],
   "source": [
    "# MINE LOGic\n",
    "\n",
    "\n",
    "        z = 0\n",
    "        c = 0\n",
    "        for i in range(1,len(flowerbed)):\n",
    "            if flowerbed[i-1] == 1:\n",
    "                z +=1\n",
    "            elif flowerbed[i-1] == 0:\n",
    "                c +=1\n",
    "        l = len(flowerbed)\n",
    "        return ((l+1)/2 -z ) >=n\n",
    "        "
   ]
  },
  {
   "cell_type": "code",
   "execution_count": null,
   "metadata": {},
   "outputs": [],
   "source": [
    "\n",
    "Rational:\n",
    "\n",
    "Count the number of consecutive 0s (\"curr\"). Because flowers cannot be planted in adjacent plots, we can plant 1 flower for 1~2 zeros, 2 flowers for 3~4 zeros and etc. This translates to: ((curr + 1) // 2) - 1\n",
    "\n",
    "Zero padding for the (liternal) corner cases. When the flower is planted at the two ends, it requires only two instead of three consecutive 0s. We can pad one [0] at each end to be able to use the same formula as in step 1.\n",
    "\n",
    "#Go through the array once. Whenever there is a 1, stop counting and add the number of allowed flowers to the results (\"res\"), and reset 0 counting to 0. To trigger the addition to the results for the last section of 0s, add an additional 1 at the end of flowerbed.\n",
    "\n",
    "class Solution:\n",
    "    def canPlaceFlowers(self, flowerbed: List[int], n: int) -> bool:\n",
    "        \n",
    "        flowerbed = [0] + flowerbed + [0] + [1]\n",
    "        curr, res = 0, 0\n",
    "        for k in flowerbed:\n",
    "            if k == 0:\n",
    "                curr += 1\n",
    "            else:\n",
    "                res += ((curr + 1) // 2) - 1\n",
    "                curr = 0\n",
    "        return res >= n"
   ]
  },
  {
   "cell_type": "code",
   "execution_count": null,
   "metadata": {},
   "outputs": [],
   "source": [
    "Not so clean python code by checking number of zeros between 1s.\n",
    "This code is obviously more messy than other solutions.\n",
    "\n",
    "If the edges of array contains 0, then we can consider this as having 1 extra zero.\n",
    "example:\n",
    "[ 0 1, 0, 0]\n",
    "\n",
    "normally, I count how many flowers I can plant between 1's (see chart below). However, since last index has no flower next to it, I can consider it as having 3 zeroes from index 2 to end.\n",
    "\n",
    "# of 0s      # of flowers can be planted\n",
    " 0               0\n",
    " 1               0 \n",
    " 2               0\n",
    " 3               1\n",
    " 4               1\n",
    " 5               2\n",
    " 6               2        \n",
    " 7               3\n",
    " 8               3 \n",
    " 9               4\n",
    "\n",
    "def canPlaceFlowers(self, flowerbed, n):\n",
    "    \"\"\"\n",
    "    :type flowerbed: List[int]\n",
    "    :type n: int\n",
    "    :rtype: bool\n",
    "    \"\"\"\n",
    "    if n == 0:\n",
    "        return True\n",
    "    \n",
    "    if len(flowerbed) == 1 and flowerbed[0] == 0:\n",
    "        return n-1 <= 0\n",
    "   \n",
    "    numZero = 0\n",
    "    leftWall = False\n",
    "    rightWall = False\n",
    "    \n",
    "    if flowerbed[0] == 0:\n",
    "        leftWall = True\n",
    "    if flowerbed[-1] == 0:\n",
    "        rightWall = True\n",
    "        \n",
    "    for i, val in enumerate(flowerbed):\n",
    "        if val == 0 and i != len(flowerbed) - 1:\n",
    "            numZero += 1\n",
    "        else:\n",
    "            if leftWall:\n",
    "                numZero += 1\n",
    "                leftWall = False\n",
    "            \n",
    "            if val == 0:\n",
    "                numZero += 1\n",
    "                \n",
    "            if rightWall and i == len(flowerbed) - 1:\n",
    "                numZero+=1\n",
    "            \n",
    "            if numZero <= 2:\n",
    "                numZero = 0\n",
    "                continue\n",
    "            \n",
    "            n -= numZero//2\n",
    "            \n",
    "            if numZero % 2 == 0:\n",
    "                n += 1\n",
    "            \n",
    "            if n <= 0:\n",
    "                return True\n",
    "            numZero = 0\n",
    "   \n",
    "    return n == 0"
   ]
  },
  {
   "cell_type": "markdown",
   "metadata": {},
   "source": [
    "# Maximum Product of Three Numbers\n",
    "\n",
    "\n",
    "Add to List\n",
    "\n",
    "Share\n",
    "Given an integer array nums, find three numbers whose product is maximum and return the maximum product.\n",
    "\n",
    " \n",
    "\n",
    "Example 1:\n",
    "\n",
    "Input: nums = [1,2,3]\n",
    "Output: 6\n",
    "Example 2:\n",
    "\n",
    "Input: nums = [1,2,3,4]\n",
    "Output: 24\n",
    "Example 3:\n",
    "\n",
    "Input: nums = [-1,-2,-3]\n",
    "Output: -6\n",
    " \n",
    "\n",
    "Constraints:\n",
    "\n",
    "3 <= nums.length <= 104\n",
    "-1000 <= nums[i] <= 1000\n",
    "Accepted\n",
    "149.6K\n",
    "Submissions\n",
    "319.6K"
   ]
  },
  {
   "cell_type": "code",
   "execution_count": null,
   "metadata": {},
   "outputs": [],
   "source": [
    "class Solution:\n",
    "    def maximumProduct(self, nums: List[int]) -> int:\n",
    "        \n",
    "        nums.sort()\n",
    "        a=nums[-1]\n",
    "        b=nums[-2]\n",
    "        c=nums[-3]\n",
    "        return max(a*b*c,nums[0]*nums[1]*a)"
   ]
  },
  {
   "cell_type": "code",
   "execution_count": null,
   "metadata": {},
   "outputs": [],
   "source": [
    "import math\n",
    "class Solution:\n",
    "    def maximumProduct(self, nums: List[int]) -> int:\n",
    "        if len(nums)==3: return math.prod(nums) \n",
    "        else:\n",
    "            s = sorted(nums, reverse=True)\n",
    "            return max(s[-1]*s[-2]*s[0], math.prod(s[:3]))"
   ]
  },
  {
   "cell_type": "code",
   "execution_count": null,
   "metadata": {},
   "outputs": [],
   "source": [
    "class Solution:\n",
    "    def maximumProduct(self, nums: List[int]) -> int:\n",
    "        def get_max(arr, ignore_idx):\n",
    "            m = -100000000000\n",
    "            idx = -1\n",
    "            for i in range(0, len(arr)):\n",
    "                if i not in ignore_idx:\n",
    "                    if arr[i] > m:\n",
    "                        m = arr[i]\n",
    "                        idx = i\n",
    "            ignore_idx.add(idx)\n",
    "            return m, ignore_idx\n",
    "\n",
    "        def get_min(arr, ignore_idx):\n",
    "            m = 100000000000000\n",
    "            idx = -1\n",
    "            for i in range(0, len(arr)):\n",
    "                if i not in ignore_idx:\n",
    "                    if arr[i] < m:\n",
    "                        m = arr[i]\n",
    "                        idx = i\n",
    "            ignore_idx.add(idx)\n",
    "            return m, ignore_idx\n",
    "\n",
    "        ignore_idx = set()\n",
    "        a, ignore_idx = get_max(nums, ignore_idx)\n",
    "        b, ignore_idx = get_max(nums, ignore_idx)\n",
    "        c, _ = get_max(nums, ignore_idx)\n",
    "\n",
    "        ignore_idx = set()\n",
    "\n",
    "        d, ignore_idx = get_min(nums, ignore_idx)\n",
    "        e, ignore_idx = get_min(nums, ignore_idx)\n",
    "        return max(a*b*c, d*e*a)"
   ]
  },
  {
   "cell_type": "code",
   "execution_count": null,
   "metadata": {},
   "outputs": [],
   "source": [
    "def maximumProduct(self, nums: List[int]) -> int:\n",
    "        nums.sort()\n",
    "        n=len(nums)\n",
    "        return max(nums[n-1]*nums[n-2]*nums[n-3],nums[n-1]*nums[0]*nums[1])\n"
   ]
  },
  {
   "cell_type": "code",
   "execution_count": 1,
   "metadata": {},
   "outputs": [
    {
     "name": "stdout",
     "output_type": "stream",
     "text": [
      "[-6, -5, 1, 3, 12, 50]\n"
     ]
    }
   ],
   "source": [
    "nums = [1,12,-5,-6,50,3]\n",
    "nums.sort()\n",
    "print(nums)"
   ]
  },
  {
   "cell_type": "markdown",
   "metadata": {},
   "source": [
    "# Maximum Average Subarray I\n",
    "\n",
    "\n",
    "Add to List\n",
    "\n",
    "Share\n",
    "Given an array consisting of n integers, find the contiguous subarray of given length k that has the maximum average value. And you need to output the maximum average value.\n",
    "\n",
    "Example 1:\n",
    "\n",
    "Input: [1,12,-5,-6,50,3], k = 4\n",
    "Output: 12.75\n",
    "Explanation: Maximum average is (12-5-6+50)/4 = 51/4 = 12.75\n",
    " \n",
    "\n",
    "Note:\n",
    "\n",
    "1 <= k <= n <= 30,000.\n",
    "Elements of the given array will be in the range [-10,000, 10,000]."
   ]
  },
  {
   "cell_type": "code",
   "execution_count": null,
   "metadata": {},
   "outputs": [],
   "source": [
    "class Solution:\n",
    "    def findMaxAverage(self, nums: List[int], k: int) -> float:\n",
    "        i = 0\n",
    "        avg = (sum(nums[i:i+k]))\n",
    "        temp =avg\n",
    "        while i+k < len(nums):\n",
    "            temp = temp - nums[i] + nums[i+k]\n",
    "            if temp > avg:\n",
    "                avg = temp\n",
    "            i +=1\n",
    "        return avg/k"
   ]
  },
  {
   "cell_type": "markdown",
   "metadata": {},
   "source": [
    "# Image Smoother\n",
    "\n",
    "\n",
    "Add to List\n",
    "\n",
    "Share\n",
    "Given a 2D integer matrix M representing the gray scale of an image, you need to design a smoother to make the gray scale of each cell becomes the average gray scale (rounding down) of all the 8 surrounding cells and itself. If a cell has less than 8 surrounding cells, then use as many as you can.\n",
    "\n",
    "Example 1:\n",
    "Input:\n",
    "[[1,1,1],\n",
    " [1,0,1],\n",
    " [1,1,1]]\n",
    "Output:\n",
    "[[0, 0, 0],\n",
    " [0, 0, 0],\n",
    " [0, 0, 0]]\n",
    "Explanation:\n",
    "For the point (0,0), (0,2), (2,0), (2,2): floor(3/4) = floor(0.75) = 0\n",
    "For the point (0,1), (1,0), (1,2), (2,1): floor(5/6) = floor(0.83333333) = 0\n",
    "For the point (1,1): floor(8/9) = floor(0.88888889) = 0\n",
    "Note:\n",
    "The value in the given matrix is in the range of [0, 255].\n",
    "The length and width of the given matrix are in the range of [1, 150]."
   ]
  },
  {
   "cell_type": "code",
   "execution_count": null,
   "metadata": {},
   "outputs": [],
   "source": [
    "class Solution:\n",
    "    def imageSmoother(self, M: List[List[int]]) -> List[List[int]]:\n",
    "        R, C = len(M), len(M[0])\n",
    "        ans = [[0]*C for _ in M]\n",
    "        \n",
    "        for r in range(R):\n",
    "            for c in range(C):\n",
    "                # indices of starting and ending row\n",
    "                rS = 0 if r == 0 else r-1\n",
    "                rE = R-1 if r == R-1 else r+1\n",
    "                # indices of starting and ending column\n",
    "                cS = 0 if c == 0 else c-1\n",
    "                cE = C-1 if c == C-1 else c+1\n",
    "                # sum of each row\n",
    "                rows_sum = [sum(row[cS:cE+1]) for row in M[rS:rE+1]]\n",
    "                # sum of rows\n",
    "                total = sum(rows_sum)\n",
    "                # number of elements in area\n",
    "                cunt = (rE-rS+1)*(cE-cS+1)\n",
    "                \n",
    "                ans[r][c] = int(total/cunt)\n",
    "                \n",
    "        return ans"
   ]
  },
  {
   "cell_type": "code",
   "execution_count": null,
   "metadata": {},
   "outputs": [],
   "source": [
    "class Solution(object):\n",
    "    def imageSmoother(self,M):\n",
    "        \"\"\"\n",
    "        :type M: List[List[int]]\n",
    "        :rtype: List[List[int]]\n",
    "        \"\"\"\n",
    "        \n",
    "        wi_m = len(M)\n",
    "        he_m = len(M[0])\n",
    "        if wi_m <= 1 and he_m <= 1:\n",
    "            return M\n",
    "        M.append([0]*he_m)\n",
    "        M.insert(0,[0]*he_m)\n",
    "        N = []\n",
    "        for i in M:\n",
    "            i.append(0)\n",
    "            i.insert(0,0)\n",
    "        for i in range(1,wi_m+1,1):\n",
    "            N.append([])\n",
    "\n",
    "            for j in range(1,he_m+1,1):\n",
    "                n = 9\n",
    "                if i == 1 or j == 1 or i == wi_m or j == he_m:\n",
    "                    if (i,j) == (1,1) or (i,j) == (wi_m, he_m) or (i,j)==(1, he_m) or (i,j) == (wi_m, 1):\n",
    "                        n -= 5\n",
    "                        if i == 1 and i == wi_m or j == 1 and j == he_m:\n",
    "                            n -= 2\n",
    "\n",
    "                    else:\n",
    "                        if i == 1: \n",
    "                            n -= 3\n",
    "                        if i == wi_m: \n",
    "                            n-=3\n",
    "                        if j == 1: \n",
    "                            n -= 3\n",
    "                        if j == he_m: \n",
    "                            n-=3\n",
    "                   \n",
    "                a = M[i-1][j-1]+ M[i-1][j] + M[i-1][j+1] + M[i][j-1] + M[i][j] + M[i][j+1] +  M[i+1][j-1]+ M[i+1][j] + M[i+1][j+1]\n",
    "                N[i-1].append(int(a/n))\n",
    "        return N\n",
    "    "
   ]
  },
  {
   "cell_type": "code",
   "execution_count": null,
   "metadata": {},
   "outputs": [],
   "source": [
    "result = []\n",
    "for i in range(len(M)):\n",
    "\ttemp = []\n",
    "\tfor j in range(len(M[0])):\n",
    "\t\ts = [M[i][j]]\n",
    "\t\tif i - 1 >= 0:\n",
    "\t\t\ts.append(M[i - 1][j])\n",
    "\t\t\tif j - 1 >= 0:\n",
    "\t\t\t\ts.append(M[i - 1][j - 1])\n",
    "\t\t\tif j + 1 < len(M[0]):\n",
    "\t\t\t\ts.append(M[i - 1][j + 1])\n",
    "\t\tif i + 1 < len(M):\n",
    "\t\t\ts.append(M[i + 1][j])\n",
    "\t\t\tif j - 1 >= 0:\n",
    "\t\t\t\ts.append(M[i + 1][j - 1])\n",
    "\t\t\tif j + 1 < len(M[0]):\n",
    "\t\t\t\ts.append(M[i + 1][j + 1])\n",
    "\t\tif j - 1 >= 0:\n",
    "\t\t\ts.append(M[i][j - 1])\n",
    "\t\tif j + 1 < len(M[0]):\n",
    "\t\t\ts.append(M[i][j + 1])\n",
    "\t\ttemp.append(sum(s) // len(s))\n",
    "\tresult.append(temp)\n",
    "return result"
   ]
  },
  {
   "cell_type": "markdown",
   "metadata": {},
   "source": [
    "# Longest Continuous Increasing Subsequence\n",
    "\n",
    "\n",
    "Share\n",
    "Given an unsorted array of integers nums, return the length of the longest continuous increasing subsequence (i.e. subarray). The subsequence must be strictly increasing.\n",
    "\n",
    "A continuous increasing subsequence is defined by two indices l and r (l < r) such that it is [nums[l], nums[l + 1], ..., nums[r - 1], nums[r]] and for each l <= i < r, nums[i] < nums[i + 1].\n",
    "\n",
    " \n",
    "\n",
    "Example 1:\n",
    "\n",
    "Input: nums = [1,3,5,4,7]\n",
    "Output: 3\n",
    "Explanation: The longest continuous increasing subsequence is [1,3,5] with length 3.\n",
    "Even though [1,3,5,7] is an increasing subsequence, it is not continuous as elements 5 and 7 are separated by element\n",
    "4.\n",
    "Example 2:\n",
    "\n",
    "Input: nums = [2,2,2,2,2]\n",
    "Output: 1\n",
    "Explanation: The longest continuous increasing subsequence is [2] with length 1. Note that it must be strictly\n",
    "increasing.\n",
    " \n",
    "\n",
    "Constraints:\n",
    "\n",
    "0 <= nums.length <= 104\n",
    "-109 <= nums[i] <= 109"
   ]
  },
  {
   "cell_type": "code",
   "execution_count": null,
   "metadata": {},
   "outputs": [],
   "source": [
    "# My logic\n",
    "class Solution:\n",
    "    def findLengthOfLCIS(self, nums: List[int]) -> int:\n",
    "        c =0\n",
    "        z = 0\n",
    "        for i in range(1, len(nums)):\n",
    "            if nums[i-1]<nums[i]:\n",
    "                c +=1\n",
    "            elif nums[i-1]==nums[i]:\n",
    "                    return 1\n",
    "        return c\n",
    "        "
   ]
  },
  {
   "cell_type": "code",
   "execution_count": null,
   "metadata": {},
   "outputs": [],
   "source": [
    " def findLengthOfLCIS(self, nums: List[int]) -> int:\n",
    "        if (len(nums)==0):\n",
    "            return 0\n",
    "        res = [1]*len(nums)\n",
    "        maxn = nums[0]\n",
    "        for i in range(1, len(nums)):\n",
    "            if (nums[i]>maxn):\n",
    "                res[i] = res[i-1]+1\n",
    "            maxn = nums[i]\n",
    "        \n",
    "        return max(res)"
   ]
  },
  {
   "cell_type": "code",
   "execution_count": null,
   "metadata": {},
   "outputs": [],
   "source": [
    "class Solution:\n",
    "    def findLengthOfLCIS(self, nums: List[int]) -> int:\n",
    "        current_max = 0\n",
    "        \n",
    "        current_window = []\n",
    "        \n",
    "        for i in nums:\n",
    "            if len(current_window) < 1:\n",
    "                current_window.append(i)\n",
    "                \n",
    "            if current_window[-1] >= i:\n",
    "                if current_max < len(current_window):\n",
    "                    current_max = len(current_window)\n",
    "                current_window = []\n",
    "                current_window.append(i)\n",
    "                    \n",
    "            if current_window[-1] < i:\n",
    "                current_window.append(i)\n",
    "                \n",
    "        return max(current_max, len(current_window))"
   ]
  },
  {
   "cell_type": "code",
   "execution_count": null,
   "metadata": {},
   "outputs": [],
   "source": [
    "def findLengthOfLCIS(self, nums: List[int]) -> int:\n",
    "\tl = len(nums)\n",
    "\tres = 0\n",
    "\ti = 0\n",
    "\n",
    "\twhile i<l:\n",
    "\t\tj = i+1\n",
    "\n",
    "\t\twhile j<l and nums[j]>nums[j-1]:\n",
    "\t\t\tj+=1\n",
    "\t\tres = max(res, j-i)\n",
    "\t\ti = j\n",
    "\treturn res"
   ]
  },
  {
   "cell_type": "code",
   "execution_count": null,
   "metadata": {},
   "outputs": [],
   "source": [
    "Two variables,\n",
    "secLen count each increasing sequence length\n",
    "# maxLen global maximum length\n",
    "\n",
    "class Solution:\n",
    "    def findLengthOfLCIS(self, nums: List[int]) -> int:\n",
    "        if len(nums) == 0:\n",
    "            return 0\n",
    "        \n",
    "        secLen = maxLen = 1\n",
    "        for i in range(1, len(nums)):\n",
    "            if nums[i] > nums[i-1]:\n",
    "                secLen += 1\n",
    "                if secLen > maxLen:\n",
    "                    maxLen = secLen\n",
    "            else:\n",
    "                secLen = 1\n",
    "        \n",
    "        return maxLen"
   ]
  },
  {
   "cell_type": "code",
   "execution_count": null,
   "metadata": {},
   "outputs": [],
   "source": [
    "class Solution:\n",
    "    def findLengthOfLCIS(self, nums: List[int]) -> int:\n",
    "        subseq = []\n",
    "        if not nums:\n",
    "            return 0\n",
    "        \n",
    "        subseq.append(nums[0])\n",
    "        longest = len(subseq)\n",
    "        for i in range(1,len(nums)):\n",
    "            if nums[i] > subseq[-1]:\n",
    "                subseq.append(nums[i])\n",
    "            else:\n",
    "                subseq = [nums[i]]\n",
    "            longest = max(len(subseq),longest)\n",
    "        return longest"
   ]
  },
  {
   "cell_type": "markdown",
   "metadata": {},
   "source": [
    "# Degree of an Array\n",
    "\n",
    "\n",
    "Share\n",
    "Given a non-empty array of non-negative integers nums, the degree of this array is defined as the maximum frequency of any one of its elements.\n",
    "\n",
    "Your task is to find the smallest possible length of a (contiguous) subarray of nums, that has the same degree as nums.\n",
    "\n",
    " \n",
    "\n",
    "Example 1:\n",
    "\n",
    "Input: nums = [1,2,2,3,1]\n",
    "Output: 2\n",
    "Explanation: \n",
    "The input array has a degree of 2 because both elements 1 and 2 appear twice.\n",
    "Of the subarrays that have the same degree:\n",
    "[1, 2, 2, 3, 1], [1, 2, 2, 3], [2, 2, 3, 1], [1, 2, 2], [2, 2, 3], [2, 2]\n",
    "The shortest length is 2. So return 2.\n",
    "Example 2:\n",
    "\n",
    "Input: nums = [1,2,2,3,1,4,2]\n",
    "Output: 6\n",
    "Explanation: \n",
    "The degree is 3 because the element 2 is repeated 3 times.\n",
    "So [2,2,3,1,4,2] is the shortest subarray, therefore returning 6."
   ]
  },
  {
   "cell_type": "code",
   "execution_count": null,
   "metadata": {},
   "outputs": [],
   "source": [
    "    def findShortestSubArray(self, nums: List[int]) -> int:\n",
    "        c = collections.Counter(nums)\n",
    "        degree = max(c.values())\n",
    "        lut = {}\n",
    "        \n",
    "        for pos, num in enumerate(nums):\n",
    "            if c[num] == degree:\n",
    "                if num not in lut:\n",
    "                    lut.update({num: [pos, pos]})\n",
    "                else:\n",
    "                    lut[num][1] = pos\n",
    "                    \n",
    "        mn = sys.maxsize\n",
    "        for num in lut:\n",
    "            mn = min(mn, lut[num][1] - lut[num][0] + 1)\n",
    "            \n",
    "        return mn"
   ]
  },
  {
   "cell_type": "code",
   "execution_count": null,
   "metadata": {},
   "outputs": [],
   "source": [
    "class Solution:\n",
    "    def findShortestSubArray(self, nums: List[int]) -> int:\n",
    "        # find most frequently occuring numbers\n",
    "        ctr = collections.Counter(nums)\n",
    "        max_set = {}\n",
    "        max_v = 0\n",
    "        for i in ctr:\n",
    "            if ctr[i] > max_v:\n",
    "                max_set = {i}\n",
    "                max_v = ctr[i]\n",
    "            elif ctr[i] == max_v:\n",
    "                max_set.add(i)\n",
    "                \n",
    "        # loop, store first and last occurence of each max element\n",
    "        first_occurence = {}\n",
    "        last_occurence = {}\n",
    "        for in_i, i in enumerate(nums):\n",
    "            if i in max_set and i not in first_occurence:\n",
    "                first_occurence[i] = in_i\n",
    "            if i in max_set and i in first_occurence:\n",
    "                last_occurence[i] = in_i\n",
    "        \n",
    "        # loop through first_occurence, last occurence, find minimum difference\n",
    "        res = 50000\n",
    "        for i in first_occurence:\n",
    "            res = min(last_occurence[i]-first_occurence[i]+1, res)\n",
    "        return res"
   ]
  },
  {
   "cell_type": "code",
   "execution_count": null,
   "metadata": {},
   "outputs": [],
   "source": [
    "from collections import Counter\n",
    "class Solution:\n",
    "    def findShortestSubArray(self, nums: List[int]) -> int:\n",
    "        a = Counter(nums)\n",
    "        b = max(a.values())\n",
    "        l = []\n",
    "        for i in a.keys():\n",
    "            if a[i] == b:\n",
    "                l.append(i)\n",
    "        nums1 = nums.copy()\n",
    "        nums1.reverse()\n",
    "        smallest = 100000\n",
    "        for i in l:\n",
    "            if (len(nums) - nums1.index(i)-nums.index(i))< smallest:\n",
    "                smallest = (len(nums) - nums1.index(i)-nums.index(i))\n",
    "        return smallest"
   ]
  },
  {
   "cell_type": "code",
   "execution_count": null,
   "metadata": {},
   "outputs": [],
   "source": [
    "class Solution:\n",
    "    def findShortestSubArray(self, nums: List[int]) -> int:\n",
    "        dic={}\n",
    "        ans=len(nums)+1\n",
    "        ii=0\n",
    "\t\t#insterting elements as 'keys' and [index1,index2,index3] index's of that ele in list ,,as 'values' in dictionary;\n",
    "        for i in nums:\n",
    "            if i in dic:\n",
    "                dic[i].append(ii)\n",
    "            else:\n",
    "                dic.update({i:[ii]})\n",
    "            ii+=1\n",
    "        deg=2\n",
    "\t\t#this loop is for finding ele with highest degree and stores its length of 'first to last' index(which is smallest length of that subarray);\n",
    "        for k,v in dic.items():\n",
    "\t\t\tif len(v)>deg:     #it filters ele with higher degree and stores its len of subarray\n",
    "                deg=len(v)\n",
    "                sub=v[-1]-v[0]+1\n",
    "                ans=sub\n",
    "            elif len(v)==deg:    #if two ele has same degree, it stores smallest len of subarray in \"ans\";\n",
    "                deg=len(v)\n",
    "                sub=v[-1]-v[0]+1\n",
    "                if sub<ans:\n",
    "                    ans=sub\n",
    "            \n",
    "        if ans==len(nums)+1:        #if degree of all ele are same and equals to '1';\n",
    "            return 1\n",
    "        else:\n",
    "            return ans"
   ]
  },
  {
   "cell_type": "markdown",
   "metadata": {},
   "source": [
    "# 1-bit and 2-bit Characters\n",
    "\n",
    "\n",
    "Share\n",
    "We have two special characters. The first character can be represented by one bit 0. The second character can be represented by two bits (10 or 11).\n",
    "\n",
    "Now given a string represented by several bits. Return whether the last character must be a one-bit character or not. The given string will always end with a zero.\n",
    "\n",
    "Example 1:\n",
    "Input: \n",
    "bits = [1, 0, 0]\n",
    "Output: True\n",
    "Explanation: \n",
    "The only way to decode it is two-bit character and one-bit character. So the last character is one-bit character.\n",
    "Example 2:\n",
    "Input: \n",
    "bits = [1, 1, 1, 0]\n",
    "Output: False\n",
    "Explanation: \n",
    "The only way to decode it is two-bit character and two-bit character. So the last character is NOT one-bit character.\n",
    "Note:\n",
    "\n",
    "1 <= len(bits) <= 1000.\n",
    "bits[i] is always 0 or 1.\n",
    "Accepted"
   ]
  },
  {
   "cell_type": "code",
   "execution_count": null,
   "metadata": {},
   "outputs": [],
   "source": [
    "class Solution:\n",
    "    def isOneBitCharacter(self, bits: List[int]) -> bool:\n",
    "        start = 0\n",
    "        out = bool\n",
    "        while(start<len(bits)):\n",
    "            if(bits[start]==0):\n",
    "                out = True\n",
    "                start += 1\n",
    "            elif(bits[start]==1):\n",
    "                start += 2\n",
    "                out = False\n",
    "        return out"
   ]
  },
  {
   "cell_type": "code",
   "execution_count": null,
   "metadata": {},
   "outputs": [],
   "source": [
    "class Solution:\n",
    "def isOneBitCharacter(self, bits) -> bool:\n",
    "if bits == [0]:\n",
    "return True\n",
    "if bits == [1,0] or bits == [1,1]:\n",
    "return False\n",
    "\n",
    "    if bits[0] == 0:\n",
    "        return self.isOneBitCharacter(bits[1:])\n",
    "    if bits[0] == 1:\n",
    "        return self.isOneBitCharacter(bits[2:])"
   ]
  },
  {
   "cell_type": "code",
   "execution_count": null,
   "metadata": {},
   "outputs": [],
   "source": [
    "# I found everyone's solution great and I just wanted to share my idea.\n",
    "\n",
    "\n",
    "def isOneBitCharacter(self, bits: List[int]) -> bool:\n",
    "    \n",
    "\t# If the last element = '1', simply return False\n",
    "    if bits[-1] == 1: \n",
    "        return False\n",
    "    \n",
    "    bits.pop()\n",
    "    rev = bits[::-1]\n",
    "    # check two different cases after removing the last '0'\n",
    "    # 1) [1,0,1,0] False, [1,0,1,1,0] True\n",
    "    # 2) [1,1,1,0] False, [1,1,1,1,0] True\n",
    "    if 0 in rev: # 1)\n",
    "        return rev.index(0) % 2 == 0\n",
    "    else:  # 2)\n",
    "        return len(rev) % 2 == 0"
   ]
  },
  {
   "cell_type": "markdown",
   "metadata": {},
   "source": [
    "# Robot Return to Origin\n",
    "\n",
    "\n",
    "Share\n",
    "There is a robot starting at position (0, 0), the origin, on a 2D plane. Given a sequence of its moves, judge if this robot ends up at (0, 0) after it completes its moves.\n",
    "\n",
    "The move sequence is represented by a string, and the character moves[i] represents its ith move. Valid moves are R (right), L (left), U (up), and D (down). If the robot returns to the origin after it finishes all of its moves, return true. Otherwise, return false.\n",
    "\n",
    "Note: The way that the robot is \"facing\" is irrelevant. \"R\" will always make the robot move to the right once, \"L\" will always make it move left, etc. Also, assume that the magnitude of the robot's movement is the same for each move.\n",
    "\n",
    " \n",
    "\n",
    "Example 1:\n",
    "\n",
    "Input: moves = \"UD\"\n",
    "Output: true\n",
    "Explanation: The robot moves up once, and then down once. All moves have the same magnitude, so it ended up at the origin where it started. Therefore, we return true.\n",
    "Example 2:\n",
    "\n",
    "Input: moves = \"LL\"\n",
    "Output: false\n",
    "Explanation: The robot moves left twice. It ends up two \"moves\" to the left of the origin. We return false because it is not at the origin at the end of its moves.\n",
    "Example 3:\n",
    "\n",
    "Input: moves = \"RRDD\"\n",
    "Output: false\n",
    "Example 4:\n",
    "\n",
    "Input: moves = \"LDRRLRUULR\"\n",
    "Output: false\n",
    " \n",
    "\n",
    "Constraints:\n",
    "\n",
    "1 <= moves.length <= 2 * 104\n",
    "moves only contains the characters 'U', 'D', 'L' and 'R'."
   ]
  },
  {
   "cell_type": "code",
   "execution_count": null,
   "metadata": {},
   "outputs": [],
   "source": [
    "        i=0\n",
    "        j=0\n",
    "        for move in moves:\n",
    "            if move==\"L\":\n",
    "                i-=1\n",
    "            elif move==\"R\":\n",
    "                i+=1\n",
    "            elif move==\"U\":\n",
    "                j+=1\n",
    "            elif move==\"D\":\n",
    "                j-=1\n",
    "        if i==0 and j==0:\n",
    "            return True\n",
    "        return False"
   ]
  },
  {
   "cell_type": "code",
   "execution_count": null,
   "metadata": {},
   "outputs": [],
   "source": [
    "def judgeCircle(self, moves: str) -> bool:\n",
    "        x = 0\n",
    "        y = 0\n",
    "        \n",
    "        for letter in moves:\n",
    "            if letter == 'U':\n",
    "                y += 1 \n",
    "            elif letter == 'D':\n",
    "                y -= 1\n",
    "            elif letter == 'L':\n",
    "                x -= 1\n",
    "            else:\n",
    "                x += 1\n",
    "                \n",
    "        return True if x == 0 and y == 0 else False"
   ]
  },
  {
   "cell_type": "markdown",
   "metadata": {},
   "source": [
    "# Enumerate"
   ]
  },
  {
   "cell_type": "code",
   "execution_count": 1,
   "metadata": {},
   "outputs": [
    {
     "name": "stdout",
     "output_type": "stream",
     "text": [
      "(0, 11)\n",
      "(1, 22)\n",
      "(2, 33)\n",
      "(3, 44)\n",
      "(4, 55)\n"
     ]
    }
   ],
   "source": [
    "ll = [11,22,33,44,55]\n",
    "for ele in enumerate(ll):\n",
    "    print (ele)"
   ]
  },
  {
   "cell_type": "code",
   "execution_count": 3,
   "metadata": {},
   "outputs": [
    {
     "name": "stdout",
     "output_type": "stream",
     "text": [
      "11\n",
      "22\n",
      "33\n",
      "44\n",
      "55\n"
     ]
    }
   ],
   "source": [
    "ll = [11,22,33,44,55]\n",
    "for key , values in enumerate(ll):\n",
    "    print (values)"
   ]
  },
  {
   "cell_type": "markdown",
   "metadata": {},
   "source": [
    "# Find Pivot Index\n",
    "\n",
    "Share\n",
    "Given an array of integers nums, calculate the pivot index of this array.\n",
    "\n",
    "The pivot index is the index where the sum of all the numbers strictly to the left of the index is equal to the sum of all the numbers strictly to the index's right.\n",
    "\n",
    "If the index is on the left edge of the array, then the left sum is 0 because there are no elements to the left. This also applies to the right edge of the array.\n",
    "\n",
    "Return the leftmost pivot index. If no such index exists, return -1.\n",
    "\n",
    " \n",
    "\n",
    "Example 1:\n",
    "\n",
    "Input: nums = [1,7,3,6,5,6]\n",
    "Output: 3\n",
    "Explanation:\n",
    "The pivot index is 3.\n",
    "Left sum = nums[0] + nums[1] + nums[2] = 1 + 7 + 3 = 11\n",
    "Right sum = nums[4] + nums[5] = 5 + 6 = 11\n",
    "Example 2:\n",
    "\n",
    "Input: nums = [1,2,3]\n",
    "Output: -1\n",
    "Explanation:\n",
    "There is no index that satisfies the conditions in the problem statement.\n",
    "Example 3:\n",
    "\n",
    "Input: nums = [2,1,-1]\n",
    "Output: 0\n",
    "Explanation:\n",
    "The pivot index is 0.\n",
    "Left sum = 0 (no elements to the left of index 0)\n",
    "Right sum = nums[1] + nums[2] = 1 + -1 = 0\n",
    " \n",
    "\n",
    "Constraints:\n",
    "\n",
    "1 <= nums.length <= 104\n",
    "-1000 <= nums[i] <= 1000"
   ]
  },
  {
   "cell_type": "code",
   "execution_count": null,
   "metadata": {},
   "outputs": [],
   "source": [
    "class Solution:\n",
    "    def pivotIndex(self, nums: List[int]) -> int:\n",
    "        sum_arr = sum(nums)\n",
    "        left_sum = 0\n",
    "        for i in range(len(nums)):\n",
    "            if i != 0:               \n",
    "                left_sum = left_sum + nums[i-1]\n",
    "            if sum_arr - left_sum - nums[i] == left_sum:\n",
    "                return i\n",
    "            \n",
    "        return -1"
   ]
  },
  {
   "cell_type": "code",
   "execution_count": null,
   "metadata": {},
   "outputs": [],
   "source": [
    "class Solution:\n",
    "    def pivotIndex(self, nums: List[int]) -> int:\n",
    "        for i in range(len(nums)):\n",
    "            if sum(nums[:i]) == sum(nums[i+1:]):\n",
    "                return i\n",
    "        \n",
    "        return -1"
   ]
  },
  {
   "cell_type": "code",
   "execution_count": 4,
   "metadata": {},
   "outputs": [],
   "source": [
    "class Solution(object):\n",
    "    def pivotIndex(self, nums):\n",
    "        \"\"\"\n",
    "        :type nums: List[int]\n",
    "        :rtype: int\n",
    "        \"\"\"\n",
    "        List =[];\n",
    "        leng= len(nums)\n",
    "        for num in nums:\n",
    "            if len(List) != 0 :\n",
    "                List.append(List[len(List)-1] + num)\n",
    "            else:\n",
    "                List.append(num)\n",
    "                \n",
    "        \n",
    "        for i in range(len(List)) :\n",
    "            if List[i] == (List[leng-1] - List[i] + nums[i]) :\n",
    "                return i\n",
    "       \n",
    "        \n",
    "        \n",
    "        return -1"
   ]
  },
  {
   "cell_type": "markdown",
   "metadata": {},
   "source": [
    "# Min Cost Climbing Stairs\n",
    "\n",
    "Share\n",
    "You are given an integer array cost where cost[i] is the cost of ith step on a staircase. Once you pay the cost, you can either climb one or two steps.\n",
    "\n",
    "You can either start from the step with index 0, or the step with index 1.\n",
    "\n",
    "Return the minimum cost to reach the top of the floor.\n",
    "\n",
    " \n",
    "\n",
    "Example 1:\n",
    "\n",
    "Input: cost = [10,15,20]\n",
    "Output: 15\n",
    "Explanation: Cheapest is: start on cost[1], pay that cost, and go to the top.\n",
    "Example 2:\n",
    "\n",
    "Input: cost = [1,100,1,1,1,100,1,1,100,1]\n",
    "Output: 6\n",
    "Explanation: Cheapest is: start on cost[0], and only step on 1s, skipping cost[3].\n",
    " \n",
    "\n",
    "Constraints:\n",
    "\n",
    "2 <= cost.length <= 1000\n",
    "0 <= cost[i] <= 999"
   ]
  },
  {
   "cell_type": "code",
   "execution_count": null,
   "metadata": {},
   "outputs": [],
   "source": [
    "class Solution:\n",
    "    def minCostClimbingStairs(self, cost: List[int]) -> int:\n",
    "        for i in range(2, len(cost)):            \n",
    "            cost[i] += min(cost[i-1], cost[i-2])\n",
    "        return min(cost[len(cost)-1], cost[len(cost)-2])"
   ]
  },
  {
   "cell_type": "code",
   "execution_count": null,
   "metadata": {},
   "outputs": [],
   "source": [
    "    costs[0] = cost[0]\n",
    "    if l == 1:\n",
    "        return costs[0]\n",
    "    \n",
    "    costs[1] = cost[1]\n",
    "    if l == 2:\n",
    "        return min(cost[0], cost[1])\n",
    "    for i in range(2,l):\n",
    "        costs[i] = min(costs[i-1] + cost[i], costs[i-2] + cost[i])\n",
    "    \n",
    "    return min(costs[l-1], costs[l-2])"
   ]
  },
  {
   "cell_type": "code",
   "execution_count": null,
   "metadata": {},
   "outputs": [],
   "source": [
    "#This solution involves a recursive approach using a memo to cache results.\n",
    "#It's quite easy to understand if we think about this like a tree composed of walked steps:\n",
    "\n",
    "#\t\t\t\t0\n",
    "#\t\t\t1        2\n",
    "#\t\t2     3    3    4   \n",
    "#     3   4  4  5  4  5 5  6\n",
    "# From the starting point, we can advance 1 or 2 steps every time, so we keep going down until we get pass the final step, which is len(cost).\n",
    "#So for the initial array [10,15,20] the final step will be the number 3.\n",
    "\n",
    "#So what we need to do, is to do a top bottom approach:\n",
    "\n",
    "#We reach the final step, and return the cost of that step, which will be zero, cause we are out of the stairs.\n",
    "#For each step, we check the cost of climbing with 1 step or 2, and return as the cost for that step, the minimum value between 1 or 2 steps + the cost of the current step.\n",
    "#It's easy to see like for each node of the tree, we just need to check the cost for our left and right childs, and return the minium of that.\n",
    "\n",
    "# As you can see in the previous tree, we will get so many times to the node three, so we can use a cache to keep the minimum cost for climbing from each node, and in case we repeat nodes in the process, we don't need to calculate that again.\n",
    "\n",
    "class Solution:\n",
    "    def helper(self, cost, currentStep, memo):\n",
    "        if len(cost) <= currentStep:\n",
    "            return 0 \n",
    "        \n",
    "        if currentStep in memo:\n",
    "            return memo[currentStep]\n",
    "        \n",
    "        currentCost = cost[currentStep]\n",
    "        oneStepCost = self.helper(cost, currentStep + 1, memo)\n",
    "        twoStepCost = self.helper(cost, currentStep + 2, memo)\n",
    "        \n",
    "        memo[currentStep] = currentCost + min(oneStepCost, twoStepCost)\n",
    "        \n",
    "        return memo[currentStep]\n",
    "        \n",
    "    def minCostClimbingStairs(self, cost: List[int]) -> int:   \n",
    "        memo = {}\n",
    "        return min(self.helper(cost, 0, memo), self.helper(cost, 1, memo))\n",
    "#Space cost will be O(N), where N dictates the height of the tree (equivalent to step number)\n",
    "#Temp cost will be O(N), cause we are using a cache, so instead of doing 2^N calls every iteration, we will only do it once."
   ]
  },
  {
   "cell_type": "markdown",
   "metadata": {},
   "source": [
    "# Largest Number At Least Twice of Others\n",
    "\n",
    "\n",
    "Share\n",
    "You are given an integer array nums where the largest integer is unique.\n",
    "\n",
    "Find whether the largest element in the array is at least twice as much as every other number in the array. If it is, return the index of the largest element, otherwise, return -1.\n",
    "\n",
    " \n",
    "\n",
    "Example 1:\n",
    "\n",
    "Input: nums = [3,6,1,0]\n",
    "Output: 1\n",
    "Explanation: 6 is the largest integer and for every other number in the array x,\n",
    "6 is more than twice as big as x.\n",
    "The index of value 6 is 1, so we return 1.\n",
    "Example 2:\n",
    "\n",
    "Input: nums = [1,2,3,4]\n",
    "Output: -1\n",
    "Explanation: 4 is not at least as big as twice the value of 3, so we return -1.\n",
    " \n",
    "\n",
    "Constraints:\n",
    "\n",
    "1 <= nums.length <= 50\n",
    "0 <= nums[i] <= 100\n",
    "The largest element in nums is unique.\n",
    "Accepted\n",
    "113.9K\n",
    "Submissions\n",
    "263.4K"
   ]
  },
  {
   "cell_type": "code",
   "execution_count": null,
   "metadata": {},
   "outputs": [],
   "source": [
    "class Solution:\n",
    "    def dominantIndex(self, nums: List[int]) -> int:\n",
    "        z = nums\n",
    "        m = max(z)\n",
    "        z.remove(m)\n",
    "        x = max(z)\n",
    "        if m>=2*x:\n",
    "            return nums.index(x)\n",
    "        else:\n",
    "            print(-1)\n",
    "        "
   ]
  },
  {
   "cell_type": "code",
   "execution_count": null,
   "metadata": {},
   "outputs": [],
   "source": [
    "class Solution:\n",
    "    def dominantIndex(self, nums: List[int]) -> int:\n",
    "        max1,max2=-1,-1\n",
    "        c=0\n",
    "        for i in range(len(nums)):\n",
    "            if nums[i]>max1:\n",
    "                max2=max1\n",
    "                max1=nums[i]\n",
    "                c=i\n",
    "            if max2<nums[i] and max1>nums[i]:\n",
    "                max2=nums[i]\n",
    "        \n",
    "        \n",
    "        if max1>=(2*max2):\n",
    "            return c\n",
    "        return -1"
   ]
  },
  {
   "cell_type": "code",
   "execution_count": null,
   "metadata": {},
   "outputs": [],
   "source": [
    "class Solution:\n",
    "    def dominantIndex(self, nums: List[int]) -> int:\n",
    "        # single scan? set the first and second largest as you go through\n",
    "        # and check that the second * 2 is not > first\n",
    "        first, second = 0, 0\n",
    "        max_index = 0\n",
    "        \n",
    "        for i, x in enumerate(nums):\n",
    "            if x > first:\n",
    "                max_index = i\n",
    "                first, second = x, first\n",
    "            elif x > second:\n",
    "                second = x\n",
    "        \n",
    "        return max_index if first >= second * 2 else"
   ]
  },
  {
   "cell_type": "markdown",
   "metadata": {},
   "source": [
    "# Reverse Vowels of a String\n",
    "\n",
    "\n",
    "Share\n",
    "Given a string s, reverse only all the vowels in the string and return it.\n",
    "\n",
    "The vowels are 'a', 'e', 'i', 'o', and 'u', and they can appear in both cases.\n",
    "\n",
    " \n",
    "\n",
    "Example 1:\n",
    "\n",
    "Input: s = \"hello\"\n",
    "Output: \"holle\"\n",
    "Example 2:\n",
    "\n",
    "Input: s = \"leetcode\"\n",
    "Output: \"leotcede\"\n",
    " \n",
    "\n",
    "Constraints:\n",
    "\n",
    "1 <= s.length <= 3 * 105\n",
    "s consist of printable ASCII characters."
   ]
  },
  {
   "cell_type": "code",
   "execution_count": null,
   "metadata": {},
   "outputs": [],
   "source": [
    "class Solution:\n",
    "    def reverseVowels(self, s: str) -> str:\n",
    "        pointer1 = 0\n",
    "        pointer2 = len(s)-1\n",
    "        vowels = [\"a\", \"e\", \"i\", \"o\", \"u\", \"A\", \"E\", \"I\", \"O\", \"U\"]\n",
    "        l = list(s)\n",
    "        while pointer1 < pointer2:\n",
    "            if l[pointer1] in vowels and l[pointer2] in vowels:\n",
    "                l[pointer2], l[pointer1] = l[pointer1], l[pointer2]\n",
    "                pointer1 += 1\n",
    "                pointer2 -= 1\n",
    "            elif l[pointer1] in vowels and l[pointer2] not in vowels:\n",
    "                pointer2 -= 1\n",
    "            elif l[pointer1] not in vowels and l[pointer2] in vowels:\n",
    "                pointer1 += 1\n",
    "            elif l[pointer1] not in vowels and l[pointer2] not in vowels:\n",
    "                pointer1 += 1\n",
    "                pointer2 -= 1"
   ]
  },
  {
   "cell_type": "code",
   "execution_count": null,
   "metadata": {},
   "outputs": [],
   "source": [
    "#I know that using a while loop with condition p1<p2 would be more logical but for loops are faster in python.\n",
    "#You can use a list of vowels for the \"vls\" variable but the lookup time for s[p1] in vls will be O(n). Since we are using a set, the lookup time is O(1)\n",
    "class Solution:\n",
    "    def reverseVowels(self, s: str) -> str:\n",
    "        \n",
    "        s = list(s)\n",
    "        p2 = len(s)-1\n",
    "        vls = set(list(\"aeiouAEIOU\"))\n",
    "        \n",
    "        for p1 in range(0, len(s)):\n",
    "           \n",
    "            if p1 >= p2:\n",
    "                break\n",
    "            \n",
    "            if s[p1] in vls:\n",
    "                \n",
    "                while not s[p2] in vls:\n",
    "                    p2 -= 1\n",
    "                \n",
    "                s[p1], s[p2] = s[p2], s[p1]\n",
    "                p2-= 1\n",
    "        \n",
    "        return \"\".join(s)"
   ]
  },
  {
   "cell_type": "code",
   "execution_count": null,
   "metadata": {},
   "outputs": [],
   "source": [
    "class Solution:\n",
    "    def reverseVowels(self, s: str) -> str:\n",
    "        s_vowels = (i for i in s[::-1] if i in \"aeiouAIUEO\")\n",
    "        output_string = \"\"\n",
    "        \n",
    "        for i in s:\n",
    "            if i in \"aeiouAEIOU\":\n",
    "                output_string += next(s_vowels)\n",
    "            else:\n",
    "                output_string += i\n",
    "                \n",
    "        return output_string"
   ]
  },
  {
   "cell_type": "code",
   "execution_count": null,
   "metadata": {},
   "outputs": [],
   "source": [
    "#Intuition\n",
    "#(1) Keep vowels in stack with reverse order\n",
    "#(2) loop the string and only replace the vowels.\n",
    "\n",
    "\n",
    "    def reverseVowels(self, s: str) -> str:\n",
    "\n",
    "        vowels = \"aeiouAEIOU\"\n",
    "        stack = [x for x in s if x in vowels]\n",
    "        ans = [stack.pop() if v in vowels else v for v in s]\n",
    "\n",
    "        return \"\".join(ans)"
   ]
  },
  {
   "cell_type": "code",
   "execution_count": null,
   "metadata": {},
   "outputs": [],
   "source": [
    "class Solution:\n",
    "    def reverseVowels(self, s: str) -> str:\n",
    "\n",
    "        vowel_index=[]\n",
    "        vowel_chars=[]\n",
    "    \n",
    "        for i,char in enumerate(s):\n",
    "            if char.lower() in 'aeiou':\n",
    "                vowel_index.append(i)\n",
    "                vowel_chars.append(char)\n",
    "    \n",
    "        vowel_chars.reverse()\n",
    "        reversed_vowels= {vowel_index[i]: vowel_chars[i] for i in range(len(vowel_index))}\n",
    "    \n",
    "        list_s=list(s)\n",
    "    \n",
    "        for j,(index,char) in enumerate(reversed_vowels.items()):\n",
    "            list_s[index]=char\n",
    "        res=\"\".join(list_s)\n",
    "        return res"
   ]
  },
  {
   "cell_type": "code",
   "execution_count": null,
   "metadata": {},
   "outputs": [],
   "source": [
    "   def reverseVowels(self, s: str) -> str:\n",
    "        vowels = \"aeiouAEIOU\"\n",
    "        s1 =[None]*len(s)\n",
    "        s2=\"\"\n",
    "        for i,c in enumerate(s):\n",
    "            if c in vowels:\n",
    "                s2+=c\n",
    "            else:\n",
    "                s1[i]=c        \n",
    "        s2=s2[::-1]\n",
    "        j=0\n",
    "        for i in range(len(s)):\n",
    "            \n",
    "            if s1[i]==None:\n",
    "                s1[i]=s2[j]\n",
    "                j+=1\n",
    "        return \"\".join(s1)"
   ]
  },
  {
   "cell_type": "code",
   "execution_count": 2,
   "metadata": {},
   "outputs": [
    {
     "name": "stdout",
     "output_type": "stream",
     "text": [
      "3\n"
     ]
    }
   ],
   "source": [
    "matrix = [[1,2,3,4],[5,1,2,3],[9,5,1,2]]\n",
    "p =len(matrix)\n",
    "print(p)"
   ]
  },
  {
   "cell_type": "markdown",
   "metadata": {},
   "source": [
    "# TOEPLITZ\n",
    "Given an m x n matrix, return true if the matrix is Toeplitz. Otherwise, return false.\n",
    "\n",
    "A matrix is Toeplitz if every diagonal from top-left to bottom-right has the same elements.\n",
    "\n",
    " \n",
    "\n",
    "Example 1:\n",
    "\n",
    "\n",
    "Input: matrix = [[1,2,3,4],[5,1,2,3],[9,5,1,2]]\n",
    "Output: true\n",
    "Explanation:\n",
    "In the above grid, the diagonals are:\n",
    "\"[9]\", \"[5, 5]\", \"[1, 1, 1]\", \"[2, 2, 2]\", \"[3, 3]\", \"[4]\".\n",
    "In each diagonal all elements are the same, so the answer is True.\n",
    "Example 2:\n",
    "\n",
    "\n",
    "Input: matrix = [[1,2],[2,2]]\n",
    "Output: false\n",
    "Explanation:\n",
    "The diagonal \"[1, 2]\" has different elements.\n",
    " \n",
    "\n",
    "Constraints:\n",
    "\n",
    "m == matrix.length\n",
    "n == matrix[i].length\n",
    "1 <= m, n <= 20\n",
    "0 <= matrix[i][j] <= 99\n",
    " \n",
    "\n",
    "Follow up:\n",
    "\n",
    "What if the matrix is stored on disk, and the memory is limited such that you can only load at most one row of the matrix into the memory at once?\n",
    "What if the matrix is so large that you can only load up a partial row into the memory at once?"
   ]
  },
  {
   "cell_type": "code",
   "execution_count": null,
   "metadata": {},
   "outputs": [],
   "source": [
    "class Solution:\n",
    "    def isToeplitzMatrix(self, matrix: List[List[int]]) -> bool:\n",
    "        for i in range(len(matrix[0])-1):\n",
    "            start = 0\n",
    "            end = i\n",
    "            while(start<len(matrix)-1 and end<len(matrix[0])-1):\n",
    "                if(matrix[start][end]==matrix[start+1][end+1]):\n",
    "                    start += 1\n",
    "                    end += 1\n",
    "                else:\n",
    "                    return False\n",
    "        for j in range(len(matrix)-1):\n",
    "            start = j\n",
    "            end = 0\n",
    "            while(start<len(matrix)-1 and end<len(matrix[0])-1):\n",
    "                if(matrix[start][end]==matrix[start+1][end+1]):\n",
    "                    start += 1\n",
    "                    end += 1\n",
    "                else:\n",
    "                    return False\n",
    "        return True     "
   ]
  },
  {
   "cell_type": "code",
   "execution_count": null,
   "metadata": {},
   "outputs": [],
   "source": [
    "class Solution:\n",
    "    def isToeplitzMatrix(self, matrix: List[List[int]]) -> bool:\n",
    "        \n",
    "        copy = matrix[0]\n",
    "        \n",
    "        for i in matrix[1:]:\n",
    "            copy = [i[0]] + copy[:-1]\n",
    "            if(i != copy): return False\n",
    "        \n",
    "        return True\n",
    "            "
   ]
  },
  {
   "cell_type": "code",
   "execution_count": 4,
   "metadata": {},
   "outputs": [
    {
     "name": "stdout",
     "output_type": "stream",
     "text": [
      "{'a': 1, 'b': 2, 'x': 4, 'z': 2, 'y': 1}\n"
     ]
    }
   ],
   "source": [
    "s = \"abbxxxxzzy\"\n",
    "d={}\n",
    "for i in s:\n",
    "    d[i] = d.get(i, 0)+1\n",
    "for ch,count in d:\n",
    "    \n"
   ]
  },
  {
   "cell_type": "code",
   "execution_count": null,
   "metadata": {},
   "outputs": [],
   "source": []
  },
  {
   "cell_type": "code",
   "execution_count": null,
   "metadata": {},
   "outputs": [],
   "source": [
    "def largeGroupPositions(self, s: str) -> List[List[int]]:\n",
    "\tl = len(s)\n",
    "\n",
    "\ti = 0\n",
    "\tres = []\n",
    "\t\n",
    "\twhile i<l:\n",
    "\t\tj = i+1\n",
    "\t\twhile j<l and s[j]==s[i]:\n",
    "\t\t\tj+=1\n",
    "\t\tif j-i>=3:\n",
    "\t\t\tres.append([i,j-1])\n",
    "\t\ti=j\n",
    "\t\t\n",
    "\treturn res"
   ]
  },
  {
   "cell_type": "code",
   "execution_count": null,
   "metadata": {},
   "outputs": [],
   "source": [
    "class Solution:\n",
    "    def largeGroupPositions(self, s: str) -> List[List[int]]:\n",
    "        start = 1\n",
    "        end = len(s)\n",
    "        li = []\n",
    "        while(start<end):\n",
    "            count = 1\n",
    "            st = start\n",
    "            while(start<end and s[start]==s[start-1]):\n",
    "                count += 1\n",
    "                start += 1\n",
    "            if(count>2):    \n",
    "                li.append([st-1,start-1])    \n",
    "            start += 1    \n",
    "        return li"
   ]
  },
  {
   "cell_type": "code",
   "execution_count": null,
   "metadata": {},
   "outputs": [],
   "source": [
    "class Solution:\n",
    "    def largeGroupPositions(self, s: str) -> List[List[int]]:\n",
    "        if len(s)<3:\n",
    "            return []\n",
    "        a=[]\n",
    "        i,j=0,0\n",
    "        while i<=j<len(s)-1:\n",
    "            if s[j+1]==s[j]:\n",
    "                j+=1\n",
    "            else:\n",
    "                if j-i>=2:\n",
    "                    a.append([i,j])\n",
    "                i=j+1\n",
    "                j=i\n",
    "            \n",
    "            if j==len(s)-1:\n",
    "                if j-i>=2:\n",
    "                    a.append([i,j])\n",
    "                break\n",
    "            \n",
    "        return a"
   ]
  },
  {
   "cell_type": "markdown",
   "metadata": {},
   "source": [
    "# Flipping an Image\n",
    "\n",
    "Given an n x n binary matrix image, flip the image horizontally, then invert it, and return the resulting image.\n",
    "\n",
    "To flip an image horizontally means that each row of the image is reversed.\n",
    "\n",
    "For example, flipping [1,1,0] horizontally results in [0,1,1].\n",
    "To invert an image means that each 0 is replaced by 1, and each 1 is replaced by 0.\n",
    "\n",
    "For example, inverting [0,1,1] results in [1,0,0].\n",
    " \n",
    "\n",
    "Example 1:\n",
    "\n",
    "Input: image = [[1,1,0],[1,0,1],[0,0,0]]\n",
    "Output: [[1,0,0],[0,1,0],[1,1,1]]\n",
    "Explanation: First reverse each row: [[0,1,1],[1,0,1],[0,0,0]].\n",
    "Then, invert the image: [[1,0,0],[0,1,0],[1,1,1]]\n",
    "Example 2:\n",
    "\n",
    "Input: image = [[1,1,0,0],[1,0,0,1],[0,1,1,1],[1,0,1,0]]\n",
    "Output: [[1,1,0,0],[0,1,1,0],[0,0,0,1],[1,0,1,0]]\n",
    "Explanation: First reverse each row: [[0,0,1,1],[1,0,0,1],[1,1,1,0],[0,1,0,1]].\n",
    "Then invert the image: [[1,1,0,0],[0,1,1,0],[0,0,0,1],[1,0,1,0]]\n",
    " \n",
    "\n",
    "Constraints:\n",
    "\n",
    "n == image.length\n",
    "n == image[i].length\n",
    "1 <= n <= 20\n",
    "images[i][j] is either 0 or 1."
   ]
  },
  {
   "cell_type": "code",
   "execution_count": null,
   "metadata": {},
   "outputs": [],
   "source": [
    "class Solution:\n",
    "\tdef flipAndInvertImage(self, image: List[List[int]]) -> List[List[int]]:\n",
    "\t\ta=[]\n",
    "\t\tfor i in image:\n",
    "\t\t\ta.append(i[::-1])\n",
    "\t\tres=[]\n",
    "\t\tfor i in a:\n",
    "\t\t\ti=[x^1 for x in i]\n",
    "\t\t\tres.append(i)\n",
    "\t\treturn res"
   ]
  },
  {
   "cell_type": "code",
   "execution_count": null,
   "metadata": {},
   "outputs": [],
   "source": [
    "class Solution:\n",
    "    def flipAndInvertImage(self, image: List[List[int]]) -> List[List[int]]:\n",
    "        for i in range(0, len(image)):\n",
    "            \n",
    "            image[i].reverse()\n",
    "            \n",
    "            for j in range(0, len(image[0])):\n",
    "                \n",
    "                if image[i][j] == 0:\n",
    "                    image[i][j] = 1        \n",
    "                else:\n",
    "                    image[i][j] = 0\n",
    "        \n",
    "        return image"
   ]
  },
  {
   "cell_type": "code",
   "execution_count": null,
   "metadata": {},
   "outputs": [],
   "source": [
    "class Solution:\n",
    "          \n",
    "    def flipAndInvertImage(self, image: List[List[int]]) -> List[List[int]]:\n",
    "        return  ((int(not(num)) for num in row[::-1]) for row in image)"
   ]
  },
  {
   "cell_type": "markdown",
   "metadata": {},
   "source": [
    "# Transpose Matrix\n",
    "\n",
    "Given a 2D integer array matrix, return the transpose of matrix.\n",
    "\n",
    "The transpose of a matrix is the matrix flipped over its main diagonal, switching the matrix's row and column indices.\n",
    "\n",
    "\n",
    "\n",
    " \n",
    "\n",
    "Example 1:\n",
    "\n",
    "Input: matrix = [[1,2,3],[4,5,6],[7,8,9]]\n",
    "Output: [[1,4,7],[2,5,8],[3,6,9]]\n",
    "Example 2:\n",
    "\n",
    "Input: matrix = [[1,2,3],[4,5,6]]\n",
    "Output: [[1,4],[2,5],[3,6]]\n",
    " \n",
    "\n",
    "Constraints:\n",
    "\n",
    "m == matrix.length\n",
    "n == matrix[i].length\n",
    "1 <= m, n <= 1000\n",
    "1 <= m * n <= 105\n",
    "-109 <= matrix[i][j] <= 109"
   ]
  },
  {
   "cell_type": "code",
   "execution_count": null,
   "metadata": {},
   "outputs": [],
   "source": [
    "class Solution:\n",
    "    def transpose(self, matrix: List[List[int]]) -> List[List[int]]: \n",
    "        return [[row[i] for row in matrix] for i in range(len(matrix[0]))]\n",
    "# Time is much better\n",
    "\n",
    "class Solution:\n",
    "    def transpose(self, matrix: List[List[int]]) -> List[List[int]]: \n",
    "        return list(zip(*matrix))"
   ]
  },
  {
   "cell_type": "code",
   "execution_count": null,
   "metadata": {},
   "outputs": [],
   "source": [
    "class Solution:\n",
    "    def transpose(self, matrix: List[List[int]]) -> List[List[int]]:\n",
    "        rows = len(matrix)\n",
    "        cols = len(matrix[0])\n",
    "        output = [[0 for _ in range(rows)] for __ in range(cols)]\n",
    "        for i in range(rows):\n",
    "            for j in range(cols):\n",
    "                output[j][i] = matrix[i][j]\n",
    "        return output"
   ]
  },
  {
   "cell_type": "code",
   "execution_count": null,
   "metadata": {},
   "outputs": [],
   "source": [
    "def transpose(self, matrix):\n",
    "        map_={}\n",
    "        arr1=[]\n",
    "        for i in range(0,len(matrix)):\n",
    "            for j in range(0,len(matrix[0])):\n",
    "                if j in map_:\n",
    "                    map_[j].append(matrix[i][j])\n",
    "                else:\n",
    "                    map_[j]=[matrix[i][j]]\n",
    "        # print(map_)\n",
    "        for key,value in map_.items():\n",
    "            arr1.append(value)\n",
    "        return arr1"
   ]
  },
  {
   "cell_type": "code",
   "execution_count": null,
   "metadata": {},
   "outputs": [],
   "source": []
  },
  {
   "cell_type": "code",
   "execution_count": null,
   "metadata": {},
   "outputs": [],
   "source": []
  },
  {
   "cell_type": "code",
   "execution_count": null,
   "metadata": {},
   "outputs": [],
   "source": []
  },
  {
   "cell_type": "code",
   "execution_count": null,
   "metadata": {},
   "outputs": [],
   "source": []
  },
  {
   "cell_type": "code",
   "execution_count": null,
   "metadata": {},
   "outputs": [],
   "source": []
  }
 ],
 "metadata": {
  "kernelspec": {
   "display_name": "Python 3",
   "language": "python",
   "name": "python3"
  },
  "language_info": {
   "codemirror_mode": {
    "name": "ipython",
    "version": 3
   },
   "file_extension": ".py",
   "mimetype": "text/x-python",
   "name": "python",
   "nbconvert_exporter": "python",
   "pygments_lexer": "ipython3",
   "version": "3.8.5"
  }
 },
 "nbformat": 4,
 "nbformat_minor": 4
}
